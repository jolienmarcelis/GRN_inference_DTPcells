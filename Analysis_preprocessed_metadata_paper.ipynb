{
 "cells": [
  {
   "cell_type": "markdown",
   "metadata": {},
   "source": [
    "# 1. Import libraries"
   ]
  },
  {
   "cell_type": "code",
   "execution_count": null,
   "metadata": {},
   "outputs": [],
   "source": [
    "import pandas as pd\n",
    "import numpy as np"
   ]
  },
  {
   "cell_type": "markdown",
   "metadata": {},
   "source": [
    "# 2. Load metadata"
   ]
  },
  {
   "cell_type": "code",
   "execution_count": null,
   "metadata": {},
   "outputs": [],
   "source": [
    "# Load metadata from GEO\n",
    "df_metaData_with_lineage = pd.read_csv('/data/benchmarks/scRNAseq_persisters/GSE150949_metaData_with_lineage.txt', sep=\"\\t\")\n",
    "df_metaData_with_lineage"
   ]
  },
  {
   "cell_type": "code",
   "execution_count": null,
   "metadata": {},
   "outputs": [],
   "source": [
    "# Load metadata from Seurat object\n",
    "df_metadata = pd.read_csv(\"/data/benchmarks/scRNAseq_persisters/metadata_seuratobject.csv\")\n",
    "df_metadata"
   ]
  },
  {
   "cell_type": "markdown",
   "metadata": {},
   "source": [
    "# 2. Analysis"
   ]
  },
  {
   "cell_type": "markdown",
   "metadata": {},
   "source": [
    "### 2.1 Check alignment of the dataframes"
   ]
  },
  {
   "cell_type": "code",
   "execution_count": null,
   "metadata": {},
   "outputs": [],
   "source": [
    "# Check if the order of observations is the same\n",
    "if df_metaData_with_lineage.index.tolist() == df_metadata['Unnamed: 0'].tolist():\n",
    "    print(\"Indices match!\")\n",
    "else:\n",
    "    print(\"Indices do not match. Proceeding to align.\")"
   ]
  },
  {
   "cell_type": "code",
   "execution_count": null,
   "metadata": {},
   "outputs": [],
   "source": [
    "# Check if lineage barcode columns are the same for the two dataframes\n",
    "if df_metaData_with_lineage['lineage_barcode'].tolist() == df_metadata['lineage_barcode'].tolist():\n",
    "    print(\"Lineage barcodes match!\")\n",
    "else:\n",
    "    print(\"Lineage barcodes do not match.\")"
   ]
  },
  {
   "cell_type": "code",
   "execution_count": null,
   "metadata": {},
   "outputs": [],
   "source": [
    "# Investigate if/how many barcodes are the same for the metadata files\n",
    "same_barcodes = 0\n",
    "different_barcodes = 0\n",
    "\n",
    "for i in range(len(df_metaData_with_lineage['lineage_barcode'])):\n",
    "    barcode_df1 = df_metaData_with_lineage['lineage_barcode'][i]\n",
    "    # print(barcode_df1)\n",
    "    barcode_df2 = df_metadata.loc[i,'lineage_barcode']\n",
    "    # print(barcode_df2)\n",
    "    if barcode_df1==barcode_df2:\n",
    "        same_barcodes = same_barcodes + 1\n",
    "    else:\n",
    "        different_barcodes = different_barcodes+ 1\n",
    "    # print('same_barcodes', same_barcodes)\n",
    "\n",
    "print('ratio same:', same_barcodes/(same_barcodes+different_barcodes))\n",
    "    "
   ]
  },
  {
   "cell_type": "markdown",
   "metadata": {},
   "source": [
    "Interestingly, the lineage barcodes of the two dataframes do not align. There are cells that had 'NaN' as lineage barcode in the dataframe directly obtained from Gene Expression Omnibus (GEO) that appear to have a lineage barcode in the metadata of the Seurat object (which was obtained from the github page related to the paper)."
   ]
  },
  {
   "cell_type": "markdown",
   "metadata": {},
   "source": [
    "I continued with aligning and combining the two dataframes, since the cell index is the same."
   ]
  },
  {
   "cell_type": "markdown",
   "metadata": {},
   "source": [
    "### 2.2 Combine metadata dataframes"
   ]
  },
  {
   "cell_type": "code",
   "execution_count": null,
   "metadata": {},
   "outputs": [],
   "source": [
    "# Add lineage barcodes of metadata of seurat object (from R data file) to the dataframe \n",
    "df_metaData_with_lineage['lineage_barcode_Rdata'] = df_metadata['lineage_barcode'].tolist()\n",
    "df_metaData_with_lineage"
   ]
  },
  {
   "cell_type": "code",
   "execution_count": null,
   "metadata": {},
   "outputs": [],
   "source": [
    "# Add majority fate of the cells retrieved from the metadata of seurat object (from R data file) to the dataframe \n",
    "df_metaData_with_lineage['majority_fate'] = df_metadata['majority_fate'].tolist()\n",
    "df_metaData_with_lineage"
   ]
  },
  {
   "cell_type": "markdown",
   "metadata": {},
   "source": [
    "### 2.3 Check distribution of the data over specific groups"
   ]
  },
  {
   "cell_type": "code",
   "execution_count": null,
   "metadata": {},
   "outputs": [],
   "source": [
    "# Check distribution of majority_fate\n",
    "df_metaData_with_lineage['majority_fate'].value_counts()"
   ]
  },
  {
   "cell_type": "code",
   "execution_count": null,
   "metadata": {},
   "outputs": [],
   "source": [
    "# Check distribution of sample_type\n",
    "df_metaData_with_lineage['sample_type'].value_counts()"
   ]
  },
  {
   "cell_type": "markdown",
   "metadata": {},
   "source": [
    "Uneven distribution of the classes, many more non-cycling cells than cycling or moderate cyclers. Maybe this has influence on the majority fate of the lineages"
   ]
  },
  {
   "cell_type": "markdown",
   "metadata": {},
   "source": [
    "### 2.4 Check if the given majority fate is in line with the sample types of day 14 cells of that lineage"
   ]
  },
  {
   "cell_type": "markdown",
   "metadata": {},
   "source": [
    "##### Use metadata file from GEO"
   ]
  },
  {
   "cell_type": "code",
   "execution_count": null,
   "metadata": {},
   "outputs": [],
   "source": [
    "# Check frequencies of lineage barcodes (of the metadata file from GEO)\n",
    "df_metaData_with_lineage['lineage_barcode'].value_counts()\n"
   ]
  },
  {
   "cell_type": "code",
   "execution_count": null,
   "metadata": {},
   "outputs": [],
   "source": [
    "# Check majority fate of a specific lineage\n",
    "\n",
    "df_lineage_1 = df_metaData_with_lineage[df_metaData_with_lineage['lineage_barcode'] == 'AGTGTGTGAGACTCTCTGAGTCTGTGAGAG']        # select the cells having a specific lineage barcode\n",
    "# print(df_lineage_1.head())\n",
    "df_lineage_1_time14 = df_lineage_1[df_lineage_1['time_point']==14]                                                              # select day 14 cells of this lineage\n",
    "# print(df_lineage_1_time14.head())\n",
    "\n",
    "\n",
    "sample_type_time14_counts_lineage_1 = df_lineage_1_time14['sample_type'].value_counts()                                         # get frequencies of the sample types\n",
    "print(sample_type_time14_counts_lineage_1)\n",
    "majority_fate_counts_lineage_1 = df_lineage_1['majority_fate'].value_counts()                                                   # get frequencies of majority fate\n",
    "print(majority_fate_counts_lineage_1)"
   ]
  },
  {
   "cell_type": "markdown",
   "metadata": {},
   "source": [
    "I selected a random lineage barcode (in this case it was the one with highest prevalence) and checked the sample type of the day14 cells with this lineage barcode. Most cells with this lineage were 14_low (=cycling), however, the majority cell fate of the cells is mostly non-cycling.\n",
    "It is anyway remarkable that those cells not all have the same majority fate (same lineage so you would say they have the same majority fate), but this might be caused since the lineage barcodes of the Seurat Object were different than the lineage barcodes in the metadata of the csv file. I should check the previous steps when using the lineage barcodes of the Seurat Object. "
   ]
  },
  {
   "cell_type": "code",
   "execution_count": null,
   "metadata": {},
   "outputs": [],
   "source": [
    "# Check majority fate of a specific lineage --> Try a different barcode \n",
    "\n",
    "df_lineage_2 = df_metaData_with_lineage[df_metaData_with_lineage['lineage_barcode'] == 'TGACAGTGTGTGTGTGTCACTGTCTGTGTG']        # select the cells having a specific lineage barcode\n",
    "# print(df_lineage_2.head())\n",
    "df_lineage_2_time14 = df_lineage_2[df_lineage_2['time_point']==14]                                                              # select day 14 cells of this lineage\n",
    "# print(df_lineage_2_time14.head())\n",
    "\n",
    "\n",
    "sample_type_time14_counts_lineage_2 = df_lineage_2_time14['sample_type'].value_counts()                                         # get frequencies of the sample types\n",
    "print(sample_type_time14_counts_lineage_2)\n",
    "majority_fate_counts_lineage_2 = df_lineage_2['majority_fate'].value_counts()                                                   # get frequencies of majority fate\n",
    "print(majority_fate_counts_lineage_2)"
   ]
  },
  {
   "cell_type": "markdown",
   "metadata": {},
   "source": [
    "##### Use metadata file from Seurat object"
   ]
  },
  {
   "cell_type": "code",
   "execution_count": null,
   "metadata": {},
   "outputs": [],
   "source": [
    "# Check frequencies of lineage barcodes (of the metadata from Seurat object)\n",
    "df_metaData_with_lineage['lineage_barcode_Rdata'].value_counts()"
   ]
  },
  {
   "cell_type": "code",
   "execution_count": null,
   "metadata": {},
   "outputs": [],
   "source": [
    "# Check majority fate of a specific lineage\n",
    " \n",
    "df_lineage_1 = df_metaData_with_lineage[df_metaData_with_lineage['lineage_barcode_Rdata'] == 'AGTGTGTGAGACTCTCTGAGTCTGTGAGAG']      # select the cells having a specific lineage barcode\n",
    "# print(df_lineage_1.head())\n",
    "df_lineage_1_time14 = df_lineage_1[df_lineage_1['time_point']==14]                                                                  # select day 14 cells of this lineage\n",
    "# print(df_lineage_1_time14.head())\n",
    "\n",
    "\n",
    "sample_type_time14_counts_lineage_1 = df_lineage_1_time14['sample_type'].value_counts()                                             # get frequencies of the sample types   \n",
    "print(sample_type_time14_counts_lineage_1)\n",
    "majority_fate_counts_lineage_1 = df_lineage_1['majority_fate'].value_counts()                                                       # get frequencies of majority fate\n",
    "print(majority_fate_counts_lineage_1)"
   ]
  },
  {
   "cell_type": "markdown",
   "metadata": {},
   "source": [
    "when using the lineage barcodes of the Seurat object, we see that the cells of the investigated lineage barcode are mostly 14_high (=non-cycling in case they have the same annotation as in the paper (=mCherry_high = non-cycling_)). The majority cell fate of those cells is all 14_cycling, which indicates that the majority fate is indeed based on the lineages of the Seurat object. However, based on the most common sample_type =14_high, I would expect the majority fate is non-cycling... "
   ]
  },
  {
   "cell_type": "code",
   "execution_count": null,
   "metadata": {},
   "outputs": [],
   "source": [
    "# Check majority fate of a specific lineage --> Try a different barcode\n",
    "\n",
    "df_lineage_2 = df_metaData_with_lineage[df_metaData_with_lineage['lineage_barcode_Rdata'] == 'TGTGAGTCTCTCTCACACACACTCACTGAG']      # select the cells having a specific lineage barcode\n",
    "# print(df_lineage_2.head())\n",
    "df_lineage_2_time14 = df_lineage_2[df_lineage_2['time_point']==14]                                                                  # select day 14 cells of this lineage\n",
    "# print(df_lineage_2_time14.head())\n",
    "\n",
    "\n",
    "sample_type_time14_counts_lineage_2 = df_lineage_2_time14['sample_type'].value_counts()                                             # get frequencies of the sample types\n",
    "print(sample_type_time14_counts_lineage_2)\n",
    "majority_fate_counts_lineage_2 = df_lineage_2['majority_fate'].value_counts()                                                       # get frequencies of majority fate\n",
    "print(majority_fate_counts_lineage_2)"
   ]
  },
  {
   "cell_type": "code",
   "execution_count": null,
   "metadata": {},
   "outputs": [],
   "source": [
    "# Check majority fate of a specific lineage --> Try a different barcode\n",
    "\n",
    "df_lineage_2 = df_metaData_with_lineage[df_metaData_with_lineage['lineage_barcode_Rdata'] == 'ACTCACTCAGAGAGTGAGTGTCAGAGTGTG']      # select the cells having a specific lineage barcode\n",
    "# print(df_lineage_2.head())\n",
    "df_lineage_2_time14 = df_lineage_2[df_lineage_2['time_point']==14]                                                                  # select day 14 cells of this lineage\n",
    "# print(df_lineage_2_time14.head())\n",
    "\n",
    "\n",
    "sample_type_time14_counts_lineage_2 = df_lineage_2_time14['sample_type'].value_counts()                                             # get frequencies of the sample types\n",
    "print(sample_type_time14_counts_lineage_2)\n",
    "majority_fate_counts_lineage_2 = df_lineage_2['majority_fate'].value_counts()                                                       # get frequencies of majority fate\n",
    "print(majority_fate_counts_lineage_2)"
   ]
  },
  {
   "cell_type": "code",
   "execution_count": null,
   "metadata": {},
   "outputs": [],
   "source": [
    "# Check majority fate of a specific lineage --> Try a different barcode\n",
    "\n",
    "df_lineage_2 = df_metaData_with_lineage[df_metaData_with_lineage['lineage_barcode_Rdata'] == 'TGTCAGAGAGTCAGACTGTGAGTGTCTGTC']      # select the cells having a specific lineage barcode\n",
    "# print(df_lineage_2.head())\n",
    "df_lineage_2_time14 = df_lineage_2[df_lineage_2['time_point']==14]                                                                  # select day 14 cells of this lineage\n",
    "# print(df_lineage_2_time14.head())\n",
    "\n",
    "\n",
    "sample_type_time14_counts_lineage_2 = df_lineage_2_time14['sample_type'].value_counts()                                             # get frequencies of the sample types\n",
    "print(sample_type_time14_counts_lineage_2)\n",
    "majority_fate_counts_lineage_2 = df_lineage_2['majority_fate'].value_counts()                                                       # get frequencies of majority fate\n",
    "print(majority_fate_counts_lineage_2)"
   ]
  },
  {
   "cell_type": "code",
   "execution_count": null,
   "metadata": {},
   "outputs": [],
   "source": [
    "# Check majority fate of a specific lineage --> Try a different barcode\n",
    "\n",
    "df_lineage_2 = df_metaData_with_lineage[df_metaData_with_lineage['lineage_barcode_Rdata'] == 'TGACAGTGTGTGTGTGTCACTGTCTGTGTG']      # select the cells having a specific lineage barcode\n",
    "# print(df_lineage_2.head())\n",
    "df_lineage_2_time14 = df_lineage_2[df_lineage_2['time_point']==14]                                                                  # select day 14 cells of this lineage\n",
    "# print(df_lineage_2_time14.head())\n",
    "\n",
    "\n",
    "sample_type_time14_counts_lineage_2 = df_lineage_2_time14['sample_type'].value_counts()                                             # get frequencies of the sample types\n",
    "print(sample_type_time14_counts_lineage_2)\n",
    "majority_fate_counts_lineage_2 = df_lineage_2['majority_fate'].value_counts()                                                       # get frequencies of majority fate\n",
    "print(majority_fate_counts_lineage_2)"
   ]
  },
  {
   "cell_type": "markdown",
   "metadata": {},
   "source": [
    "The majority fate is not always equal to the most prevalent sample type. It looks like they switched the definition of 14_high and 14_low (14_high should be non-cycling according to the paper). Additionally, there is at least for one lineage that the majority fate is cycling while the most prevalent sample type of the day 14 cells with that lineage 14_med is."
   ]
  },
  {
   "cell_type": "markdown",
   "metadata": {},
   "source": [
    "##### Conclusion: I cannot get how they came up with the majority fate. It looks like it is based on the lineage barcodes from the Seurat object, but it is not really in line with the most common sample type of the day 14 cells with that lineage barcode. Maybe they switched around the definition of 14_high and 14_low, but still there are also cases where for moderate cyclers it gives the wrong majority fate. Additionally, why the lineage barcodes of the Seurat object are different from the ones in the GEO data file remains unclear to me."
   ]
  }
 ],
 "metadata": {
  "kernelspec": {
   "display_name": "python_env_grninference",
   "language": "python",
   "name": "python3"
  },
  "language_info": {
   "codemirror_mode": {
    "name": "ipython",
    "version": 3
   },
   "file_extension": ".py",
   "mimetype": "text/x-python",
   "name": "python",
   "nbconvert_exporter": "python",
   "pygments_lexer": "ipython3",
   "version": "3.11.2"
  }
 },
 "nbformat": 4,
 "nbformat_minor": 2
}
