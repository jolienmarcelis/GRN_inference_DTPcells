{
 "cells": [
  {
   "cell_type": "markdown",
   "metadata": {},
   "source": [
    "### Import libraries"
   ]
  },
  {
   "cell_type": "code",
   "execution_count": null,
   "metadata": {
    "vscode": {
     "languageId": "plaintext"
    }
   },
   "outputs": [],
   "source": [
    "import scanpy as sc\n",
    "import matplotlib.pyplot as plt"
   ]
  },
  {
   "cell_type": "markdown",
   "metadata": {},
   "source": [
    "### Load data"
   ]
  },
  {
   "cell_type": "code",
   "execution_count": null,
   "metadata": {
    "vscode": {
     "languageId": "plaintext"
    }
   },
   "outputs": [],
   "source": [
    "# Read preprocessed AnnData object\n",
    "adata_preprocessed = sc.read_h5ad('/home/jolien/Notebooks/data/preprocessed_data_v2_with_predicted_class.h5ad')"
   ]
  },
  {
   "cell_type": "code",
   "execution_count": null,
   "metadata": {
    "vscode": {
     "languageId": "plaintext"
    }
   },
   "outputs": [],
   "source": [
    "sample_type_palette = {\n",
    "    '0': '#F560A6',  # Pink\n",
    "    '3': '#91307F',  # Purple\n",
    "    '7': '#2D0059',  # Dark purple\n",
    "    'Cycling': '#1f77b4',  # Blue\n",
    "    'Moderate_cyclers': '#ff7f0e',  # Orange\n",
    "    'Non-cycling': '#2ca02c',  # Green\n",
    "}\n",
    "\n",
    "sample_type_palette_time = {\n",
    "    0: '#F560A6',  # Pink\n",
    "    3: '#91307F',  # Purple\n",
    "    7: '#2D0059',  # Dark purple\n",
    "    14: '#5b5b5b',  # Grey\n",
    "}"
   ]
  },
  {
   "cell_type": "code",
   "execution_count": null,
   "metadata": {
    "vscode": {
     "languageId": "plaintext"
    }
   },
   "outputs": [],
   "source": [
    "# Create plots for report\n",
    "sc.pl.draw_graph(adata_preprocessed, color='time_point', palette=sample_type_palette_time, save=\"_final_PAGA_time_point.png\")\n",
    "sc.pl.draw_graph(adata_preprocessed, color='sample_type', palette=sample_type_palette, save=\"_final_PAGA_sample_type.png\")"
   ]
  },
  {
   "cell_type": "markdown",
   "metadata": {},
   "source": [
    "### Plots for batch correction"
   ]
  },
  {
   "cell_type": "code",
   "execution_count": null,
   "metadata": {
    "vscode": {
     "languageId": "plaintext"
    }
   },
   "outputs": [],
   "source": [
    "# # load batch corrected data\n",
    "# adata_preprocessed = sc.read_h5ad('/home/jolien/Notebooks/data/preprocessed_data_bbknn_batchcorrection.h5ad')\n",
    "\n",
    "# # plots for batch correction data\n",
    "# sc.pl.draw_graph(adata_preprocessed, color='time_point', palette=sample_type_palette_time, save=\"_final_batch_corr_PAGA_time_point.png\")\n",
    "# sc.pl.draw_graph(adata_preprocessed, color='sample_type', palette=sample_type_palette, save=\"_final_batch_corr_PAGA_sample_type.png\")"
   ]
  },
  {
   "cell_type": "markdown",
   "metadata": {},
   "source": [
    "##### Plots for data with new filtering function"
   ]
  },
  {
   "cell_type": "code",
   "execution_count": null,
   "metadata": {
    "vscode": {
     "languageId": "plaintext"
    }
   },
   "outputs": [],
   "source": [
    "# # load preprocessed data with new filtering function\n",
    "# adata_preprocessed = sc.read_h5ad('/home/jolien/Notebooks/data/new_filtering_HVG/new_filtering_with_renormalization/preprocessed_data_new_filtering_renormalization_v2.h5ad')\n",
    "\n",
    "# # plots for data with new filtering\n",
    "# sc.pl.draw_graph(adata_preprocessed, color='time_point', palette=sample_type_palette_time, save=\"_final_new_filtering_PAGA_time_point.png\")\n",
    "# sc.pl.draw_graph(adata_preprocessed, color='sample_type', palette=sample_type_palette, save=\"_final_new_filtering_PAGA_sample_type.png\")"
   ]
  }
 ],
 "metadata": {
  "language_info": {
   "name": "python"
  }
 },
 "nbformat": 4,
 "nbformat_minor": 2
}
