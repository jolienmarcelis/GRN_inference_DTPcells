{
 "cells": [
  {
   "cell_type": "markdown",
   "metadata": {},
   "source": [
    "### 0. Import libraries"
   ]
  },
  {
   "cell_type": "code",
   "execution_count": null,
   "metadata": {},
   "outputs": [],
   "source": [
    "import pandas as pd\n",
    "import numpy as np\n",
    "import polars as pl\n",
    "import anndata as ad\n",
    "import scanpy as sc\n",
    "import matplotlib.pyplot as plt\n",
    "import scib"
   ]
  },
  {
   "cell_type": "code",
   "execution_count": null,
   "metadata": {},
   "outputs": [],
   "source": [
    "%matplotlib inline\n",
    "%config InlineBackend.figure_format = 'retina'\n",
    "plt.rcParams[\"savefig.dpi\"] = 300\n",
    "plt.rcParams[\"figure.figsize\"] = [6, 4.5]"
   ]
  },
  {
   "cell_type": "markdown",
   "metadata": {},
   "source": [
    "# 1. Load data"
   ]
  },
  {
   "cell_type": "markdown",
   "metadata": {},
   "source": [
    "### Load metadata"
   ]
  },
  {
   "cell_type": "code",
   "execution_count": null,
   "metadata": {},
   "outputs": [],
   "source": [
    "# File paths\n",
    "metadata_file_path = '/data/benchmarks/scRNAseq_persisters/GSE150949_metaData_with_lineage.txt'\n",
    "metadata_seurat_file_path = '/data/benchmarks/scRNAseq_persisters/metadata_seuratobject.csv'\n",
    "count_matrix_file_path = '/data/benchmarks/scRNAseq_persisters/GSE150949_pc9_count_matrix.csv'"
   ]
  },
  {
   "cell_type": "code",
   "execution_count": null,
   "metadata": {},
   "outputs": [],
   "source": [
    "# Load metadata file\n",
    "df_metaData_with_lineage = pd.read_csv(metadata_file_path, sep=\"\\t\")\n",
    "\n",
    "# Load metadata from the Seurat object to retrieve the majority fate\n",
    "df_metadata_seurat = pd.read_csv(metadata_seurat_file_path)\n",
    "\n",
    "# Add majority fate of the cells retrieved from the metadata of seurat object (from R data file) to the dataframe \n",
    "df_metaData_with_lineage['majority_fate'] = df_metadata_seurat['majority_fate'].tolist()"
   ]
  },
  {
   "cell_type": "markdown",
   "metadata": {},
   "source": [
    "##### Analyzing metadata"
   ]
  },
  {
   "cell_type": "code",
   "execution_count": null,
   "metadata": {},
   "outputs": [],
   "source": [
    "# Check mitochondrial fraction of cells\n",
    "print('The number of cells with >0.1 mitochondrial fraction is =', len(df_metaData_with_lineage[df_metaData_with_lineage['percent.mito']>0.1]))\n",
    "# check for cells with <1000 genes\n",
    "print('The number of cells with <1000 genes is =', len(df_metaData_with_lineage[df_metaData_with_lineage['nGene']<1000]))\n",
    "# check for cells with >4200 genes\n",
    "print('The number of cells with >4200 genes is =', len(df_metaData_with_lineage[df_metaData_with_lineage['nGene']>4200]))"
   ]
  },
  {
   "cell_type": "markdown",
   "metadata": {},
   "source": [
    "Since there are no cells with >0.1 mitochondrial fraction or with <1000 or >4200 genes, it looks like this data is already preprocessed before by Oren et al. (2021)."
   ]
  },
  {
   "cell_type": "markdown",
   "metadata": {},
   "source": [
    "##### Preprocessing metadata"
   ]
  },
  {
   "cell_type": "code",
   "execution_count": null,
   "metadata": {},
   "outputs": [],
   "source": [
    "copy_df =df_metaData_with_lineage.copy() # copy of dataframe to make additions\n",
    "\n",
    "# replace sample_type label: from 14_high to non-cycling etc. to avoid confusion\n",
    "copy_df = copy_df.replace('14_high', 'Non-cycling')\n",
    "copy_df = copy_df.replace('14_med', 'Moderate_cyclers')\n",
    "copy_df = copy_df.replace('14_low', 'Cycling')"
   ]
  },
  {
   "cell_type": "markdown",
   "metadata": {},
   "source": [
    "### Load count matrix data (scRAN-seq data) & convert into AnnData object"
   ]
  },
  {
   "cell_type": "code",
   "execution_count": null,
   "metadata": {},
   "outputs": [],
   "source": [
    "# Load data using polars (=more effective/efficient than pandas)\n",
    "df_pc9_count_matrix = pl.read_csv(count_matrix_file_path)"
   ]
  },
  {
   "cell_type": "code",
   "execution_count": null,
   "metadata": {},
   "outputs": [],
   "source": [
    "df_pc9_count_matrix.head(10)"
   ]
  },
  {
   "cell_type": "code",
   "execution_count": null,
   "metadata": {},
   "outputs": [],
   "source": [
    "gene_names = df_pc9_count_matrix[:, 0].to_list() # Extract gene names (=first column)\n",
    "df_pc9_count_matrix_without_genenames = df_pc9_count_matrix[:, 1:] # Exclude first column which containes the gene names\n",
    "\n",
    "cell_names = df_pc9_count_matrix_without_genenames.columns # Extract names of the cells\n",
    "\n",
    "numpy_count_matrix = df_pc9_count_matrix_without_genenames.to_numpy()  # Convert to a numpy matrix to enable conversion to AnnData object\n",
    "\n",
    "# Create AnnData object\n",
    "adata = ad.AnnData(X=numpy_count_matrix.T,\n",
    "                   var=pd.DataFrame(index=gene_names),\n",
    "                   obs=pd.DataFrame(index=cell_names))"
   ]
  },
  {
   "cell_type": "code",
   "execution_count": null,
   "metadata": {},
   "outputs": [],
   "source": [
    "adata"
   ]
  },
  {
   "cell_type": "markdown",
   "metadata": {},
   "source": [
    "So, the number of cells = 56419 and the number of genes = 22166"
   ]
  },
  {
   "cell_type": "markdown",
   "metadata": {},
   "source": [
    "##### Enter relevant metadata to the AnnData object"
   ]
  },
  {
   "cell_type": "code",
   "execution_count": null,
   "metadata": {},
   "outputs": [],
   "source": [
    "# Enter relavant metadata to the AnnData object\n",
    "\n",
    "# Get lineage barcode in adata object\n",
    "adata.obs['lineage_barcode']=df_metaData_with_lineage['lineage_barcode'] # lineage barcodes from metadata of GEO\n",
    "\n",
    "# Get time points as categorical in adata object\n",
    "time_points_cat = df_metaData_with_lineage.time_point.astype('category') # convert dtype from int64 to category (for plotting lateron)\n",
    "adata.obs['time_point'] = time_points_cat # add categorical time points to adata object\n",
    "adata\n",
    "\n",
    "# Get sample types as categorical in adata object (= time points for cells from day 0 - 7 and cell fate categories for day-14 cells)\n",
    "sample_type_cat = copy_df.sample_type.astype('category') # convert dtype to category (for plotting lateron)\n",
    "adata.obs['sample_type'] = sample_type_cat # add categorical sample type to adata object\n",
    "\n",
    "# Get majority fate of the lineages in adata object\n",
    "majority_fate_cat = df_metaData_with_lineage.majority_fate.astype('category') # convert dtype from int64 to category (for plotting lateron)\n",
    "adata.obs['majority_fate'] = majority_fate_cat # add categorical time points to adata object\n",
    "\n",
    "adata"
   ]
  },
  {
   "cell_type": "markdown",
   "metadata": {},
   "source": [
    "##### Filter non-zero count genes"
   ]
  },
  {
   "cell_type": "code",
   "execution_count": null,
   "metadata": {},
   "outputs": [],
   "source": [
    "# Store the original number of cells and genes\n",
    "number_cells_before_filtering = adata.n_obs\n",
    "number_genes_before_filtering = adata.n_vars\n",
    "\n",
    "# Only consider cells with more than X genes --> not applied for now\n",
    "# sc.pp.filter_cells(adata, min_genes=200)\n",
    "\n",
    "# Only consider genes with more than 1 count\n",
    "sc.pp.filter_genes(adata, min_counts=1)\n",
    "\n",
    "# Print filtering results\n",
    "print('Filtered out {} cells that have less than the minimum amount of genes expressed'.format(number_cells_before_filtering-adata.n_obs),'--> No filter on the cells to have a minimum amount of genes detected','\\n',\n",
    "      'Filtered out {} genes that are detected in less than 1 cell'.format(number_genes_before_filtering-adata.n_vars))"
   ]
  },
  {
   "cell_type": "markdown",
   "metadata": {},
   "source": [
    "Apparently there were no zero-count genes"
   ]
  },
  {
   "cell_type": "markdown",
   "metadata": {},
   "source": [
    "### 3. Normalization"
   ]
  },
  {
   "cell_type": "code",
   "execution_count": null,
   "metadata": {},
   "outputs": [],
   "source": [
    "# Normalize gene expression matrix with total UMI count per cell\n",
    "adata.X = adata.X.astype('float64') # Convert the main data matrix to float64, because normalization was not possible with int64 values\n",
    "sc.pp.normalize_per_cell(adata, key_n_counts='n_counts_all')"
   ]
  },
  {
   "cell_type": "markdown",
   "metadata": {},
   "source": [
    "### 4. Identification of highly variable genes\n",
    "\n",
    "Removing non-variable genes reduces the calculation time during the GRN reconstruction and simulation steps. It also improves the overall accuracy of the GRN inference by removing noisy genes. Using the top 2000~3000 variable genes is recommended."
   ]
  },
  {
   "cell_type": "code",
   "execution_count": null,
   "metadata": {},
   "outputs": [],
   "source": [
    "# Select top 2000 highly-variable genes\n",
    "filter_result = sc.pp.filter_genes_dispersion(adata.X,\n",
    "                                              flavor='cell_ranger',\n",
    "                                              n_top_genes=2000,\n",
    "                                              log=False)\n",
    "\n",
    "# Subset the genes\n",
    "adata = adata[:, filter_result.gene_subset]\n",
    "\n",
    "# Renormalize after filtering - making the total expression per cell equal across the dataset\n",
    "sc.pp.normalize_per_cell(adata)"
   ]
  },
  {
   "cell_type": "markdown",
   "metadata": {},
   "source": [
    "### 5. Log transformation"
   ]
  },
  {
   "cell_type": "code",
   "execution_count": null,
   "metadata": {},
   "outputs": [],
   "source": [
    "# keep raw count data before log transformation\n",
    "adata.raw = adata\n",
    "adata.layers[\"raw_count\"] = adata.raw.X.copy()\n",
    "\n",
    "# Log transformation \n",
    "sc.pp.log1p(adata) # The \"log1p\" function means taking the natural logarithm of (1 + X) for each value in the expression matrix, the addition of 1 ensures all values, including zeros, are log-transformed without creating NaN values\n",
    "\n",
    "# Keep log_transformed data before scaling\n",
    "adata.layers[\"log_transformed\"] = adata.X.copy()\n",
    "\n",
    "# Scaling \n",
    "sc.pp.scale(adata)\n",
    "\n",
    "adata"
   ]
  },
  {
   "cell_type": "code",
   "execution_count": null,
   "metadata": {},
   "outputs": [],
   "source": [
    "adata.obs"
   ]
  },
  {
   "cell_type": "markdown",
   "metadata": {},
   "source": [
    "### 6. PCA and neighbor calculations"
   ]
  },
  {
   "cell_type": "code",
   "execution_count": null,
   "metadata": {},
   "outputs": [],
   "source": [
    "# PCA\n",
    "sc.tl.pca(adata, svd_solver='arpack')\n",
    "\n",
    "# Diffusion map\n",
    "sc.pp.neighbors(adata, n_neighbors=4, n_pcs=20)\n",
    "sc.tl.diffmap(adata)\n",
    "\n",
    "# Calculate neihbors again based on diffusionmap\n",
    "sc.pp.neighbors(adata, n_neighbors=10, use_rep='X_diffmap')"
   ]
  },
  {
   "cell_type": "markdown",
   "metadata": {},
   "source": [
    "Diffusion map is applied to denoise the graph."
   ]
  },
  {
   "cell_type": "markdown",
   "metadata": {},
   "source": [
    "### 7. Cell clustering"
   ]
  },
  {
   "cell_type": "code",
   "execution_count": null,
   "metadata": {},
   "outputs": [],
   "source": [
    "# Run Louvain clustering\n",
    "sc.tl.louvain(adata)"
   ]
  },
  {
   "cell_type": "markdown",
   "metadata": {},
   "source": [
    "### 8. Dimensionality reduction using PAGA and force-directed graphs as well as UMAP"
   ]
  },
  {
   "cell_type": "code",
   "execution_count": null,
   "metadata": {},
   "outputs": [],
   "source": [
    "# PAGA graph construction\n",
    "sc.tl.paga(adata, groups='louvain')"
   ]
  },
  {
   "cell_type": "code",
   "execution_count": null,
   "metadata": {},
   "outputs": [],
   "source": [
    "plt.rcParams[\"figure.figsize\"] = [6, 4.5]\n",
    "sc.pl.paga(adata)"
   ]
  },
  {
   "cell_type": "code",
   "execution_count": null,
   "metadata": {},
   "outputs": [],
   "source": [
    "# Calculate force-directed graph with PAGA graph as initial cluster position\n",
    "sc.tl.draw_graph(adata, init_pos='paga', random_state=123) # Random seed to ensure consistency of plot for different runs"
   ]
  },
  {
   "cell_type": "code",
   "execution_count": null,
   "metadata": {},
   "outputs": [],
   "source": [
    "# Calculate UMAP \n",
    "sc.tl.umap(adata,random_state=123)"
   ]
  },
  {
   "cell_type": "markdown",
   "metadata": {},
   "source": [
    "### 9. Visualization"
   ]
  },
  {
   "cell_type": "code",
   "execution_count": null,
   "metadata": {},
   "outputs": [],
   "source": [
    "sample_type_palette = {\n",
    "    '0': '#F560A6',  # Pink\n",
    "    '3': '#91307F',  # Purple\n",
    "    '7': '#2D0059',  # Dark purple\n",
    "    'Cycling': '#1f77b4',  # Blue\n",
    "    'Moderate_cyclers': '#ff7f0e',  # Orange\n",
    "    'Non-cycling': '#2ca02c',  # Green\n",
    "}\n",
    "\n",
    "sample_type_palette_time = {\n",
    "    0: '#F560A6',  # Pink\n",
    "    3: '#91307F',  # Purple\n",
    "    7: '#2D0059',  # Dark purple\n",
    "    14: '#5b5b5b',  # Grey\n",
    "}"
   ]
  },
  {
   "cell_type": "code",
   "execution_count": null,
   "metadata": {},
   "outputs": [],
   "source": [
    "# Plot force-directed graph with PAGA graph as initial cluster position - legend next to plot\n",
    "fig, axes = plt.subplots(1, 3, figsize=(20, 5))\n",
    "sc.pl.draw_graph(adata, color='louvain', legend_loc='on data', ax=axes[0], show=False)                                         # First plot with legend on data\n",
    "sc.pl.draw_graph(adata, color='time_point', ax=axes[0], palette=sample_type_palette_time, show=False)                          # Second plot \n",
    "sc.pl.draw_graph(adata, color='sample_type', ax=axes[1], palette=sample_type_palette, show=False)                              # Third plot                     # Third plot \n",
    "\n",
    "# Save the combined plot\n",
    "plt.tight_layout()\n",
    "# plt.savefig(\"/home/jolien/Notebooks/data_preprocessing/figures/PAGA_all_groupings.png\")"
   ]
  },
  {
   "cell_type": "code",
   "execution_count": null,
   "metadata": {},
   "outputs": [],
   "source": [
    "# Plot force-directed graph with PAGA graph as initial cluster position - colored by majority fate of the lineage of the cell\n",
    "# sc.pl.draw_graph(adata, color=[\"majority_fate\"], save=\"_PAGA_majority_fate.png\")"
   ]
  },
  {
   "cell_type": "code",
   "execution_count": null,
   "metadata": {},
   "outputs": [],
   "source": [
    "# UMAP plot\n",
    "fig, axes = plt.subplots(1, 3, figsize=(20, 5))\n",
    "sc.pl.umap(adata, color='louvain', legend_loc='on data', ax=axes[0], show=False)    # First plot with legend on data\n",
    "sc.pl.umap(adata, color='time_point', ax=axes[1], palette=sample_type_palette_time, show=False)                       # Second plot \n",
    "sc.pl.umap(adata, color='sample_type', ax=axes[2], palette=sample_type_palette, show=False)                      # Third plot \n",
    "\n",
    "\n",
    "# Save the combined plot\n",
    "plt.tight_layout()\n",
    "# plt.savefig(\"/home/jolien/Notebooks/data_preprocessing/figures/UMAP_all_groupings.png\")"
   ]
  },
  {
   "cell_type": "markdown",
   "metadata": {},
   "source": [
    "### 10. Save AnnData object"
   ]
  },
  {
   "cell_type": "code",
   "execution_count": null,
   "metadata": {},
   "outputs": [],
   "source": [
    "# adata.write('/home/jolien/Notebooks/data/preprocessed_data_v2.h5ad')"
   ]
  }
 ],
 "metadata": {
  "kernelspec": {
   "display_name": "python_env_grninference",
   "language": "python",
   "name": "python3"
  },
  "language_info": {
   "codemirror_mode": {
    "name": "ipython",
    "version": 3
   },
   "file_extension": ".py",
   "mimetype": "text/x-python",
   "name": "python",
   "nbconvert_exporter": "python",
   "pygments_lexer": "ipython3",
   "version": "3.11.2"
  }
 },
 "nbformat": 4,
 "nbformat_minor": 2
}
