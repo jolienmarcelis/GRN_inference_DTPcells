{
 "cells": [
  {
   "cell_type": "markdown",
   "metadata": {},
   "source": [
    "# 0. Import libraries"
   ]
  },
  {
   "cell_type": "code",
   "execution_count": null,
   "metadata": {},
   "outputs": [],
   "source": [
    "import pandas as pd\n",
    "import numpy as np\n",
    "import anndata as ad\n",
    "\n",
    "import matplotlib.pyplot as plt\n",
    "import seaborn as sns\n",
    "\n",
    "import scipy.stats as stats\n"
   ]
  },
  {
   "cell_type": "markdown",
   "metadata": {},
   "source": [
    "# 1. Read proprecessed data"
   ]
  },
  {
   "cell_type": "code",
   "execution_count": null,
   "metadata": {},
   "outputs": [],
   "source": [
    "# Read preprocessed AnnData object\n",
    "# adata = ad.read_h5ad('/home/jolien/Notebooks/data/preprocessed_data_v2.h5ad')\n",
    "adata = ad.read_h5ad('/home/jolien/Notebooks/data/new_filtering_HVG/preprocessed_data_new_filtering_renormalization.h5ad')"
   ]
  },
  {
   "cell_type": "code",
   "execution_count": null,
   "metadata": {},
   "outputs": [],
   "source": [
    "df_metadata = pd.read_csv('/data/benchmarks/scRNAseq_persisters/Processed_metaData_with_lineage.txt', sep=\"\\t\", index_col=0)"
   ]
  },
  {
   "cell_type": "code",
   "execution_count": null,
   "metadata": {},
   "outputs": [],
   "source": [
    "df_metadata"
   ]
  },
  {
   "cell_type": "markdown",
   "metadata": {},
   "source": [
    "# 2. PCA analysis"
   ]
  },
  {
   "cell_type": "code",
   "execution_count": null,
   "metadata": {},
   "outputs": [],
   "source": [
    "# Define color scheme for plots\n",
    "\n",
    "# Palette for sample_type variables\n",
    "sample_type_palette = {\n",
    "    '0': '#F560A6',  # Pink\n",
    "    '3': '#91307F',  # Purple\n",
    "    '7': '#2D0059',  # Dark purple\n",
    "    'Cycling': '#1f77b4',  # Blue\n",
    "    'Moderate_cyclers': '#ff7f0e',  # Orange\n",
    "    'Non-cycling': '#2ca02c',  # Green\n",
    "}\n",
    "\n",
    "# Palette for time_point variables\n",
    "sample_type_palette_time = {\n",
    "    0: '#F560A6',  # Pink\n",
    "    3: '#91307F',  # Purple\n",
    "    7: '#2D0059',  # Dark purple\n",
    "    14: '#5b5b5b',  # Grey\n",
    "}"
   ]
  },
  {
   "cell_type": "code",
   "execution_count": null,
   "metadata": {},
   "outputs": [],
   "source": [
    "# Store PCs in adata.obs\n",
    "adata.obs['PC1'] = adata.obsm['X_pca'][:,0] # First principal component\n",
    "adata.obs['PC2'] = adata.obsm['X_pca'][:,1] # Second principal component\n",
    "adata.obs['PC3'] = adata.obsm['X_pca'][:,2] # Third principal component\n",
    "adata.obs['PC4'] = adata.obsm['X_pca'][:,3] # Fourth principal component\n",
    "adata.obs['PC5'] = adata.obsm['X_pca'][:,4] # Fifth principal component\n",
    "adata.obs['PC6'] = adata.obsm['X_pca'][:,5] # Sixt principal component"
   ]
  },
  {
   "cell_type": "markdown",
   "metadata": {},
   "source": [
    "### 2.1 Explained variance"
   ]
  },
  {
   "cell_type": "code",
   "execution_count": null,
   "metadata": {},
   "outputs": [],
   "source": [
    "# Access the variance explained by each PC\n",
    "variance_ratio = adata.uns['pca']['variance_ratio']\n",
    "\n",
    "# Create an elbow plot\n",
    "plt.figure(figsize=(8, 5))\n",
    "plt.plot(range(1, len(variance_ratio) + 1), variance_ratio, marker='o')\n",
    "plt.xlabel('Principal Component')\n",
    "plt.ylabel('Variance Explained')\n",
    "plt.title('Elbow Plot for PCA')\n",
    "plt.grid(True)\n",
    "# plt.savefig('/home/jolien/Notebooks/data_preprocessing/figures/PCA_elbow_plot.png')\n",
    "plt.show()"
   ]
  },
  {
   "cell_type": "code",
   "execution_count": null,
   "metadata": {},
   "outputs": [],
   "source": [
    "# Get explained variance percentage for PC1 and PC2\n",
    "expl_var_pc1 = adata.uns['pca']['variance_ratio'][0]*100\n",
    "expl_var_pc2 = adata.uns['pca']['variance_ratio'][2]*100"
   ]
  },
  {
   "cell_type": "markdown",
   "metadata": {},
   "source": [
    "### 2.2 Plot PC1 vs PC2"
   ]
  },
  {
   "cell_type": "code",
   "execution_count": null,
   "metadata": {},
   "outputs": [],
   "source": [
    "# Plot PC1 vs PC2\n",
    "plt.figure(figsize=(8, 6))\n",
    "plt.scatter(adata.obs['PC1'], adata.obs['PC2'], s=5) \n",
    "plt.xlabel('PC1 ({:.1f}%)'.format(expl_var_pc1))\n",
    "plt.ylabel('PC2 ({:.1f}%)'.format(expl_var_pc2))\n",
    "plt.title('PCA Plot of PC1 vs PC2')\n",
    "plt.show()"
   ]
  },
  {
   "cell_type": "code",
   "execution_count": null,
   "metadata": {},
   "outputs": [],
   "source": [
    "# Store metadata in adata object\n",
    "adata.obs['percent_mito'] = df_metadata['percent.mito']        # Get percentage mitochrondrial genes in adata object\n",
    "adata.obs['nUMI'] = df_metadata['nUMI']                        # Get the number of UMI\n",
    "adata.obs['nGene'] = df_metadata['nGene']                      # Get the number of genes\n",
    "\n",
    "\n",
    "# Function for plotting\n",
    "def plot_subplot_PCA(fig, axes, axs, adata, coloredby, colorbar_label, subplot_title):\n",
    "    \"\"\"\n",
    "    Create PCA plot: plot PC1 vs PC2 in a subplot.\n",
    "    Color the cells by their value of the indicated variable (based on the coloredby argument).\n",
    "    \"\"\"\n",
    "    # Create the scatter plot\n",
    "    sc = axes[axs[0],axs[1]].scatter(\n",
    "        adata.obs['PC1'], \n",
    "        adata.obs['PC2'], \n",
    "        c=coloredby,  # Color points by adata observables\n",
    "        cmap='viridis',  \n",
    "        s=5) \n",
    "    # Add labels and title\n",
    "    axes[axs[0],axs[1]].set_xlabel('PC1 ({:.1f}%)'.format(expl_var_pc1))\n",
    "    axes[axs[0],axs[1]].set_ylabel('PC2 ({:.1f}%)'.format(expl_var_pc2))\n",
    "    axes[axs[0],axs[1]].set_title(subplot_title)\n",
    "    # Add colorbar\n",
    "    cbar = fig.colorbar(sc, ax=axes[axs[0], axs[1]])\n",
    "    cbar.set_label(colorbar_label)  \n",
    "\n",
    "    return\n",
    "\n",
    "# Plot results\n",
    "fig, axes = plt.subplots(2, 3, figsize=(20, 10))#, sharex='all', sharey='all') \n",
    "plot_subplot_PCA(fig, axes, [0,0], adata, adata.obs['percent_mito'], 'percent_mito', 'Colored by percent mitochondrial genes')\n",
    "plot_subplot_PCA(fig, axes, [0,1], adata, adata.obs['nUMI'], 'nUMI','Colored by nUMI')\n",
    "plot_subplot_PCA(fig, axes, [0,2], adata, adata.obs['nGene'], 'nGene', 'Colored by nGene')\n",
    "\n",
    "plot_subplot_PCA(fig, axes, [1,0], adata, np.mean(adata.X, axis=1), 'mean expression', 'Colored by mean expression') \n",
    "plot_subplot_PCA(fig, axes, [1,1], adata, np.count_nonzero(adata.X, axis=1), 'non-zero expression', 'Colored by non-zero expression') \n",
    "\n",
    "\n",
    "fig.suptitle('PCA Plot of PC1 vs PC2')\n",
    "\n",
    "# fig.savefig('PCA plots day 3 cells colored by variables')\n"
   ]
  },
  {
   "cell_type": "code",
   "execution_count": null,
   "metadata": {},
   "outputs": [],
   "source": [
    "# Extract PC1 and PC2 for plotting per sample_type group\n",
    "# time = 0\n",
    "pc1_0 = adata.obsm['X_pca'][df_metadata['sample_type']=='0', 0]  # First principal component\n",
    "pc2_0 = adata.obsm['X_pca'][df_metadata['sample_type']=='0', 1]  # Second principal component\n",
    "\n",
    "# time = 3\n",
    "pc1_3 = adata.obsm['X_pca'][df_metadata['sample_type']=='3', 0]  # First principal component\n",
    "pc2_3 = adata.obsm['X_pca'][df_metadata['sample_type']=='3', 1]  # Second principal component\n",
    "\n",
    "# time = 7\n",
    "pc1_7 = adata.obsm['X_pca'][df_metadata['sample_type']=='7', 0]  # First principal component\n",
    "pc2_7 = adata.obsm['X_pca'][df_metadata['sample_type']=='7', 1]  # Second principal component\n",
    "\n",
    "# time = cycling (14_low)\n",
    "pc1_14l = adata.obsm['X_pca'][df_metadata['sample_type']=='Cycling', 0]  # First principal component\n",
    "pc2_14l = adata.obsm['X_pca'][df_metadata['sample_type']=='Cycling', 1]  # Second principal component\n",
    "# time = moderate cyclers (14_med)\n",
    "pc1_14m = adata.obsm['X_pca'][df_metadata['sample_type']=='Moderate_cyclers', 0]  # First principal component\n",
    "pc2_14m = adata.obsm['X_pca'][df_metadata['sample_type']=='Moderate_cyclers', 1]  # Second principal component\n",
    "# time = non-cycling (14_high)\n",
    "pc1_14h = adata.obsm['X_pca'][df_metadata['sample_type']=='Non-cycling', 0]  # First principal component\n",
    "pc2_14h = adata.obsm['X_pca'][df_metadata['sample_type']=='Non-cycling', 1]  # Second principal component\n",
    "\n",
    "# Plot PC1 vs PC2\n",
    "plt.figure(figsize=(8, 6))\n",
    "plt.scatter(pc1_0, pc2_0, c='g', s=5)       # plot day 0 cells\n",
    "plt.scatter(pc1_3, pc2_3, c='r', s=5)       # plot day 3 cells\n",
    "plt.scatter(pc1_7, pc2_7, c='k', s=5)       # plot day 7 cells\n",
    "plt.scatter(pc1_14l, pc2_14l, c='b', s=5)   # plot day cycling (14_low) cells\n",
    "plt.scatter(pc1_14m, pc2_14m, c='c', s=5)   # plot day moderate cycler (14_med) cells\n",
    "plt.scatter(pc1_14h, pc2_14h, c='m', s=5)   # plot day non-cycling (14_high) cells\n",
    "\n",
    "plt.xlabel('PC1 ({:.1f}%)'.format(expl_var_pc1))\n",
    "plt.ylabel('PC2 ({:.1f}%)'.format(expl_var_pc2))\n",
    "plt.title('PCA Plot of PC1 vs PC2 colored by sample type')\n",
    "plt.legend(['Day 0','Day 3','Day 7','Day 14 - cycling','Day 14 - moderate cyclers','Day 14 - non-cycling']) \n",
    "# plt.savefig('/home/jolien/Notebooks/data_preprocessing/figures/PCA_colored_by_sample_type.png')\n",
    "plt.show()"
   ]
  },
  {
   "cell_type": "code",
   "execution_count": null,
   "metadata": {},
   "outputs": [],
   "source": [
    "# scatter plot\n",
    "plt.figure(figsize=(8, 6))\n",
    "sns.scatterplot(data=adata.obs, x=\"PC1\", y=\"PC2\", hue=\"sample_type\", palette=sample_type_palette , size=5)\n",
    "\n",
    "plt.xlabel('PC1 ({:.1f}%)'.format(expl_var_pc1))\n",
    "plt.ylabel('PC2 ({:.1f}%)'.format(expl_var_pc2))\n",
    "plt.title('PCA Plot of PC1 vs PC2 colored by sample type')\n",
    "\n",
    "# plt.savefig('/home/jolien/Notebooks/data_preprocessing/figures/PCA_colored_by_sample_type_v2.png')"
   ]
  },
  {
   "cell_type": "code",
   "execution_count": null,
   "metadata": {},
   "outputs": [],
   "source": [
    "# contour plot\n",
    "plt.figure(figsize=(8, 6))\n",
    "sns.kdeplot(data=adata.obs, x=\"PC1\", y=\"PC2\", hue=\"sample_type\", palette=sample_type_palette)\n",
    "\n",
    "plt.xlabel('PC1 ({:.1f}%)'.format(expl_var_pc1))\n",
    "plt.ylabel('PC2 ({:.1f}%)'.format(expl_var_pc2))\n",
    "plt.title('PCA density contour plot for sample types')\n",
    "\n",
    "# plt.savefig('/home/jolien/Notebooks/data_preprocessing/figures/PCA_contour_colored_by_sample_type.png')"
   ]
  },
  {
   "cell_type": "code",
   "execution_count": null,
   "metadata": {},
   "outputs": [],
   "source": [
    "# contour plot filled\n",
    "plt.figure(figsize=(8, 6))\n",
    "sns.kdeplot(data=adata.obs, x=\"PC1\", y=\"PC2\", hue=\"sample_type\", palette=sample_type_palette, alpha=0.3, fill=True) \n",
    "\n",
    "plt.xlabel('PC1 ({:.1f}%)'.format(expl_var_pc1))\n",
    "plt.ylabel('PC2 ({:.1f}%)'.format(expl_var_pc2))\n",
    "plt.title('PCA density contour plot for sample types')\n",
    "\n",
    "# plt.savefig('/home/jolien/Notebooks/data_preprocessing/figures/PCA_contour_colored_by_sample_type_filled.png')"
   ]
  },
  {
   "cell_type": "markdown",
   "metadata": {},
   "source": [
    "### 2.3 Check correlation PCs and time point"
   ]
  },
  {
   "cell_type": "code",
   "execution_count": null,
   "metadata": {},
   "outputs": [],
   "source": [
    "fig, axes = plt.subplots(3, 2, figsize=(20, 18), sharey=True)\n",
    "\n",
    "pc_nr = 1\n",
    "\n",
    "for i, ax_row in enumerate(axes):\n",
    "    for j, ax in enumerate(ax_row):\n",
    "        \n",
    "        # Plot boxplots of PC per sample type\n",
    "        sns.boxplot(x='sample_type', y='PC'+str(pc_nr), data=adata.obs, ax=ax) \n",
    "        \n",
    "        # Add titles\n",
    "        ax.set_title(f'PC{pc_nr} grouped per sample type')\n",
    "        \n",
    "        # Add axis label\n",
    "        ax.set_ylabel(f\"PC{pc_nr}\")\n",
    "        \n",
    "        # Increment PC number\n",
    "        pc_nr += 1\n",
    "\n",
    "# fig.savefig('/home/jolien/Notebooks/data_preprocessing/figures/boxplots_PCs_per_sample_type.png')"
   ]
  },
  {
   "cell_type": "code",
   "execution_count": null,
   "metadata": {},
   "outputs": [],
   "source": [
    "# check whether the difference in PC1 of group 0 and 3 is significant\n",
    "kruskal_result = stats.kruskal(\n",
    "    adata.obs['PC1'][adata.obs['sample_type'] == '0'],\n",
    "    adata.obs['PC1'][adata.obs['sample_type'] == '3']\n",
    ")\n",
    "\n",
    "print(\"Kruskal-Wallis p-value:\", kruskal_result.pvalue)\n"
   ]
  },
  {
   "cell_type": "markdown",
   "metadata": {},
   "source": [
    "I don't know if I can use it when we don't have more digits for the p-value"
   ]
  },
  {
   "cell_type": "code",
   "execution_count": null,
   "metadata": {},
   "outputs": [],
   "source": [
    "# cov(np.transpose(adata.obs['time_point']),np.transpose(adata.obs['PC1'])) # gives the same output as when I don't apply the transpose\n",
    "cov_PC1 = np.cov(adata.obs['time_point'],adata.obs['PC1'])\n",
    "print('covariance PC1 and time point:')\n",
    "print(cov_PC1)\n",
    "corr_PC1, _ = stats.pearsonr(adata.obs['time_point'],adata.obs['PC1'])\n",
    "print('Pearsons correlation PC1 and time point: %.3f' % corr_PC1,'\\n')\n",
    "\n",
    "cov_PC2 = np.cov(adata.obs['time_point'],adata.obs['PC2'])\n",
    "print('covariance PC2 and time point:')\n",
    "print(cov_PC2)\n",
    "corr_PC2, _ = stats.pearsonr(adata.obs['time_point'],adata.obs['PC2'])\n",
    "print('Pearsons correlation PC2 and time point: %.3f' % corr_PC2,'\\n')\n",
    "\n",
    "cov_PC3 = np.cov(adata.obs['time_point'],adata.obs['PC3'])\n",
    "print('covariance PC3 and time point:')\n",
    "print(cov_PC3)\n",
    "corr_PC3, _ = stats.pearsonr(adata.obs['time_point'],adata.obs['PC3'])\n",
    "print('Pearsons correlation PC3 and time point: %.3f' % corr_PC3,'\\n')\n",
    "\n",
    "cov_PC4 = np.cov(adata.obs['time_point'],adata.obs['PC4'])\n",
    "print('covariance PC4 and time point:')\n",
    "print(cov_PC4)\n",
    "corr_PC4, _ = stats.pearsonr(adata.obs['time_point'],adata.obs['PC4'])\n",
    "print('Pearsons correlation PC4 and time point: %.3f' % corr_PC4,'\\n')\n",
    "\n",
    "cov_PC5 = np.cov(adata.obs['time_point'],adata.obs['PC5'])\n",
    "print('covariance PC5 and time point:')\n",
    "print(cov_PC5)\n",
    "corr_PC5, _ = stats.pearsonr(adata.obs['time_point'],adata.obs['PC5'])\n",
    "print('Pearsons correlation PC5 and time point: %.3f' % corr_PC5,'\\n')\n",
    "\n",
    "cov_PC6 = np.cov(adata.obs['time_point'],adata.obs['PC6'])\n",
    "print('covariance PC6 and time point:')\n",
    "print(cov_PC6)\n",
    "corr_PC6, _ = stats.pearsonr(adata.obs['time_point'],adata.obs['PC6'])\n",
    "print('Pearsons correlation PC6 and time point: %.3f' % corr_PC6,'\\n')"
   ]
  },
  {
   "cell_type": "markdown",
   "metadata": {},
   "source": [
    "PC1 and time point have a positive covariance (off diagnal values in covariance matrix) and a correlation of 0.6 which indicates there is a dependency between PC1 and time point (moderate positive relationship)."
   ]
  }
 ],
 "metadata": {
  "kernelspec": {
   "display_name": "python_env_grninference",
   "language": "python",
   "name": "python3"
  },
  "language_info": {
   "codemirror_mode": {
    "name": "ipython",
    "version": 3
   },
   "file_extension": ".py",
   "mimetype": "text/x-python",
   "name": "python",
   "nbconvert_exporter": "python",
   "pygments_lexer": "ipython3",
   "version": "3.11.2"
  }
 },
 "nbformat": 4,
 "nbformat_minor": 2
}
