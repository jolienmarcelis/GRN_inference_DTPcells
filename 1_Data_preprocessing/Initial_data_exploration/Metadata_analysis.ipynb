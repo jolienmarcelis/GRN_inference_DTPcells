{
 "cells": [
  {
   "cell_type": "markdown",
   "metadata": {},
   "source": [
    "# 1. Import libraries"
   ]
  },
  {
   "cell_type": "code",
   "execution_count": null,
   "metadata": {},
   "outputs": [],
   "source": [
    "import pandas as pd\n",
    "import numpy as np"
   ]
  },
  {
   "cell_type": "markdown",
   "metadata": {},
   "source": [
    "# 2. Load metadata"
   ]
  },
  {
   "cell_type": "code",
   "execution_count": null,
   "metadata": {},
   "outputs": [],
   "source": [
    "# Load metadata file\n",
    "df_metaData_with_lineage = pd.read_csv('/data/benchmarks/scRNAseq_persisters/GSE150949_metaData_with_lineage.txt', sep=\"\\t\")\n",
    "\n",
    "# Load metadata from the Seurat object to retrieve the majority fate\n",
    "df_metadata_seurat = pd.read_csv(\"/data/benchmarks/scRNAseq_persisters/metadata_seuratobject.csv\")\n",
    "\n",
    "# Add majority fate of the cells retrieved from the metadata of seurat object (from R data file) to the dataframe \n",
    "df_metaData_with_lineage['majority_fate'] = df_metadata_seurat['majority_fate'].tolist()\n",
    "df_metaData_with_lineage"
   ]
  },
  {
   "cell_type": "markdown",
   "metadata": {},
   "source": [
    "# 3. Analyzing metadata"
   ]
  },
  {
   "cell_type": "markdown",
   "metadata": {},
   "source": [
    "### 3.1 Analysis quality of cells"
   ]
  },
  {
   "cell_type": "code",
   "execution_count": null,
   "metadata": {},
   "outputs": [],
   "source": [
    "# Check mitochondrial fraction of cells\n",
    "print('The number of cells with >0.1 mitochondrial fraction is =', len(df_metaData_with_lineage[df_metaData_with_lineage['percent.mito']>0.1]))\n",
    "# check for cells with <1000 genes\n",
    "print('The number of cells with <1000 genes is =', len(df_metaData_with_lineage[df_metaData_with_lineage['nGene']<1000]))\n",
    "# check for cells with >4200 genes\n",
    "print('The number of cells with >4200 genes is =', len(df_metaData_with_lineage[df_metaData_with_lineage['nGene']>4200]))"
   ]
  },
  {
   "cell_type": "markdown",
   "metadata": {},
   "source": [
    "Since there are no cells with >0.1 mitochondrial fraction or with <1000 or >4200 genes, it looks like this data is already preprocessed before by Oren et al. (2021)."
   ]
  },
  {
   "cell_type": "markdown",
   "metadata": {},
   "source": [
    "### 3.2 Analysis cell lineages"
   ]
  },
  {
   "cell_type": "markdown",
   "metadata": {},
   "source": [
    "##### 3.2.1 Get number of cells without lineage and of cells with multiple lineages"
   ]
  },
  {
   "cell_type": "code",
   "execution_count": null,
   "metadata": {},
   "outputs": [],
   "source": [
    "nr_cells_total = len(df_metaData_with_lineage)\n",
    "nr_cells_no_barcode = sum(df_metaData_with_lineage['lineage_barcode'].isnull()) # cells with NaN in the lineage barcode column\n",
    "nr_cells_multiple_barcodes = sum(df_metaData_with_lineage['lineage_barcode'].str.contains(',', na=False)) # in case there are multiple lineage barcodes they are separated by a comma, so we can identify them by the comma\n",
    "\n",
    "print('The total number of cells =',nr_cells_total)\n",
    "print('The number of cells without a lineage barcode =',nr_cells_no_barcode, 'This is equal to', round((nr_cells_no_barcode/nr_cells_total)*100,1),'%')\n",
    "print('The number of cells with multiple lineage barcodes =', nr_cells_multiple_barcodes,'This is equal to', round((nr_cells_multiple_barcodes/nr_cells_total)*100,1),'%')"
   ]
  },
  {
   "cell_type": "markdown",
   "metadata": {},
   "source": [
    "##### 3.2.2 Get unique lineages per group"
   ]
  },
  {
   "cell_type": "code",
   "execution_count": null,
   "metadata": {},
   "outputs": [],
   "source": [
    "# Get unique lineage of all cells\n",
    "all_barcodes = df_metaData_with_lineage['lineage_barcode'].dropna() # neglect NaN values\n",
    "all_individual_barcodes = all_barcodes.str.split(',').explode() # Split strings by comma and create a new series with individual sequences\n",
    "unique_individual_barcodes_total = all_individual_barcodes.unique() # Find unique sequences\n",
    "\n",
    "print(\"Nr. unique lineages in total:\", len(unique_individual_barcodes_total))\n",
    "print(\"Nr. unique lineages in total when lineages barcodes are not splitted:\",len(all_barcodes.unique()))\n",
    "print(\"\")\n",
    "\n",
    "\n",
    "# Get unique lineages of day 14 cells\n",
    "df_metaData_day14_cells = df_metaData_with_lineage[df_metaData_with_lineage['time_point']==14] # select only the day 14 cells\n",
    "barcodes_persister_cells = df_metaData_day14_cells['lineage_barcode'].dropna() # neglect NaN values\n",
    "individual_barcodes_persister_cells = barcodes_persister_cells.str.split(',').explode() # split lineage barcodes for cells with multiple lineage barcodes\n",
    "unique_individual_barcodes_persister_cells = individual_barcodes_persister_cells.unique() # get unique lineage barcodes\n",
    "\n",
    "print(\"Nr. unique lineages from persister cells:\", len(unique_individual_barcodes_persister_cells))\n",
    "print(\"Nr. unique lineages from persister cells when lineages barcodes are not splitted:\",len(barcodes_persister_cells.unique()))\n",
    "print(\"\")\n",
    "\n",
    "# Get multi lineages \n",
    "multi_barcode_indices = df_metaData_with_lineage['lineage_barcode'].str.contains(',', na=False) # get indices of multi lineage cells\n",
    "barcodes_multilineage_cells = df_metaData_with_lineage[multi_barcode_indices]['lineage_barcode'] # get lineage barcodes of multi lineage cells\n",
    "individual_barcodes_multilineage_cells = barcodes_multilineage_cells.str.split(',').explode() # split lineage barcodes for cells with multiple lineage barcodes\n",
    "unique_barcodes_multilineage_cells = individual_barcodes_multilineage_cells.unique() # get unique lineage barcodes\n",
    "\n",
    "print(\"Nr. lineages from multi lineage cells:\", len(unique_barcodes_multilineage_cells))\n",
    "print(\"Nr. lineages from multi lineage cells when lineages barcodes are not splitted:\", len(barcodes_multilineage_cells.unique()))\n",
    "print(\"\")\n",
    "\n",
    "print(\"Fraction of lineages that gave rise to persister cells:\", len(unique_individual_barcodes_persister_cells)/len(unique_individual_barcodes_total))\n",
    "print(\"Fraction of lineages that gave rise to persister cells (when barcodes are not splitted):\", len(barcodes_persister_cells.unique())/len(all_barcodes.unique()))"
   ]
  },
  {
   "cell_type": "markdown",
   "metadata": {},
   "source": [
    "These numbers are totally different from what is stated in the paper of Oren et al. (2021). They metioned that there are 1,135 individual PC9 cell lineages and 77 persister lineages (=that were still alive at day 14). They metioned that only 8% of cell lineges gave rise to persisters, while for my investigation it is 63%."
   ]
  },
  {
   "cell_type": "markdown",
   "metadata": {},
   "source": [
    "##### 3.2.2.2a Check what lineages detected at day 14 are also present at day 0 "
   ]
  },
  {
   "cell_type": "code",
   "execution_count": null,
   "metadata": {},
   "outputs": [],
   "source": [
    "# Get unique lineages of day 0 cells\n",
    "df_metaData_day0_cells = df_metaData_with_lineage[df_metaData_with_lineage['time_point']==0] # select only the day 14 cells\n",
    "barcodes_day0_cells = df_metaData_day0_cells['lineage_barcode'].dropna() # neglect NaN values\n",
    "individual_barcodes_day0_cells = barcodes_day0_cells.str.split(',').explode() # split lineage barcodes for cells with multiple lineage barcodes\n",
    "unique_individual_barcodes_day0_cells = individual_barcodes_day0_cells.unique() # get unique lineage barcodes\n",
    "\n",
    "# Get unique lineages of day 3 cells\n",
    "df_metaData_day3_cells = df_metaData_with_lineage[df_metaData_with_lineage['time_point']==3] # select only the day 14 cells\n",
    "barcodes_day3_cells = df_metaData_day3_cells['lineage_barcode'].dropna() # neglect NaN values\n",
    "individual_barcodes_day3_cells = barcodes_day3_cells.str.split(',').explode() # split lineage barcodes for cells with multiple lineage barcodes\n",
    "unique_individual_barcodes_day3_cells = individual_barcodes_day3_cells.unique() # get unique lineage barcodes\n",
    "\n",
    "# Get unique lineages of day 7 cells\n",
    "df_metaData_day7_cells = df_metaData_with_lineage[df_metaData_with_lineage['time_point']==7] # select only the day 14 cells\n",
    "barcodes_day7_cells = df_metaData_day7_cells['lineage_barcode'].dropna() # neglect NaN values\n",
    "individual_barcodes_day7_cells = barcodes_day7_cells.str.split(',').explode() # split lineage barcodes for cells with multiple lineage barcodes\n",
    "unique_individual_barcodes_day7_cells = individual_barcodes_day7_cells.unique() # get unique lineage barcodes"
   ]
  },
  {
   "cell_type": "markdown",
   "metadata": {},
   "source": [
    "When not splitting the barcodes:"
   ]
  },
  {
   "cell_type": "code",
   "execution_count": null,
   "metadata": {},
   "outputs": [],
   "source": [
    "# check if all barcodes of day 14 were also detected at day 0 - when not splitting the barcodes\n",
    "\n",
    "# get unique lineages of day0 and 14 cells when not splitting the barcodes\n",
    "list1 = barcodes_persister_cells.unique()\n",
    "list2 = barcodes_day0_cells.unique()\n",
    "\n",
    "# checks if all lineages of day 14 cells were also detected at day 0\n",
    "print('Are the day14 lineages all present at day0:', set(list1) <= set(list2)) \n",
    "\n",
    "# find the lineages of day 14 cells that are not detected in day 0 cells\n",
    "missing_elements = set(list1) - set(list2)\n",
    "print('Number of day14 lineages that were not present at day0:', len(missing_elements))  # Returns a list of elements in list1 but not in list2\n",
    "print('Number of day14 lineages in total:', len(list1))\n",
    "print('So, the percentage of day14 lineages that were also detected at day0:', len(missing_elements)/len(list1))"
   ]
  },
  {
   "cell_type": "markdown",
   "metadata": {},
   "source": [
    "When splitting the barcodes:"
   ]
  },
  {
   "cell_type": "code",
   "execution_count": null,
   "metadata": {},
   "outputs": [],
   "source": [
    "# check if all barcodes of day 14 were also detected at day 0 - when splitting the barcodes\n",
    "\n",
    "# get unique lineages of day0 and 14 cells when not splitting the barcodes\n",
    "list1 = unique_individual_barcodes_persister_cells\n",
    "list2 = unique_individual_barcodes_day0_cells\n",
    "\n",
    "# checks if all lineages of day 14 cells were also detected at day 0\n",
    "print('Are the day14 lineages all present at day0:', set(list1) <= set(list2)) \n",
    "\n",
    "# find the lineages of day 14 cells that are not detected in day 0 cells\n",
    "missing_elements = set(list1) - set(list2)\n",
    "print('Number of day14 lineages that were not present at day0:', len(missing_elements))  # Returns a list of elements in list1 but not in list2\n",
    "print('Number of day14 lineages in total:', len(list1))\n",
    "print('So, the percentage of day14 lineages that were also detected at day0:', len(missing_elements)/len(list1))"
   ]
  },
  {
   "cell_type": "markdown",
   "metadata": {},
   "source": [
    "There are many lineage barcodes detected at day 14 while not at day 0. Maybe because of sampling, but still weird that the amount is this extremely large..."
   ]
  },
  {
   "cell_type": "code",
   "execution_count": null,
   "metadata": {},
   "outputs": [],
   "source": [
    "# check the lineages that are present at all time points\n",
    "\n",
    "# convert unique barcodes (unsplitted) to a set\n",
    "unique_lineages_non_splitted_day0 = set(barcodes_day0_cells.unique())\n",
    "unique_lineages_non_splitted_day3 = set(barcodes_day3_cells.unique())\n",
    "unique_lineages_non_splitted_day7 = set(barcodes_day7_cells.unique())\n",
    "unique_lineages_non_splitted_day14 = set(barcodes_persister_cells.unique())\n",
    "\n",
    "# get the lineages that are present at all time points\n",
    "lineages_at_all_times = unique_lineages_non_splitted_day0.intersection(unique_lineages_non_splitted_day3).intersection(unique_lineages_non_splitted_day7).intersection(unique_lineages_non_splitted_day14)\n",
    "\n",
    "print(\"Number of unique lineages in total when lineages barcodes are not splitted:\", len(all_barcodes.unique()))\n",
    "print('Number of unique lineages present at all time points:',len(lineages_at_all_times))\n",
    "print('So, the percentage of lineages that were detected at all days:', len(lineages_at_all_times)/len(all_barcodes.unique()))\n",
    "# lineages_at_all_times"
   ]
  },
  {
   "cell_type": "markdown",
   "metadata": {},
   "source": [
    "##### 3.2.3 Check unique lineages of cells from replicate 1"
   ]
  },
  {
   "cell_type": "code",
   "execution_count": null,
   "metadata": {},
   "outputs": [],
   "source": [
    "# Check if we get the corresponding number of lineages according to the paper in case we only consider cells from replicate 1 \n",
    "rep2_indices = df_metaData_with_lineage['sample_name'].str.contains('rep2', na=False) # get indices of rep2 cells\n",
    "df_metaData_rep1 = df_metaData_with_lineage[~rep2_indices] # exclude the cells from replicate 2\n",
    "# df_metaData_rep1.sample_name.astype('category') # convert to categorical to check for the groups\n",
    "\n",
    "# Get unique lineage of replicate 1 cells\n",
    "all_barcodes_rep1 = df_metaData_rep1['lineage_barcode'].dropna() # neglect NaN values\n",
    "all_individual_barcodes_rep1 = all_barcodes_rep1.str.split(',').explode() # Split strings by comma and create a new series with individual sequences\n",
    "unique_individual_barcodes_total_rep1 = all_individual_barcodes_rep1.unique() # Find unique sequences\n",
    "\n",
    "print(\"Nr. unique lineages:\", len(unique_individual_barcodes_total_rep1))\n",
    "print(\"Nr. unique lineages when lineages barcodes are not splitted:\",len(all_barcodes_rep1.unique()))"
   ]
  },
  {
   "cell_type": "markdown",
   "metadata": {},
   "source": [
    "Also when only considering cells from 1 replicate, it doesn't yield the same number of lineages as stated in the paper"
   ]
  },
  {
   "cell_type": "markdown",
   "metadata": {},
   "source": [
    "##### 3.2.4 Check if there are cells with lineage that have no clone_size"
   ]
  },
  {
   "cell_type": "code",
   "execution_count": null,
   "metadata": {},
   "outputs": [],
   "source": [
    "# check if there are cells with a lineage barcode but without a clone_size - to check if clone_size=NaN maybe meant that the cells are dead\n",
    "filtered_df  = df_metaData_with_lineage.dropna(subset=['lineage_barcode']) # remove rows in dataframe that don't have a lineage barcode\n",
    "print('Nr. cells with lineage', len(filtered_df ))\n",
    "print('Nr. of cells from the ones that have a lineage that also have a clone_size which is not NaN:',len(filtered_df['clone_size'].dropna()))\n"
   ]
  },
  {
   "cell_type": "markdown",
   "metadata": {},
   "source": [
    "All the cells with a lineage barcode have a clone size >= 1"
   ]
  },
  {
   "cell_type": "markdown",
   "metadata": {},
   "source": [
    "##### 3.2.5 Check lineages when we filter out cells with low clone size"
   ]
  },
  {
   "cell_type": "code",
   "execution_count": null,
   "metadata": {},
   "outputs": [],
   "source": [
    "# filtered_df_clone_size  = df_metaData_with_lineage.dropna(subset=['clone_size']) # remove rows in dataframe that don't have a lineage barcode\n",
    "filtered_df_clone_size = df_metaData_with_lineage[df_metaData_with_lineage['clone_size']>6.0]\n",
    "print('multi-cellular prsister colonies', len(filtered_df_clone_size)/len(df_metaData_with_lineage))\n",
    "filtered_df_clone_size.clone_size.astype('category') # convert to categorical to check for the groups\n",
    "filtered_df_clone_size\n",
    "\n",
    "# get unique barcodes\n",
    "all_barcodes_filtered_clone_size = filtered_df_clone_size['lineage_barcode'].dropna() # neglect NaN values\n",
    "all_individual_barcodes_filtered_clone_size = all_barcodes_filtered_clone_size.str.split(',').explode() # Split strings by comma and create a new series with individual sequences\n",
    "unique_individual_barcodes_filtered_clone_size = all_individual_barcodes_filtered_clone_size.unique() # Find unique sequences\n",
    "\n",
    "print(\"Nr. unique lineages in total:\", len(unique_individual_barcodes_filtered_clone_size))\n",
    "print(\"Nr. unique lineages in total when lineages barcodes are not splitted:\",len(all_barcodes_filtered_clone_size.unique()))\n",
    "print(\"\")\n",
    "\n",
    "# Get unique lineages of day 14 cells\n",
    "filtered_df_clone_size_day14_cells = filtered_df_clone_size[filtered_df_clone_size['time_point']==14] # select only the day 14 cells\n",
    "barcodes_filtered_persister_cells = filtered_df_clone_size_day14_cells['lineage_barcode'].dropna() # neglect NaN values\n",
    "individual_barcodes_filtered_persister_cells = barcodes_filtered_persister_cells.str.split(',').explode() # split lineage barcodes for cells with multiple lineage barcodes\n",
    "unique_individual_barcodes_filtered_persister_cells = individual_barcodes_filtered_persister_cells.unique() # get unique lineage barcodes\n",
    "\n",
    "print(\"Nr. unique lineages from persister cells:\", len(unique_individual_barcodes_filtered_persister_cells))\n",
    "print(\"Nr. unique lineages from persister cells when lineages barcodes are not splitted:\",len(barcodes_filtered_persister_cells.unique()))\n",
    "print(\"\")\n",
    "\n",
    "# Get multi lineages \n",
    "multi_barcode_indices = filtered_df_clone_size['lineage_barcode'].str.contains(',', na=False) # get indices of multi lineage cells\n",
    "barcodes_multilineage_cells = filtered_df_clone_size[multi_barcode_indices]['lineage_barcode'] # get lineage barcodes of multi lineage cells\n",
    "individual_barcodes_multilineage_cells = barcodes_multilineage_cells.str.split(',').explode() # split lineage barcodes for cells with multiple lineage barcodes\n",
    "unique_barcodes_multilineage_cells = individual_barcodes_multilineage_cells.unique() # get unique lineage barcodes\n",
    "\n",
    "print(\"Nr. lineages from multi lineage cells:\", len(unique_barcodes_multilineage_cells))\n",
    "print(\"Nr. lineages from multi lineage cells when lineages barcodes are not splitted:\", len(barcodes_multilineage_cells.unique()))\n",
    "print(\"\")\n",
    "\n"
   ]
  },
  {
   "cell_type": "markdown",
   "metadata": {},
   "source": [
    "# 4. Retrieve cell fate based on lineage barcode"
   ]
  },
  {
   "cell_type": "code",
   "execution_count": null,
   "metadata": {},
   "outputs": [],
   "source": [
    "copy_df =df_metaData_with_lineage.copy() # copy of dataframe to make additions\n",
    "\n",
    "# add column for info about the fate of the lineage at day 14\n",
    "copy_df['fate_day_14'] = np.nan # create empty column\n",
    "\n",
    "# Put 'Multi lineage' label in fate_day_14 column for cells that have multiple lineages\n",
    "multi_barcode_indices = df_metaData_with_lineage['lineage_barcode'].str.contains(',', na=False)\n",
    "copy_df.loc[multi_barcode_indices, 'fate_day_14'] = 'Multiple lineages'\n",
    "\n",
    "# get index of cycling and non-cycling cells\n",
    "index_non_cycling = df_metaData_with_lineage.index[df_metaData_with_lineage['sample_type']=='14_high']\n",
    "index_moderate_cyclers = df_metaData_with_lineage.index[df_metaData_with_lineage['sample_type']=='14_med']\n",
    "index_cycling = df_metaData_with_lineage.index[df_metaData_with_lineage['sample_type']=='14_low']\n",
    "\n",
    "# # fill column of fate at day 14\n",
    "# copy_df.loc[index_non_cycling, 'fate_day_14'] = 'Non cycling'\n",
    "# copy_df.loc[index_moderate_cyclers, 'fate_day_14'] = 'Moderate cyclers'\n",
    "# copy_df.loc[index_cycling, 'fate_day_14'] = 'Cycling'\n",
    "\n",
    "copy_df"
   ]
  },
  {
   "cell_type": "code",
   "execution_count": null,
   "metadata": {},
   "outputs": [],
   "source": [
    "copy_df.loc[:,['time_point','sample_name','sample_type','lineage_barcode','fate_day_14']]"
   ]
  },
  {
   "cell_type": "code",
   "execution_count": null,
   "metadata": {},
   "outputs": [],
   "source": [
    "# Find barcodes of day 14 cells grouped per cell fate \n",
    "def get_unique_barcodes(df, indices_list):\n",
    "    \"\"\"Function to obtain a series object of the unique lineage barcodes of cells measured at day 14, as categoricals.\"\"\"\n",
    "\n",
    "    barcodes = df.loc[indices_list, 'lineage_barcode'] # extract lineage barcodes of day 14 cells from a population with the same cell fate\n",
    "    barcodes = barcodes.astype('category') # convert to categories\n",
    "    barcodes = barcodes.cat.categories # create an object containing all unique lineage barcodes (with the category data type)\n",
    "    \n",
    "    return barcodes\n",
    "\n",
    "barcodes_non_cycling = get_unique_barcodes(copy_df,index_non_cycling) # barcoddes from day 14 cells categorized as non-cycling \n",
    "barcodes_moderate_cyclers = get_unique_barcodes(copy_df,index_moderate_cyclers )# barcoddes from day 14 cells categorized as moderate cyclers\n",
    "barcodes_cycling = get_unique_barcodes(copy_df,index_cycling) # barcoddes from day 14 cells categorized as cycling "
   ]
  },
  {
   "cell_type": "code",
   "execution_count": null,
   "metadata": {},
   "outputs": [],
   "source": [
    "# Find barcodes common between each pair of groups\n",
    "common_noncycling_cycling = barcodes_non_cycling.intersection(barcodes_cycling)\n",
    "common_noncycling_moderatecyclers = barcodes_non_cycling.intersection(barcodes_moderate_cyclers)\n",
    "common_cycling_moderatecyclers = barcodes_cycling.intersection(barcodes_moderate_cyclers)\n",
    "\n",
    "# Remove common barcodes from each group\n",
    "unique_barcodes_non_cycling = barcodes_non_cycling.difference(common_noncycling_cycling.union(common_noncycling_moderatecyclers)) \n",
    "unique_barcodes_cycling = barcodes_cycling.difference(common_noncycling_cycling.union(common_cycling_moderatecyclers))\n",
    "unique_barcodes_moderatecyclers = barcodes_moderate_cyclers.difference(common_noncycling_moderatecyclers.union(common_cycling_moderatecyclers))\n",
    "\n",
    "# Combine all common barcodes --> multi fate lineages \n",
    "multifate_barcodes = common_noncycling_cycling.union(common_noncycling_moderatecyclers).union(common_cycling_moderatecyclers)\n"
   ]
  },
  {
   "cell_type": "code",
   "execution_count": null,
   "metadata": {},
   "outputs": [],
   "source": [
    "# get indices of cells with lineage barcodes per group\n",
    "all_non_cyclers_indices = df_metaData_with_lineage['lineage_barcode'].isin(unique_barcodes_non_cycling)\n",
    "all_moderatecyclers_indices = df_metaData_with_lineage['lineage_barcode'].isin(unique_barcodes_moderatecyclers)\n",
    "all_cyclers_indices = df_metaData_with_lineage['lineage_barcode'].isin(unique_barcodes_cycling)\n",
    "all_multifate_indices = df_metaData_with_lineage['lineage_barcode'].isin(multifate_barcodes)\n",
    "\n",
    "# enter fate in cell fate column\n",
    "copy_df.loc[all_non_cyclers_indices, 'fate_day_14'] = 'Non-cycling'\n",
    "copy_df.loc[all_moderatecyclers_indices, 'fate_day_14'] = 'Moderate cycler'\n",
    "copy_df.loc[all_cyclers_indices, 'fate_day_14'] = 'Cycling'\n",
    "copy_df.loc[all_multifate_indices, 'fate_day_14'] = 'Multi-fate'\n",
    "\n",
    "copy_df\n"
   ]
  },
  {
   "cell_type": "code",
   "execution_count": null,
   "metadata": {},
   "outputs": [],
   "source": [
    "copy_df.loc[:,['time_point','sample_name','sample_type','lineage_barcode','fate_day_14']]"
   ]
  },
  {
   "cell_type": "markdown",
   "metadata": {},
   "source": [
    "# Save data"
   ]
  },
  {
   "cell_type": "code",
   "execution_count": null,
   "metadata": {},
   "outputs": [],
   "source": [
    "copy_df.to_csv('/data/benchmarks/scRNAseq_persisters/Processed_metaData_with_lineage.txt', sep=\"\\t\")"
   ]
  }
 ],
 "metadata": {
  "kernelspec": {
   "display_name": "python_env_grninference",
   "language": "python",
   "name": "python3"
  },
  "language_info": {
   "codemirror_mode": {
    "name": "ipython",
    "version": 3
   },
   "file_extension": ".py",
   "mimetype": "text/x-python",
   "name": "python",
   "nbconvert_exporter": "python",
   "pygments_lexer": "ipython3",
   "version": "3.11.2"
  }
 },
 "nbformat": 4,
 "nbformat_minor": 2
}
