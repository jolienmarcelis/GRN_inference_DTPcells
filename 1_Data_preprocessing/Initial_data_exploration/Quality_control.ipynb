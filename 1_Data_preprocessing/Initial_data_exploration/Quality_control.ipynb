{
 "cells": [
  {
   "cell_type": "markdown",
   "metadata": {},
   "source": [
    "### 0. Import libraries"
   ]
  },
  {
   "cell_type": "code",
   "execution_count": null,
   "metadata": {},
   "outputs": [],
   "source": [
    "import pandas as pd\n",
    "import numpy as np\n",
    "import polars as pl\n",
    "import anndata as ad\n",
    "\n",
    "import scanpy as sc\n",
    "\n",
    "import matplotlib.pyplot as plt\n",
    "\n",
    "import scib\n",
    "\n",
    "import scrublet as scr"
   ]
  },
  {
   "cell_type": "code",
   "execution_count": null,
   "metadata": {},
   "outputs": [],
   "source": [
    "%matplotlib inline\n",
    "%config InlineBackend.figure_format = 'retina'\n",
    "plt.rcParams[\"savefig.dpi\"] = 300\n",
    "plt.rcParams[\"figure.figsize\"] = [6, 4.5]"
   ]
  },
  {
   "cell_type": "markdown",
   "metadata": {},
   "source": [
    "# 1. Import data"
   ]
  },
  {
   "cell_type": "markdown",
   "metadata": {},
   "source": [
    "## 1.1 Load metadata"
   ]
  },
  {
   "cell_type": "code",
   "execution_count": null,
   "metadata": {},
   "outputs": [],
   "source": [
    "# Load metadata file\n",
    "df_metaData_with_lineage = pd.read_csv('/data/benchmarks/scRNAseq_persisters/GSE150949_metaData_with_lineage.txt', sep=\"\\t\")\n",
    "\n",
    "# Load metadata from the Seurat object to retrieve the majority fate\n",
    "df_metadata_seurat = pd.read_csv(\"/data/benchmarks/scRNAseq_persisters/metadata_seuratobject.csv\")\n",
    "\n",
    "# Add majority fate of the cells retrieved from the metadata of seurat object (from R data file) to the dataframe \n",
    "df_metaData_with_lineage['majority_fate'] = df_metadata_seurat['majority_fate'].tolist()"
   ]
  },
  {
   "cell_type": "markdown",
   "metadata": {},
   "source": [
    "### 1.1.1 Analyzing metadata"
   ]
  },
  {
   "cell_type": "code",
   "execution_count": null,
   "metadata": {},
   "outputs": [],
   "source": [
    "# Check mitochondrial fraction of cells\n",
    "print('The number of cells with >0.1 mitochondrial fraction is =', len(df_metaData_with_lineage[df_metaData_with_lineage['percent.mito']>0.1]))\n",
    "# check for cells with <1000 genes\n",
    "print('The number of cells with <1000 genes is =', len(df_metaData_with_lineage[df_metaData_with_lineage['nGene']<1000]))\n",
    "# check for cells with >4200 genes\n",
    "print('The number of cells with >4200 genes is =', len(df_metaData_with_lineage[df_metaData_with_lineage['nGene']>4200]))"
   ]
  },
  {
   "cell_type": "markdown",
   "metadata": {},
   "source": [
    "Since there are no cells with >0.1 mitochondrial fraction or with <1000 or >4200 genes, it looks like this data is already preprocessed before by Oren et al. (2021)."
   ]
  },
  {
   "cell_type": "markdown",
   "metadata": {},
   "source": [
    "### 1.1.2 Preprocessing metadata"
   ]
  },
  {
   "cell_type": "code",
   "execution_count": null,
   "metadata": {},
   "outputs": [],
   "source": [
    "copy_df =df_metaData_with_lineage.copy() # copy of dataframe to make additions\n",
    "\n",
    "# replace sample_type label: from 14_high to non-cycling etc. to avoid confusion\n",
    "copy_df = copy_df.replace('14_high', 'Non-cycling')\n",
    "copy_df = copy_df.replace('14_med', 'Moderate_cyclers')\n",
    "copy_df = copy_df.replace('14_low', 'Cycling')"
   ]
  },
  {
   "cell_type": "markdown",
   "metadata": {},
   "source": [
    "## 1.2 Load count matrix data & create to AnnData object"
   ]
  },
  {
   "cell_type": "code",
   "execution_count": null,
   "metadata": {},
   "outputs": [],
   "source": [
    "# Load data using polars (=more effective/efficient than pandas)\n",
    "df_pc9_count_matrix = pl.read_csv('/data/benchmarks/scRNAseq_persisters/GSE150949_pc9_count_matrix.csv')"
   ]
  },
  {
   "cell_type": "code",
   "execution_count": null,
   "metadata": {},
   "outputs": [],
   "source": [
    "df_pc9_count_matrix.head(10)"
   ]
  },
  {
   "cell_type": "code",
   "execution_count": null,
   "metadata": {},
   "outputs": [],
   "source": [
    "gene_names = df_pc9_count_matrix[:, 0].to_list() # Extract gene names (=first column)\n",
    "df_pc9_count_matrix_without_genenames = df_pc9_count_matrix[:, 1:] # Exclude first column which containes the gene names\n",
    "\n",
    "cell_names = df_pc9_count_matrix_without_genenames.columns # Extract names of the cells\n",
    "\n",
    "numpy_count_matrix = df_pc9_count_matrix_without_genenames.to_numpy()  # Convert to a numpy matrix to enable conversion to AnnData object\n",
    "\n",
    "# Create AnnData object\n",
    "adata = ad.AnnData(X=numpy_count_matrix.T,\n",
    "                   var=pd.DataFrame(index=gene_names),\n",
    "                   obs=pd.DataFrame(index=cell_names))"
   ]
  },
  {
   "cell_type": "code",
   "execution_count": null,
   "metadata": {},
   "outputs": [],
   "source": [
    "adata"
   ]
  },
  {
   "cell_type": "markdown",
   "metadata": {},
   "source": [
    "So, the number of cells = 56419 and the number of genes = 22166"
   ]
  },
  {
   "cell_type": "markdown",
   "metadata": {},
   "source": [
    "### 1.2.1 Enter relevant metadata to the AnnData object"
   ]
  },
  {
   "cell_type": "code",
   "execution_count": null,
   "metadata": {},
   "outputs": [],
   "source": [
    "# Enter relavant metadata to the AnnData object\n",
    "\n",
    "# Get lineage barcode in adata object\n",
    "adata.obs['lineage_barcode']=df_metaData_with_lineage['lineage_barcode'] # lineage barcodes from metadata of GEO\n",
    "\n",
    "# Get time points as categorical in adata object\n",
    "time_points_cat = df_metaData_with_lineage.time_point.astype('category') # convert dtype from int64 to category (for plotting lateron)\n",
    "adata.obs['time_point'] = time_points_cat # add categorical time points to adata object\n",
    "\n",
    "# Get sample types as categorical in adata object (= time points for cells from day 0 - 7 and cell fate categories for day-14 cells)\n",
    "sample_type_cat = copy_df.sample_type.astype('category') # convert dtype to category (for plotting lateron)\n",
    "adata.obs['sample_type'] = sample_type_cat # add categorical sample types to adata object\n",
    "\n",
    "# Get majority fate of the lineages in adata object\n",
    "majority_fate_cat = df_metaData_with_lineage.majority_fate.astype('category') # convert dtype from int64 to category (for plotting lateron)\n",
    "adata.obs['majority_fate'] = majority_fate_cat # add categorical majority fate to adata object\n",
    "\n",
    "adata"
   ]
  },
  {
   "cell_type": "code",
   "execution_count": null,
   "metadata": {},
   "outputs": [],
   "source": [
    "# Check cell distribution per sample type\n",
    "adata.obs['sample_type'].value_counts()"
   ]
  },
  {
   "cell_type": "markdown",
   "metadata": {},
   "source": [
    "# 2. Calculate QC"
   ]
  },
  {
   "cell_type": "code",
   "execution_count": null,
   "metadata": {},
   "outputs": [],
   "source": [
    "# mitochondrial genes\n",
    "adata.var['mt'] = adata.var_names.str.startswith('MT-') \n",
    "# ribosomal genes\n",
    "adata.var['ribo'] = adata.var_names.str.startswith((\"RPS\",\"RPL\"))\n",
    "# hemoglobin genes.\n",
    "adata.var['hb'] = adata.var_names.str.contains((\"^HB[^(P|E|S)]\"))\n",
    "\n",
    "adata.var"
   ]
  },
  {
   "cell_type": "code",
   "execution_count": null,
   "metadata": {},
   "outputs": [],
   "source": [
    "sc.pp.calculate_qc_metrics(adata, qc_vars=['mt','ribo','hb'], percent_top=None, log1p=False, inplace=True)"
   ]
  },
  {
   "cell_type": "code",
   "execution_count": null,
   "metadata": {},
   "outputs": [],
   "source": [
    "# plot some of the QC variables\n",
    "sc.pl.violin(adata, ['n_genes_by_counts', 'total_counts', 'pct_counts_mt', 'pct_counts_ribo', 'pct_counts_hb'], jitter=0.4, groupby = 'sample_type', rotation= 45)"
   ]
  },
  {
   "cell_type": "code",
   "execution_count": null,
   "metadata": {},
   "outputs": [],
   "source": [
    "sc.pl.scatter(adata, x='total_counts', y='pct_counts_mt', color=\"sample_type\")"
   ]
  },
  {
   "cell_type": "markdown",
   "metadata": {},
   "source": [
    "# 3. Filtering"
   ]
  },
  {
   "cell_type": "markdown",
   "metadata": {},
   "source": [
    "## 3.1 Filter on cells having enough genes and genes present in enough cells"
   ]
  },
  {
   "cell_type": "code",
   "execution_count": null,
   "metadata": {},
   "outputs": [],
   "source": [
    "# Store the original number of cells and genes\n",
    "number_cells_before_filtering = adata.n_obs\n",
    "number_genes_before_filtering = adata.n_vars\n",
    "\n",
    "# Only consider cells with more than X genes --> not applied for now\n",
    "# sc.pp.filter_cells(adata, min_genes=200)\n",
    "\n",
    "# Only consider genes with more than 1 count\n",
    "sc.pp.filter_genes(adata, min_counts=1)\n",
    "\n",
    "# Print filtering results\n",
    "print('Filtered out {} cells that have less than the minimum amount of genes expressed'.format(number_cells_before_filtering-adata.n_obs),'--> No filter on the cells to have a minimum amount of genes detected','\\n',\n",
    "      'Filtered out {} genes that are detected in less than 1 cell'.format(number_genes_before_filtering-adata.n_vars))"
   ]
  },
  {
   "cell_type": "markdown",
   "metadata": {},
   "source": [
    "Apparently there were no zero-count genes"
   ]
  },
  {
   "cell_type": "markdown",
   "metadata": {},
   "source": [
    "## 3.2 Filter on mitochondrial and ribosomal genes"
   ]
  },
  {
   "cell_type": "code",
   "execution_count": null,
   "metadata": {},
   "outputs": [],
   "source": [
    "print(\"Number of cells before mito and ribo percent filtering %d\"%adata.n_obs)\n",
    "\n",
    "# filter for percent mito\n",
    "adata = adata[adata.obs['pct_counts_mt'] < 20, :]\n",
    "\n",
    "print(\"Remaining cells after mito percent filtering %d\"%adata.n_obs)\n",
    "\n",
    "# filter for percent ribo > 0.05\n",
    "adata = adata[adata.obs['pct_counts_ribo'] > 5, :]\n",
    "\n",
    "print(\"Remaining cells after mito and ribo percent filtering %d\"%adata.n_obs)"
   ]
  },
  {
   "cell_type": "code",
   "execution_count": null,
   "metadata": {},
   "outputs": [],
   "source": [
    "# Visualize QC after filtering\n",
    "sc.pl.violin(adata, ['n_genes_by_counts', 'total_counts', 'pct_counts_mt','pct_counts_ribo', 'pct_counts_hb'], jitter=0.4, groupby = 'sample_type', rotation = 45)"
   ]
  },
  {
   "cell_type": "markdown",
   "metadata": {},
   "source": [
    "# 4. Normalization and logtransformation"
   ]
  },
  {
   "cell_type": "code",
   "execution_count": null,
   "metadata": {},
   "outputs": [],
   "source": [
    "# save normalized counts in raw slot.\n",
    "adata.raw = adata\n",
    "\n",
    "# normalize to depth 10 000\n",
    "# sc.pp.normalize_per_cell(adata, counts_per_cell_after=1e4)\n",
    "adata.X = adata.X.astype('float64') # Convert the main data matrix to float64, because normalization was not possible with int64 values\n",
    "sc.pp.normalize_per_cell(adata, key_n_counts='n_counts_all')\n",
    "\n",
    "# logaritmize\n",
    "sc.pp.log1p(adata)\n",
    "\n",
    "# scale\n",
    "sc.pp.scale(adata)"
   ]
  },
  {
   "cell_type": "markdown",
   "metadata": {},
   "source": [
    "# 5. Check cell cycle state"
   ]
  },
  {
   "cell_type": "code",
   "execution_count": null,
   "metadata": {},
   "outputs": [],
   "source": [
    "# Cell cycle state\n",
    "scib.preprocessing.score_cell_cycle(adata, organism='human')"
   ]
  },
  {
   "cell_type": "code",
   "execution_count": null,
   "metadata": {},
   "outputs": [],
   "source": [
    "sc.pl.violin(adata, ['S_score', 'G2M_score'], jitter=0.4, groupby = 'sample_type', rotation=45)"
   ]
  },
  {
   "cell_type": "code",
   "execution_count": null,
   "metadata": {},
   "outputs": [],
   "source": [
    "sc.pl.scatter(adata, x='S_score', y='G2M_score', color=\"phase\")"
   ]
  },
  {
   "cell_type": "markdown",
   "metadata": {},
   "source": [
    "# 5. Check for doublets"
   ]
  },
  {
   "cell_type": "code",
   "execution_count": null,
   "metadata": {},
   "outputs": [],
   "source": [
    "# Predicting doublets\n",
    "\n",
    "# split per batch into new objects.\n",
    "batches = adata.obs['sample_type'].cat.categories.tolist()\n",
    "alldata = {}\n",
    "for batch in batches:\n",
    "    tmp = adata[adata.obs['sample_type'] == batch,]\n",
    "    print(batch, \":\", tmp.shape[0], \" cells\")\n",
    "    scrub = scr.Scrublet(tmp.raw.X)\n",
    "    out = scrub.scrub_doublets(verbose=False, n_prin_comps = 20)\n",
    "    alldata[batch] = pd.DataFrame({'doublet_score':out[0],'predicted_doublets':out[1]},index = tmp.obs.index)\n",
    "    print(alldata[batch].predicted_doublets.sum(), \" predicted_doublets\")"
   ]
  },
  {
   "cell_type": "code",
   "execution_count": null,
   "metadata": {},
   "outputs": [],
   "source": [
    "# add predictions to the adata object.\n",
    "scrub_pred = pd.concat(alldata.values())\n",
    "adata.obs['doublet_scores'] = scrub_pred['doublet_score'] \n",
    "adata.obs['predicted_doublets'] = scrub_pred['predicted_doublets'] \n",
    "\n",
    "sum(adata.obs['predicted_doublets'])"
   ]
  },
  {
   "cell_type": "code",
   "execution_count": null,
   "metadata": {},
   "outputs": [],
   "source": [
    "# add in column with singlet/doublet instead of True/Fals\n",
    "%matplotlib inline\n",
    "\n",
    "adata.obs['doublet_info'] = adata.obs[\"predicted_doublets\"].astype(str)\n",
    "sc.pl.violin(adata, 'n_genes_by_counts', jitter=0.4, groupby = 'doublet_info', rotation=45)"
   ]
  },
  {
   "cell_type": "code",
   "execution_count": null,
   "metadata": {},
   "outputs": [],
   "source": [
    "sc.pp.highly_variable_genes(adata, min_mean=0.0125, max_mean=3, min_disp=0.5)\n",
    "adata = adata[:, adata.var.highly_variable]\n",
    "sc.pp.regress_out(adata, ['total_counts', 'pct_counts_mt'])\n",
    "sc.pp.scale(adata, max_value=10)\n",
    "sc.tl.pca(adata, svd_solver='arpack')\n",
    "sc.pp.neighbors(adata, n_neighbors=10, n_pcs=40)\n",
    "sc.tl.umap(adata)\n",
    "sc.pl.umap(adata, color=['doublet_scores','doublet_info','sample_type'])"
   ]
  },
  {
   "cell_type": "code",
   "execution_count": null,
   "metadata": {},
   "outputs": [],
   "source": [
    "print(adata.shape)\n",
    "\n",
    "# remove predicted doublets\n",
    "adata = adata[adata.obs['doublet_info'] == 'False',:]\n",
    "print(adata.shape)"
   ]
  }
 ],
 "metadata": {
  "kernelspec": {
   "display_name": "python_env_grninference",
   "language": "python",
   "name": "python3"
  },
  "language_info": {
   "codemirror_mode": {
    "name": "ipython",
    "version": 3
   },
   "file_extension": ".py",
   "mimetype": "text/x-python",
   "name": "python",
   "nbconvert_exporter": "python",
   "pygments_lexer": "ipython3",
   "version": "3.9.2"
  }
 },
 "nbformat": 4,
 "nbformat_minor": 2
}
