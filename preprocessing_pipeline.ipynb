{
 "cells": [
  {
   "cell_type": "markdown",
   "metadata": {},
   "source": [
    "# 0. Import libraries & settings"
   ]
  },
  {
   "cell_type": "code",
   "execution_count": null,
   "metadata": {},
   "outputs": [],
   "source": [
    "import pandas as pd\n",
    "import numpy as np\n",
    "import polars as pl\n",
    "import anndata as ad\n",
    "\n",
    "import scanpy as sc\n",
    "\n",
    "import matplotlib.pyplot as plt\n",
    "import seaborn as sns\n",
    "\n",
    "import scipy.stats as stats\n",
    "\n",
    "import os"
   ]
  },
  {
   "cell_type": "code",
   "execution_count": null,
   "metadata": {},
   "outputs": [],
   "source": [
    "%matplotlib inline\n",
    "%config InlineBackend.figure_format = 'retina'\n",
    "plt.rcParams[\"savefig.dpi\"] = 300\n",
    "plt.rcParams[\"figure.figsize\"] = [6, 4.5]"
   ]
  },
  {
   "cell_type": "markdown",
   "metadata": {},
   "source": [
    "## 0.1. Make a folder to save graphs"
   ]
  },
  {
   "cell_type": "code",
   "execution_count": null,
   "metadata": {},
   "outputs": [],
   "source": [
    "# Create folder for figures\n",
    "save_folder_figures = \"final_figures\"\n",
    "os.makedirs(save_folder_figures, exist_ok=True)\n",
    "\n",
    "# Create folder for specific trial\n",
    "save_folder_current_trial = save_folder_figures+\"/n_pcs_20\"\n",
    "os.makedirs(save_folder_current_trial, exist_ok=True)"
   ]
  },
  {
   "cell_type": "markdown",
   "metadata": {},
   "source": [
    "# 1. Load data"
   ]
  },
  {
   "cell_type": "markdown",
   "metadata": {},
   "source": [
    "## 1.1 Load metadata"
   ]
  },
  {
   "cell_type": "code",
   "execution_count": null,
   "metadata": {},
   "outputs": [],
   "source": [
    "df_metaData_with_lineage = pd.read_csv('/data/benchmarks/scRNAseq_persisters/GSE150949_metaData_with_lineage.txt', sep=\"\\t\")\n",
    "df_metaData_with_lineage"
   ]
  },
  {
   "cell_type": "code",
   "execution_count": null,
   "metadata": {},
   "outputs": [],
   "source": [
    "# Load metadata file\n",
    "df_metaData_with_lineage = pd.read_csv('/data/benchmarks/scRNAseq_persisters/GSE150949_metaData_with_lineage.txt', sep=\"\\t\")\n",
    "df_metaData_with_lineage\n",
    "\n",
    "# Load metadata from the Seurat object to retrieve the majority fate\n",
    "df_metadata_seurat = pd.read_csv(\"/data/benchmarks/scRNAseq_persisters/metadata_seuratobject.csv\")\n",
    "\n",
    "# Add majority fate of the cells retrieved from the metadata of seurat object (from R data file) to the dataframe \n",
    "df_metaData_with_lineage['majority_fate'] = df_metadata_seurat['majority_fate'].tolist()"
   ]
  },
  {
   "cell_type": "code",
   "execution_count": null,
   "metadata": {},
   "outputs": [],
   "source": [
    "df_metaData_with_lineage"
   ]
  },
  {
   "cell_type": "markdown",
   "metadata": {},
   "source": [
    "### 1.1.1 Analyzing metadata"
   ]
  },
  {
   "cell_type": "code",
   "execution_count": null,
   "metadata": {},
   "outputs": [],
   "source": [
    "nr_cells_total = len(df_metaData_with_lineage)\n",
    "nr_cells_no_barcode = sum(df_metaData_with_lineage['lineage_barcode'].isnull())\n",
    "nr_cells_multiple_barcodes = sum(df_metaData_with_lineage['lineage_barcode'].str.contains(',', na=False))\n",
    "\n",
    "print('The total number of cells =',nr_cells_total)\n",
    "print('The number of cells without a lineage barcode =',nr_cells_no_barcode, 'This is equal to ', round((nr_cells_no_barcode/nr_cells_total)*100,1),'%')\n",
    "print('The number of cells with multiple lineage barcodes =', nr_cells_multiple_barcodes,'This is equal to ', round((nr_cells_multiple_barcodes/nr_cells_total)*100,1),'%')"
   ]
  },
  {
   "cell_type": "code",
   "execution_count": null,
   "metadata": {},
   "outputs": [],
   "source": [
    "# Check mitochondrial fraction of cells\n",
    "print('The number of cells with >0.1 mitochondrial fraction is =', len(df_metaData_with_lineage[df_metaData_with_lineage['percent.mito']>0.1]))\n",
    "# check for cells with <1000 genes\n",
    "print('The number of cells with <1000 genes is =', len(df_metaData_with_lineage[df_metaData_with_lineage['nGene']<1000]))\n",
    "# check for cells with >4200 genes\n",
    "print('The number of cells with >4200 genes is =', len(df_metaData_with_lineage[df_metaData_with_lineage['nGene']>4200]))"
   ]
  },
  {
   "cell_type": "markdown",
   "metadata": {},
   "source": [
    "Since there are no cells with >0.1 mitochondrial fraction or with <1000 or >4200 genes, it looks like this data is already preprocessed before by Oren et al. (2021)."
   ]
  },
  {
   "cell_type": "markdown",
   "metadata": {},
   "source": [
    "### 1.1.2 Preprocessing metadata"
   ]
  },
  {
   "cell_type": "code",
   "execution_count": null,
   "metadata": {},
   "outputs": [],
   "source": [
    "copy_df =df_metaData_with_lineage.copy() # copy of dataframe to make additions\n",
    "\n",
    "# replace sample_type label: from 14_high to non-cycling etc. to avoid confusion\n",
    "copy_df = copy_df.replace('14_high', 'Non-cycling')\n",
    "copy_df = copy_df.replace('14_med', 'Moderate_cyclers')\n",
    "copy_df = copy_df.replace('14_low', 'Cycling')"
   ]
  },
  {
   "cell_type": "markdown",
   "metadata": {},
   "source": [
    "## 1.2 Load count matrix data & create to AnnData object"
   ]
  },
  {
   "cell_type": "code",
   "execution_count": null,
   "metadata": {},
   "outputs": [],
   "source": [
    "# Load data using polars (=more effective/efficient than pandas)\n",
    "df_pc9_count_matrix = pl.read_csv('/data/benchmarks/scRNAseq_persisters/GSE150949_pc9_count_matrix.csv')"
   ]
  },
  {
   "cell_type": "code",
   "execution_count": null,
   "metadata": {},
   "outputs": [],
   "source": [
    "df_pc9_count_matrix.head(10)"
   ]
  },
  {
   "cell_type": "code",
   "execution_count": null,
   "metadata": {},
   "outputs": [],
   "source": [
    "# Read preprocessed AnnData object - to get predicted cell fates\n",
    "adata_preprocessed = sc.read_h5ad('/home/jolien/Notebooks/data/preprocessed_data_v2_with_predicted_class_v2.h5ad')\n",
    "adata_preprocessed"
   ]
  },
  {
   "cell_type": "markdown",
   "metadata": {},
   "source": [
    "# 2. Definition of function for data preprocessing"
   ]
  },
  {
   "cell_type": "code",
   "execution_count": null,
   "metadata": {},
   "outputs": [],
   "source": [
    "sample_type_palette = {\n",
    "    '0': '#F560A6',  # Pink\n",
    "    '3': '#91307F',  # Purple\n",
    "    '7': '#2D0059',  # Dark purple\n",
    "    'Cycling': '#1f77b4',  # Blue\n",
    "    'Moderate_cyclers': '#ff7f0e',  # Orange\n",
    "    'Non-cycling': '#2ca02c',  # Green\n",
    "}\n",
    "\n",
    "sample_type_palette_time = {\n",
    "    0: '#F560A6',  # Pink\n",
    "    3: '#91307F',  # Purple\n",
    "    7: '#2D0059',  # Dark purple\n",
    "    14: '#5b5b5b',  # Grey\n",
    "}"
   ]
  },
  {
   "cell_type": "code",
   "execution_count": null,
   "metadata": {},
   "outputs": [],
   "source": [
    "def scRNAseq_preprocessing(df_pc9_count_matrix, df_metaData, adata_preprocessed, list_subset_days, selection_column, remove_category, plot_str):\n",
    "    \"\"\"\n",
    "    Inputs:\n",
    "    - df_pc9_count_matrix: scRNA-seq data (count matrix)\n",
    "    df_metaData_with_lineage: dataframe of the metadata\n",
    "    adata_preprocessed: \n",
    "    \"\"\"\n",
    "\n",
    "    ## Prepare data\n",
    "    gene_names = df_pc9_count_matrix[:, 0].to_list()                        # Extract gene names (=first column)\n",
    "    df_pc9_count_matrix_without_genenames = df_pc9_count_matrix[:, 1:]      # Exclude first column which containes the gene names\n",
    "    cell_names = df_pc9_count_matrix_without_genenames.columns              # Extract names of the cells\n",
    "    numpy_count_matrix = df_pc9_count_matrix_without_genenames.to_numpy()   # Convert to a numpy matrix to enable conversion to AnnData object\n",
    "\n",
    "    ## Create AnnData object\n",
    "    adata = ad.AnnData(X=numpy_count_matrix.T,\n",
    "                    var=pd.DataFrame(index=gene_names),\n",
    "                    obs=pd.DataFrame(index=cell_names))\n",
    "    print('Created AnnData object:', adata)\n",
    "\n",
    "    ## Enter relavant metadata to the AnnData object\n",
    "    # Get time points as categorical in adata object\n",
    "    time_points_cat = df_metaData.time_point.astype('category')             # convert dtype from int64 to category (for plotting lateron)\n",
    "    adata.obs['time_point'] = time_points_cat                               # add categorical time points to adata object\n",
    "    # Get sample types as categorical in adata object (= time points for cells from day 0 - 7 and cell fate categories for day-14 cells)\n",
    "    sample_type_cat = df_metaData.sample_type.astype('category')            # convert dtype to category (for plotting lateron)\n",
    "    adata.obs['sample_type'] = sample_type_cat                              # add categorical sample type points to adata object\n",
    "    print('adata with relevant metadata:',adata)\n",
    "    # Get majority fate of the lineages in adata object\n",
    "    majority_fate_cat = df_metaData.majority_fate.astype('category') # convert dtype from int64 to category (for plotting lateron)\n",
    "    adata.obs['majority_fate'] = majority_fate_cat # add categorical time points to adata object\n",
    "\n",
    "    ## Add predicted cell fate\n",
    "    # Add predicted cell fate (from RF classification model) to the not yet preprocessed data\n",
    "    adata.obs['Predicted_cell_fate'] = adata_preprocessed.obs['Predicted_cell_fate']\n",
    "    # Add empty column\n",
    "    adata.obs['Sample_type_supplemented_with_predictions'] = np.nan\n",
    "    # Create masks to retrieve the rows for the different subgroups\n",
    "    mask_predicted_labels = adata.obs['time_point']!=14\n",
    "    mask_real_label = adata.obs['time_point']==14\n",
    "    # Assign sample type to the new column for day 14 cells and for the cells at other time points the predicted cell fates are added\n",
    "    adata.obs.loc[mask_predicted_labels,'Sample_type_supplemented_with_predictions'] = adata.obs.loc[mask_predicted_labels,'Predicted_cell_fate']\n",
    "    adata.obs.loc[mask_real_label,'Sample_type_supplemented_with_predictions'] = adata.obs.loc[mask_real_label,'sample_type']\n",
    "\n",
    "    ## Subset the cells - Select the cells of interest\n",
    "    mask_subset1 = adata.obs['time_point'].isin(list_subset_days)\n",
    "    adata_subset = adata[mask_subset1]                                       # select cells from the correct day\n",
    "    mask_not_subset2 = adata_subset.obs[selection_column].isin(remove_category)\n",
    "\n",
    "    # mask_subset2 = adata_subset.obs[selection_column]!=remove_category\n",
    "    adata_subset = adata_subset[~mask_not_subset2]\n",
    "    print('Subset of data:', adata_subset)\n",
    "\n",
    "    ## Only consider genes with more than 1 count\n",
    "    sc.pp.filter_genes(adata_subset, min_counts=1)\n",
    "    print('Filtered adata:', adata)\n",
    "\n",
    "    ## Normalize gene expression matrix with total UMI count per cell\n",
    "    adata_subset.X = adata_subset.X.astype('float64')                       # Convert the main data matrix to float64, because normalization was not possible with int64 values\n",
    "    sc.pp.normalize_per_cell(adata_subset, key_n_counts='n_counts_all')\n",
    "\n",
    "    # keep the data before selecting highly variable genes\n",
    "    adata_subset.layers[\"original_data_normalized_all_genes\"] = adata_subset.X.copy()\n",
    "\n",
    "    ## Select top 2000 highly-variable genes\n",
    "    filter_result = sc.pp.filter_genes_dispersion(adata_subset.X,\n",
    "                                                flavor='cell_ranger',\n",
    "                                                n_top_genes=2000,\n",
    "                                                log=False)\n",
    "    # Subset the genes\n",
    "    adata_subset = adata_subset[:, filter_result.gene_subset]\n",
    "    # Renormalize after filtering - making the total expression per cell equal across the dataset\n",
    "    sc.pp.normalize_per_cell(adata_subset)\n",
    "\n",
    "    \n",
    "    ## Log transformation\n",
    "    # keep raw count data before log transformation\n",
    "    adata_subset.raw = adata_subset\n",
    "    adata_subset.layers[\"raw_count\"] = adata_subset.raw.X.copy()\n",
    "    # Log transformation \n",
    "    sc.pp.log1p(adata_subset)                                               # The \"log1p\" function means taking the natural logarithm of (1 + X) for each value in the expression matrix, the addition of 1 ensures all values, including zeros, are log-transformed without creating NaN values\n",
    "    # Keep log_transformed data before scaling\n",
    "    adata_subset.layers[\"log_transformed\"] = adata_subset.X.copy()\n",
    "    # Scaling \n",
    "    sc.pp.scale(adata_subset)\n",
    "    print('After logtransformation:',adata_subset)\n",
    "\n",
    "    # PCA\n",
    "    sc.tl.pca(adata_subset, svd_solver='arpack')\n",
    "    # Diffusion map\n",
    "    sc.pp.neighbors(adata_subset, n_neighbors=4, n_pcs=20)\n",
    "    # sc.tl.draw_graph(adata_subset, random_state=123)\n",
    "    # sc.pl.draw_graph(adata_subset, color=\"sample_type\")\n",
    "    sc.tl.diffmap(adata_subset)\n",
    "    # Calculate neihbors again based on diffusionmap\n",
    "    sc.pp.neighbors(adata_subset, n_neighbors=10, use_rep='X_diffmap')\n",
    "    # sc.tl.draw_graph(adata_subset, random_state=123)\n",
    "    # sc.pl.draw_graph(adata_subset, color=\"sample_type\")\n",
    "\n",
    "    ## Cell clustering\n",
    "    # Run Louvain clustering\n",
    "    sc.tl.louvain(adata_subset)\n",
    "\n",
    "    ## Dimensionality reduction\n",
    "    # PAGA graph construction\n",
    "    sc.tl.paga(adata_subset, groups='louvain')\n",
    "    plt.rcParams[\"figure.figsize\"] = [6, 4.5]\n",
    "    sc.pl.paga(adata_subset)\n",
    "    # Calculate force-directed graph with PAGA graph as initial cluster position\n",
    "    sc.tl.draw_graph(adata_subset, init_pos='paga', random_state=123) # Random seed to ensure consistency of plot for different runs\n",
    "    # Calculate UMAP \n",
    "    sc.tl.umap(adata_subset,random_state=123)\n",
    "\n",
    "    # Visualization\n",
    "    # Plot force-directed graph with PAGA graph as initial cluster position\n",
    "    # sc.pl.draw_graph(adata_subset, color=[\"louvain\", \"time_point\",\"sample_type\",\"Predicted_cell_fate\"], legend_loc='on data')#, save=\"_PAGA_all_groupings.png\")\n",
    "\n",
    "    # Plot force-directed graph with PAGA graph as initial cluster position - legend next to plot\n",
    "    fig, axes = plt.subplots(1, 4, figsize=(20, 5))\n",
    "    sc.pl.draw_graph(adata_subset, color='louvain', legend_loc='on data', ax=axes[0], show=False)    # First plot with legend on data\n",
    "    sc.pl.draw_graph(adata_subset, color='time_point', ax=axes[1], palette=sample_type_palette_time, show=False)                       # Second plot without legend\n",
    "    sc.pl.draw_graph(adata_subset, color='sample_type', ax=axes[2], palette=sample_type_palette, show=False)                      # Third plot without legend\n",
    "    sc.pl.draw_graph(adata_subset, color='Predicted_cell_fate', ax=axes[3], palette=sample_type_palette, show=False)              # Fourth plot without legend\n",
    "    # Save the combined plot\n",
    "    plt.tight_layout()\n",
    "    plot_title1 = \"PAGA_all_groupings\"+plot_str+\".png\"\n",
    "    plt.savefig(os.path.join(\"/home/jolien/Notebooks/data_preprocessing/subset/\",save_folder_current_trial,plot_title1))\n",
    "\n",
    "    # UMAP plot\n",
    "    # sc.pl.umap(adata_subset, color=['louvain','time_point','sample_type'])#,save=\"_old_UMAP_all_groupings.png\")\n",
    "    fig, axes = plt.subplots(1, 4, figsize=(20, 5))\n",
    "    sc.pl.umap(adata_subset, color='louvain', legend_loc='on data', ax=axes[0], show=False)    # First plot with legend on data\n",
    "    sc.pl.umap(adata_subset, color='time_point', ax=axes[1], palette=sample_type_palette_time, show=False)                       # Second plot without legend\n",
    "    sc.pl.umap(adata_subset, color='sample_type', ax=axes[2], palette=sample_type_palette, show=False)                      # Third plot without legend\n",
    "    sc.pl.umap(adata_subset, color='Predicted_cell_fate', ax=axes[3], palette=sample_type_palette, show=False)              # Fourth plot without legend\n",
    "    # sc.pl.umap(adata_subset, color='majority_fate', ax=axes[4], show=False)              # Fourth plot without legend\n",
    "    # Save the combined plot\n",
    "    plt.tight_layout()\n",
    "    plot_title2 = \"UMAP_all_groupings\"+plot_str+\".png\"\n",
    "    plt.savefig(os.path.join(\"/home/jolien/Notebooks/data_preprocessing/subset/\",save_folder_current_trial,plot_title2))\n",
    "\n",
    "\n",
    "    return adata_subset"
   ]
  },
  {
   "cell_type": "code",
   "execution_count": null,
   "metadata": {},
   "outputs": [],
   "source": [
    "# Functions for plotting PCA results\n",
    "\n",
    "def plot_subplot_PCA(fig, axes, axs, adata, coloredby, colorbar_label, subplot_title,expl_var_pc1, expl_var_pc2):\n",
    "    \"\"\"\n",
    "    Create PCA plot: plot PC1 vs PC2 in a subplot.\n",
    "    Color the cells by their value of the indicated variable (based on the coloredby argument).\n",
    "    \"\"\"\n",
    "    # Create the scatter plot\n",
    "    sc = axes[axs[0],axs[1]].scatter(\n",
    "        adata.obs['PC1'], \n",
    "        adata.obs['PC2'], \n",
    "        c=coloredby,  # Color points by 'percent_mito'\n",
    "        cmap='viridis',  \n",
    "        s=5) \n",
    "    # Add labels and title\n",
    "    axes[axs[0],axs[1]].set_xlabel('PC1 ({:.1f}%)'.format(expl_var_pc1), fontsize=14)\n",
    "    axes[axs[0],axs[1]].set_ylabel('PC2 ({:.1f}%)'.format(expl_var_pc2), fontsize=14)\n",
    "    # axes[axs[0],axs[1]].set_title(subplot_title, fontsize=14)\n",
    "    # Add colorbar\n",
    "    cbar = fig.colorbar(sc, ax=axes[axs[0], axs[1]])\n",
    "    cbar.set_label(colorbar_label, fontsize=14)  \n",
    "\n",
    "    return\n",
    "\n",
    "\n",
    "def PCA_plots(adata, copy_df, color_palette):\n",
    "    \"\"\"Perform PCA\n",
    "    - Create an elbow plot\n",
    "    - PC1 vs PC2\n",
    "    - PC1 vs PC2 colored by several cell properties\n",
    "    - PC1 vs PC2 as a contour plot colored by the predicted cell fate\n",
    "    \"\"\"\n",
    "\n",
    "    # Store PCs in adata.obs\n",
    "    adata.obs['PC1'] = adata.obsm['X_pca'][:,0] # First principal component\n",
    "    adata.obs['PC2'] = adata.obsm['X_pca'][:,1] # Second principal component\n",
    "\n",
    "    # Access the variance explained by each PC\n",
    "    variance_ratio = adata.uns['pca']['variance_ratio']\n",
    "    # Get explained variance percentage for PC1 and PC2\n",
    "    expl_var_pc1 = adata.uns['pca']['variance_ratio'][0]*100\n",
    "    expl_var_pc2 = adata.uns['pca']['variance_ratio'][2]*100\n",
    "\n",
    "    # Create an elbow plot\n",
    "    plt.figure(figsize=(8, 5))\n",
    "    plt.plot(range(1, len(variance_ratio) + 1), variance_ratio*100, marker='o')\n",
    "    plt.xlabel('Principal Component', fontsize=14)\n",
    "    plt.ylabel('Variance Explained', fontsize=14)\n",
    "    plt.yticks(fontsize=12)\n",
    "    plt.xticks(fontsize=12)\n",
    "    # plt.title('Elbow Plot for PCA')\n",
    "    # plt.grid(True)\n",
    "    # plt.savefig('/home/jolien/Notebooks/data_preprocessing/figures/PCA_elbow_plot.png')\n",
    "    plt.show()\n",
    "\n",
    "    # Plot PC1 vs PC2\n",
    "    plt.figure(figsize=(8, 6))\n",
    "    plt.scatter(adata.obs['PC1'], adata.obs['PC2'], s=5) \n",
    "    plt.xlabel('PC1 ({:.1f}%)'.format(expl_var_pc1), fontsize=14)\n",
    "    plt.ylabel('PC2 ({:.1f}%)'.format(expl_var_pc2), fontsize=14)\n",
    "    plt.yticks(fontsize=12)\n",
    "    plt.xticks(fontsize=12)\n",
    "    # plt.title('PCA Plot of PC1 vs PC2')\n",
    "    plt.show()\n",
    "\n",
    "    # Store metadata in adata object\n",
    "    adata.obs['percent_mito'] = copy_df['percent.mito']        # Get percentage mitochrondrial genes in adata object\n",
    "    adata.obs['nUMI'] = copy_df['nUMI']                        # Get the number of UMI\n",
    "    adata.obs['nGene'] = copy_df['nGene']                      # Get the number of genes\n",
    "\n",
    "    # Plot PC1 vs PC2 with cell colored based on their properties\n",
    "    fig, axes = plt.subplots(2, 3, figsize=(22, 12))#, sharex='all', sharey='all') \n",
    "    # contour plot\n",
    "    sns.kdeplot(data=adata.obs, x=\"PC1\", y=\"PC2\",  ax=axes[0,0], hue=\"Predicted_cell_fate\", palette=color_palette) \n",
    "    sns.move_legend(axes[0,0], \"upper left\")\n",
    "    axes[0,0].set_xlabel('PC1 ({:.1f}%)'.format(expl_var_pc1), fontsize=14)\n",
    "    axes[0,0].set_ylabel('PC2 ({:.1f}%)'.format(expl_var_pc2), fontsize=14)\n",
    "    # axes[0,0].set_title('Colored by predicted cell fate')\n",
    "\n",
    "    plot_subplot_PCA(fig, axes, [0,1], adata, adata.obs['percent_mito'], 'percent_mito', 'Colored by percent mitochondrial genes',expl_var_pc1, expl_var_pc2)\n",
    "    plot_subplot_PCA(fig, axes, [0,2], adata, adata.obs['nUMI'], 'nUMI','Colored by nUMI',expl_var_pc1, expl_var_pc2)\n",
    "    plot_subplot_PCA(fig, axes, [1,0], adata, adata.obs['nGene'], 'nGene', 'Colored by nGene',expl_var_pc1, expl_var_pc2)\n",
    "    plot_subplot_PCA(fig, axes, [1,1], adata, np.mean(adata.X, axis=1), 'mean expression', 'Colored by mean expression',expl_var_pc1, expl_var_pc2) \n",
    "    plot_subplot_PCA(fig, axes, [1,2], adata, np.count_nonzero(adata.layers['raw_count'], axis=1), 'non-zero expression', 'Colored by non-zero expression',expl_var_pc1, expl_var_pc2) \n",
    "\n",
    "\n",
    "    # fig.suptitle('PCA Plot of PC1 vs PC2')\n",
    "    # fig.savefig('PCA plots day 3 cells colored by variables')\n",
    "\n",
    "    # Contour plot\n",
    "    plt.figure(figsize=(8, 6))\n",
    "    sns.kdeplot(data=adata.obs, x=\"PC1\", y=\"PC2\", hue=\"Predicted_cell_fate\", palette=color_palette) # contour plot\n",
    "    plt.xlabel('PC1 ({:.1f}%)'.format(expl_var_pc1), fontsize=14)\n",
    "    plt.ylabel('PC2 ({:.1f}%)'.format(expl_var_pc2), fontsize=14)\n",
    "    plt.yticks(fontsize=12)\n",
    "    plt.xticks(fontsize=12)\n",
    "    # plt.title('PCA density contour plot for sample types')\n",
    "\n",
    "    return"
   ]
  },
  {
   "cell_type": "markdown",
   "metadata": {},
   "source": [
    "# 3. Data preprocessing"
   ]
  },
  {
   "cell_type": "markdown",
   "metadata": {},
   "source": [
    "## 3.1 Day 7 and 14 cells only"
   ]
  },
  {
   "cell_type": "code",
   "execution_count": null,
   "metadata": {},
   "outputs": [],
   "source": [
    "adata_day7_14 = scRNAseq_preprocessing(df_pc9_count_matrix, copy_df, adata_preprocessed, [7, 14], 'Sample_type_supplemented_with_predictions', [''], \"day7_14\")"
   ]
  },
  {
   "cell_type": "code",
   "execution_count": null,
   "metadata": {},
   "outputs": [],
   "source": [
    "adata_day7_14_without_non_cycling = scRNAseq_preprocessing(df_pc9_count_matrix, copy_df, adata_preprocessed, [7, 14], 'Sample_type_supplemented_with_predictions', ['Non-cycling'], \"day7_14_without_noncycling\")"
   ]
  },
  {
   "cell_type": "markdown",
   "metadata": {},
   "source": [
    "## 3.2 Day 0 and 3 cells only "
   ]
  },
  {
   "cell_type": "markdown",
   "metadata": {},
   "source": [
    "Reason: because we see two clusters in day 3 cells which might means there is a bifurcation in the data"
   ]
  },
  {
   "cell_type": "code",
   "execution_count": null,
   "metadata": {},
   "outputs": [],
   "source": [
    "adata_day0_3 = scRNAseq_preprocessing(df_pc9_count_matrix, copy_df, adata_preprocessed, [0,3], 'Sample_type_supplemented_with_predictions', [''], \"day0_3\")\n"
   ]
  },
  {
   "cell_type": "code",
   "execution_count": null,
   "metadata": {},
   "outputs": [],
   "source": [
    "# plots for report\n",
    "sc.pl.draw_graph(adata_day0_3, color='time_point', palette=sample_type_palette_time, title=\"Cells day 0 and 3\")\n",
    "sc.pl.draw_graph(adata_day0_3, color='Predicted_cell_fate', palette=sample_type_palette, title=\"Cells day 0 and 3\")"
   ]
  },
  {
   "cell_type": "markdown",
   "metadata": {},
   "source": [
    "## 3.3 Day 0, 3, and 7 cells "
   ]
  },
  {
   "cell_type": "code",
   "execution_count": null,
   "metadata": {},
   "outputs": [],
   "source": [
    "adata_day0_3_7 = scRNAseq_preprocessing(df_pc9_count_matrix, copy_df, adata_preprocessed, [0,3,7], 'Sample_type_supplemented_with_predictions', [''], \"day0_3_7\")"
   ]
  },
  {
   "cell_type": "markdown",
   "metadata": {},
   "source": [
    "## 3.4 Day 3 cells only"
   ]
  },
  {
   "cell_type": "markdown",
   "metadata": {},
   "source": [
    "To investigate subpopulations in day 3 cells"
   ]
  },
  {
   "cell_type": "code",
   "execution_count": null,
   "metadata": {},
   "outputs": [],
   "source": [
    "adata_day3 = scRNAseq_preprocessing(df_pc9_count_matrix, copy_df, adata_preprocessed, [3], 'Sample_type_supplemented_with_predictions', [''], \"day3\")"
   ]
  },
  {
   "cell_type": "markdown",
   "metadata": {},
   "source": [
    "### 3.4.1 PCA analysis"
   ]
  },
  {
   "cell_type": "code",
   "execution_count": null,
   "metadata": {},
   "outputs": [],
   "source": [
    "PCA_plots(adata_day3, copy_df, sample_type_palette)"
   ]
  },
  {
   "cell_type": "markdown",
   "metadata": {},
   "source": [
    "If I want to show the mean or non-zero values of all genes, I need to preprocess the data again without the HVG selection (because now only the top 2000 genes are in the adata)."
   ]
  },
  {
   "cell_type": "code",
   "execution_count": null,
   "metadata": {},
   "outputs": [],
   "source": [
    "# plt.figure(figsize=(8, 6))\n",
    "\n",
    "# sns.kdeplot(data=adata_day3.obs, x=\"PC1\", y=\"PC2\", hue=\"majority_fate\") # contour plot\n",
    "\n",
    "# plt.xlabel('PC1 ({:.1f}%)'.format(expl_var_pc1))\n",
    "# plt.ylabel('PC2 ({:.1f}%)'.format(expl_var_pc2))\n",
    "# plt.title('PCA density contour plot for sample types')"
   ]
  },
  {
   "cell_type": "markdown",
   "metadata": {},
   "source": [
    "So, the cycling cells are only in one of the populations"
   ]
  },
  {
   "cell_type": "markdown",
   "metadata": {},
   "source": [
    "## 3.5 Day 3, 7, and 14 cells - all measurements after treatment"
   ]
  },
  {
   "cell_type": "markdown",
   "metadata": {},
   "source": [
    "Reason: day 0 cells are the only ones before treatment and therefore probably largly different from the cells of other time points. This biological difference between the samples might be the cause of the different clusters. So, maybe we a development for the cells if we only look at the time points after treatment"
   ]
  },
  {
   "cell_type": "code",
   "execution_count": null,
   "metadata": {},
   "outputs": [],
   "source": [
    "adata_day3_7_14 = scRNAseq_preprocessing(df_pc9_count_matrix, copy_df, adata_preprocessed, [3,7,14], 'Sample_type_supplemented_with_predictions', [''], \"day3_7_14\")"
   ]
  },
  {
   "cell_type": "markdown",
   "metadata": {},
   "source": [
    "## 3.6 Day 14 cells only"
   ]
  },
  {
   "cell_type": "code",
   "execution_count": null,
   "metadata": {},
   "outputs": [],
   "source": [
    "# All day 14 cells \n",
    "adata_day14 = scRNAseq_preprocessing(df_pc9_count_matrix, copy_df, adata_preprocessed, [14], 'sample_type', [''], \"day14_cells\")"
   ]
  },
  {
   "cell_type": "code",
   "execution_count": null,
   "metadata": {},
   "outputs": [],
   "source": [
    "# plots for report\n",
    "sc.pl.draw_graph(adata_day14, color='sample_type', palette=sample_type_palette)"
   ]
  },
  {
   "cell_type": "code",
   "execution_count": null,
   "metadata": {},
   "outputs": [],
   "source": [
    "adata_day14.write('/home/jolien/Notebooks/data/preprocessed_data_day14.h5ad')"
   ]
  },
  {
   "cell_type": "markdown",
   "metadata": {},
   "source": [
    "## 3.7 Moderate cycling cells only"
   ]
  },
  {
   "cell_type": "code",
   "execution_count": null,
   "metadata": {},
   "outputs": [],
   "source": [
    "# Day 14 moderate cycling cells \n",
    "adata_day14_moderate_cyclers = scRNAseq_preprocessing(df_pc9_count_matrix, copy_df, adata_preprocessed, [14], 'sample_type', ['Non-cycling','Cycling'], \"day14_mod_cycl\")"
   ]
  },
  {
   "cell_type": "code",
   "execution_count": null,
   "metadata": {},
   "outputs": [],
   "source": [
    "# All moderate cycling cells \n",
    "adata_moderate_cyclers = scRNAseq_preprocessing(df_pc9_count_matrix, copy_df, adata_preprocessed, [0,3,7,14], 'Sample_type_supplemented_with_predictions', ['Non-cycling','Cycling'], \"all_days_mod_cycl\")"
   ]
  },
  {
   "cell_type": "code",
   "execution_count": null,
   "metadata": {},
   "outputs": [],
   "source": [
    "# plots for report\n",
    "sc.pl.draw_graph(adata_moderate_cyclers, color='time_point', palette=sample_type_palette_time, title='Moderate cyclers')"
   ]
  },
  {
   "cell_type": "code",
   "execution_count": null,
   "metadata": {},
   "outputs": [],
   "source": [
    "# Day 7 and 14 moderate cycling cells \n",
    "adata_day7_14_moderate_cyclers = scRNAseq_preprocessing(df_pc9_count_matrix, copy_df, adata_preprocessed, [7,14], 'Sample_type_supplemented_with_predictions', ['Non-cycling','Cycling'], \"day7_14_mod_cycl\")"
   ]
  },
  {
   "cell_type": "markdown",
   "metadata": {},
   "source": [
    "## 3.8 Cycling and moderate cycling cells"
   ]
  },
  {
   "cell_type": "code",
   "execution_count": null,
   "metadata": {},
   "outputs": [],
   "source": [
    "# Day 14 cycling and moderate cycling cells \n",
    "adata_day14_without_non_cycling = scRNAseq_preprocessing(df_pc9_count_matrix, copy_df, adata_preprocessed, [14], 'Sample_type_supplemented_with_predictions', ['Non-cycling'], \"day14_without_non_cycling\")"
   ]
  },
  {
   "cell_type": "code",
   "execution_count": null,
   "metadata": {},
   "outputs": [],
   "source": [
    "# All cycling and moderate cycling cells (from all days)\n",
    "adata_without_non_cycling = scRNAseq_preprocessing(df_pc9_count_matrix, copy_df, adata_preprocessed, [0,3,7,14], 'Sample_type_supplemented_with_predictions', ['Non-cycling'], \"all_days_without_non_cycling\")"
   ]
  },
  {
   "cell_type": "code",
   "execution_count": null,
   "metadata": {},
   "outputs": [],
   "source": [
    "# plots for report\n",
    "sc.pl.draw_graph(adata_without_non_cycling, color='time_point', palette=sample_type_palette_time, title=\"Moderate cyclers and cycling persisters\")\n",
    "sc.pl.draw_graph(adata_without_non_cycling, color='sample_type', palette=sample_type_palette, title=\"Moderate cyclers and cycling persisters\")"
   ]
  },
  {
   "cell_type": "code",
   "execution_count": null,
   "metadata": {},
   "outputs": [],
   "source": [
    "# Cycling and moderate cycling cells from day 7 and 14\n",
    "adata_day7_14_without_non_cycling = scRNAseq_preprocessing(df_pc9_count_matrix, copy_df, adata_preprocessed, [7,14], 'Sample_type_supplemented_with_predictions', ['Non-cycling'], \"day7_14_without_non_cycling\")"
   ]
  },
  {
   "cell_type": "code",
   "execution_count": null,
   "metadata": {},
   "outputs": [],
   "source": [
    "# plots for report\n",
    "sc.pl.draw_graph(adata_day7_14_without_non_cycling, color='Sample_type_supplemented_with_predictions', palette=sample_type_palette, title='Days 7 and 14')"
   ]
  },
  {
   "cell_type": "markdown",
   "metadata": {},
   "source": [
    "## 3.9 Cycling cells only"
   ]
  },
  {
   "cell_type": "code",
   "execution_count": null,
   "metadata": {},
   "outputs": [],
   "source": [
    "# Day 14 cycling cells \n",
    "adata_day14_cycling = scRNAseq_preprocessing(df_pc9_count_matrix, copy_df, adata_preprocessed, [14], 'sample_type', ['Non-cycling','Moderate_cyclers'], \"day14_cycling\")"
   ]
  },
  {
   "cell_type": "code",
   "execution_count": null,
   "metadata": {},
   "outputs": [],
   "source": [
    "# All days cycling cells \n",
    "adata_cycling = scRNAseq_preprocessing(df_pc9_count_matrix, copy_df, adata_preprocessed, [0,3,7,14], 'Sample_type_supplemented_with_predictions', ['Non-cycling','Moderate_cyclers'], \"all_days_cycling\")"
   ]
  },
  {
   "cell_type": "code",
   "execution_count": null,
   "metadata": {},
   "outputs": [],
   "source": [
    "# plots for report\n",
    "sc.pl.draw_graph(adata_cycling, color='time_point', palette=sample_type_palette_time, title=\"Cycling persisters\")"
   ]
  },
  {
   "cell_type": "code",
   "execution_count": null,
   "metadata": {},
   "outputs": [],
   "source": [
    "# Day 7 and 14 cycling cells \n",
    "adata_day7_14_cycling = scRNAseq_preprocessing(df_pc9_count_matrix, copy_df, adata_preprocessed, [7,14], 'Sample_type_supplemented_with_predictions', ['Non-cycling','Moderate_cyclers'], \"day7_14_cycling\")"
   ]
  },
  {
   "cell_type": "markdown",
   "metadata": {},
   "source": [
    "## 3.10 Non-cycling cells only"
   ]
  },
  {
   "cell_type": "code",
   "execution_count": null,
   "metadata": {},
   "outputs": [],
   "source": [
    "# Day 14 non-cycling cells \n",
    "adata_day14_non_cycling = scRNAseq_preprocessing(df_pc9_count_matrix, copy_df, adata_preprocessed, [14], 'sample_type', ['Cycling','Moderate_cyclers'], \"day14_non_cycling\")"
   ]
  },
  {
   "cell_type": "code",
   "execution_count": null,
   "metadata": {},
   "outputs": [],
   "source": [
    "# All days non-cycling cells \n",
    "adata_non_cycling = scRNAseq_preprocessing(df_pc9_count_matrix, copy_df, adata_preprocessed, [0,3,7,14], 'Sample_type_supplemented_with_predictions', ['Cycling','Moderate_cyclers'], \"all_days_non_cycling\")"
   ]
  },
  {
   "cell_type": "code",
   "execution_count": null,
   "metadata": {},
   "outputs": [],
   "source": [
    "# plots for report\n",
    "sc.pl.draw_graph(adata_non_cycling, color='time_point', palette=sample_type_palette_time, title=\"Non-cycling persisters\")"
   ]
  },
  {
   "cell_type": "code",
   "execution_count": null,
   "metadata": {},
   "outputs": [],
   "source": [
    "# Day 7 and 14 cycling cells \n",
    "adata_day7_14_non_cycling = scRNAseq_preprocessing(df_pc9_count_matrix, copy_df, adata_preprocessed, [7,14], 'Sample_type_supplemented_with_predictions', ['Cycling','Moderate_cyclers'], \"day7_14_non_cycling\")"
   ]
  },
  {
   "cell_type": "markdown",
   "metadata": {},
   "source": [
    "## 3.11 Moderate cycling and non-cycling cells"
   ]
  },
  {
   "cell_type": "code",
   "execution_count": null,
   "metadata": {},
   "outputs": [],
   "source": [
    "# Non-cycling and moderate cycling cells from day 7 and 14\n",
    "adata_day7_14_without_cycling = scRNAseq_preprocessing(df_pc9_count_matrix, copy_df, adata_preprocessed, [7,14], 'Sample_type_supplemented_with_predictions', ['Cycling'], \"day7_14_without_cycling\")"
   ]
  },
  {
   "cell_type": "code",
   "execution_count": null,
   "metadata": {},
   "outputs": [],
   "source": [
    "# Non-cycling and moderate cycling cells from all days\n",
    "adata_all_days_without_cycling = scRNAseq_preprocessing(df_pc9_count_matrix, copy_df, adata_preprocessed, [0,3,7,14], 'Sample_type_supplemented_with_predictions', ['Cycling'], \"all_days_without_cycling\")"
   ]
  },
  {
   "cell_type": "code",
   "execution_count": null,
   "metadata": {},
   "outputs": [],
   "source": [
    "# plots for report\n",
    "sc.pl.draw_graph(adata_all_days_without_cycling, color='sample_type', palette=sample_type_palette, title=\"Moderate cyclers and non-cycling persisters\")"
   ]
  }
 ],
 "metadata": {
  "kernelspec": {
   "display_name": "python_env_grninference",
   "language": "python",
   "name": "python3"
  },
  "language_info": {
   "codemirror_mode": {
    "name": "ipython",
    "version": 3
   },
   "file_extension": ".py",
   "mimetype": "text/x-python",
   "name": "python",
   "nbconvert_exporter": "python",
   "pygments_lexer": "ipython3",
   "version": "3.11.2"
  }
 },
 "nbformat": 4,
 "nbformat_minor": 2
}
