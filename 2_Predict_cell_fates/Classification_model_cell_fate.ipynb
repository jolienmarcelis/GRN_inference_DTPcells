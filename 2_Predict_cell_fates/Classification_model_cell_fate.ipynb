{
 "cells": [
  {
   "cell_type": "markdown",
   "metadata": {},
   "source": [
    "# 0. Import libraries"
   ]
  },
  {
   "cell_type": "code",
   "execution_count": null,
   "metadata": {},
   "outputs": [],
   "source": [
    "import pandas as pd\n",
    "import numpy as np\n",
    "import anndata as ad\n",
    "import scanpy as sc\n",
    "import matplotlib.pyplot as plt\n",
    "import polars as pl\n",
    "\n",
    "from sklearn.model_selection import train_test_split, GridSearchCV\n",
    "from sklearn.ensemble import RandomForestClassifier\n",
    "from sklearn.metrics import classification_report, confusion_matrix, accuracy_score\n",
    "from sklearn.model_selection import cross_validate\n",
    "from sklearn.model_selection import StratifiedKFold\n",
    "import seaborn as sns"
   ]
  },
  {
   "cell_type": "markdown",
   "metadata": {},
   "source": [
    "# Functions"
   ]
  },
  {
   "cell_type": "code",
   "execution_count": null,
   "metadata": {},
   "outputs": [],
   "source": [
    "def plot_logFC_ranked_genes(list_dfs, labels, fig_rows, fig_columns, figsize, plot_title):\n",
    "    \"\"\" \n",
    "    Plot the logfoldchanges of the ranked DEGs per group.\n",
    "    \n",
    "    Input:\n",
    "    - list_dfs: list of the dataframes containing the results of the ranked genes. A dataframe per group\n",
    "    - labels: series object with the label of each cell\n",
    "    - fig_rows: number of rows for subplots\n",
    "    - fig_columns: number of columns for subplots\n",
    "    - figsize: size of the plot\n",
    "    Output: plot of the logFC of the ranked genes per group\n",
    "    \"\"\"\n",
    "    # Set up a 1x3 grid of subplots\n",
    "    fig, axes = plt.subplots(fig_rows, fig_columns, figsize=figsize) \n",
    "\n",
    "    for i in range(len(labels.dtype.categories)):\n",
    "        # Get group name\n",
    "        group = labels.dtype.categories[i]\n",
    "    \n",
    "        # Sort genes on logfoldchange\n",
    "        top_genes_sorted = list_dfs[i].sort_values('logfoldchanges') # sort on logfoldchange value\n",
    "\n",
    "        # Create the bar plot\n",
    "        axes[i].bar(\n",
    "            top_genes_sorted['names'], \n",
    "            top_genes_sorted['logfoldchanges']\n",
    "        )\n",
    "\n",
    "        # Add axis labels\n",
    "        axes[i].set_xlabel(\"Ranked gene name\")\n",
    "        axes[i].set_ylabel(\"Log Fold Change\")\n",
    "        axes[i].set_title(\"{} DEGs\".format(group))\n",
    "        # Rotate x-axis tick labels by 90 degrees for better readability\n",
    "        axes[i].tick_params(rotation=90)\n",
    "\n",
    "    fig.suptitle(plot_title)"
   ]
  },
  {
   "cell_type": "code",
   "execution_count": null,
   "metadata": {},
   "outputs": [],
   "source": [
    "def manually_filter_genes(df_ranked_genes, min_fold_change, max_adj_pvalue):\n",
    "    \"\"\"\n",
    "    Function to manually filter the DEGs. Filter out genes with an insufficient logfoldchange or adjusted p value.\n",
    "\n",
    "    Input: \n",
    "    - df_ranked_genes: dataframe with the results of sc.tl.rank_genes_groups() obtained using sc.get.rank_genes_groups_df().\n",
    "    - min_fold_change: filtering criteria of minimum logfoldchange of DEGs\n",
    "    - max_adj_pvalue: filtering criteria of maximum adjusted p-value of DEGs (i.e. maximum false discorvery rate)\n",
    "    Output: \n",
    "    - df_ranked_genes_filtered: dataframe with the genes meeting the filtering criteria, including the logfoldchanges, pvalues etc.\n",
    "    \"\"\"\n",
    "    df_ranked_genes_filtered = df_ranked_genes[abs(df_ranked_genes['logfoldchanges']) > min_fold_change] # minimum log fold change of 0.2\n",
    "    df_ranked_genes_filtered = df_ranked_genes_filtered[abs(df_ranked_genes_filtered['pvals_adj']) < max_adj_pvalue] # maximum adjusted p value of 0.001\n",
    "    # df_ranked_genes_filtered = df_ranked_genes_filtered[abs(df_ranked_genes_filtered['pvals_adj']) > 0] # remove genes with a p value of 0 because this looks like it is inaccurate?\n",
    "    print('Number of filtered genes:',len(df_ranked_genes_filtered))\n",
    "    \n",
    "    return df_ranked_genes_filtered"
   ]
  },
  {
   "cell_type": "code",
   "execution_count": null,
   "metadata": {},
   "outputs": [],
   "source": [
    "def manual_calculation_logFC(adata_train, df_ranked_genes, group_name):\n",
    "\n",
    "    group_cells = adata_train.obs['sample_type'] == group_name\n",
    "    nan_genes = df_ranked_genes[df_ranked_genes['logfoldchanges'].isna()]\n",
    "    corrected_logfc = {}\n",
    "\n",
    "    for gene in nan_genes['names']:\n",
    "        mean_group = adata_train[group_cells, gene].X.mean()\n",
    "        mean_others = adata_train[~group_cells, gene].X.mean()\n",
    "\n",
    "        # Check for division by zero\n",
    "        if mean_group > 0 and mean_others > 0:\n",
    "            corrected_logfc[gene] = np.log2(mean_group / mean_others)\n",
    "        else:\n",
    "            corrected_logfc[gene] = np.nan\n",
    "\n",
    "    # Output dictionary of corrected logFC\n",
    "    # print(corrected_logfc)\n",
    "\n",
    "    # Replace NaN logfoldchanges with manually computed values\n",
    "    df_ranked_genes_manual_logFC = df_ranked_genes\n",
    "    for gene, logfc in corrected_logfc.items():\n",
    "        df_ranked_genes_manual_logFC.loc[df_ranked_genes_manual_logFC['names'] == gene, 'logfoldchanges'] = logfc\n",
    "    \n",
    "    return df_ranked_genes_manual_logFC\n",
    "\n"
   ]
  },
  {
   "cell_type": "code",
   "execution_count": null,
   "metadata": {},
   "outputs": [],
   "source": [
    "def threshold_genes_for_signatures(df_ranked_genes, threshold):\n",
    "    \"\"\"\n",
    "    Select the number desired number of DEGs for the gene signature.\n",
    "    \"\"\"\n",
    "    df_ranked_genes.reset_index(inplace=True)\n",
    "    df_ranked_genes_cutoff = df_ranked_genes.loc[:threshold-1,:]\n",
    "    print(len(df_ranked_genes_cutoff))\n",
    "    \n",
    "    return df_ranked_genes_cutoff"
   ]
  },
  {
   "cell_type": "code",
   "execution_count": null,
   "metadata": {},
   "outputs": [],
   "source": [
    "def identify_gene_signatures(X_train, grouping_label, nr_genes, method, labels, min_fold_change, max_adj_pvalue, threshold):\n",
    "    \"\"\"\n",
    "    Function to identify the differentially expressed genes (DEGs) cell type/group and filter them. The top DEGs are selected per group using sc.tl.rank_genes_groups with a Wilcoxon test. \n",
    "    The results of ranking the genes are stored in a dataframe per group. Subsequently, the DEGs are filtered on criteria of a minimum logfoldchange and a maximum false discorvery rate. \n",
    "    A list of the dataframes with filtered DEGs per group is returned.\n",
    "    \n",
    "    Input:\n",
    "    - X_train: AnnData object of the training data\n",
    "    - grouping_label: a string which is the annotation of an observation of the AnnData object; the cells are grouped by this observation.\n",
    "    - nr_genes: the number of genes selected for the gene signature\n",
    "    - method: statistical method to identify gene signatures \n",
    "    - labels: series object with the label of each cell\n",
    "    - min_fold_change: filtering criteria of minimum logfoldchange of DEGs\n",
    "    - max_adj_pvalue: filtering criteria of maximum adjusted p-value of DEGs (i.e. maximum false discorvery rate)\n",
    "    Output: \n",
    "    - list_dfs_ranked_genes_filtered: list of dataframes. The dataframes should contain the filtered DEGs (retrieved using sc.tl.rank_genes_groups followed by sc.get.rank_genes_groups_df); one dataframe for each cell type/group.\n",
    "    \"\"\"\n",
    "\n",
    "    ## Identify differentially expressed genes (DEGs) between groups for training data\n",
    "    sc.tl.rank_genes_groups(\n",
    "        X_train, \n",
    "        groupby=grouping_label, \n",
    "        n_genes=nr_genes,           # number of genes to rank / in gene signature\n",
    "        method=method,              # statistical method\n",
    "        key_added=method            # key label where the results are stored as observation in the AnnData object\n",
    "    );\n",
    "\n",
    "    ## Convert results of DEGs into a dataframe\n",
    "    df_ranked_genes_cycling = sc.get.rank_genes_groups_df(X_train, group=X_train.obs[grouping_label].dtype.categories[0], key=method);\n",
    "    # print('Number of DEGs of the cycling persisters that have a logfoldchange other than NaN:',len(df_ranked_genes_cycling))\n",
    "    df_ranked_genes_moderate_cyclers = sc.get.rank_genes_groups_df(X_train, group=X_train.obs[grouping_label].dtype.categories[1], key=method);\n",
    "    # print('Number of DEGs of the moderate cycling persisters that have a logfoldchange other than NaN:',len(df_ranked_genes_moderate_cyclers))\n",
    "    df_ranked_genes_non_cycling = sc.get.rank_genes_groups_df(X_train, group=X_train.obs[grouping_label].dtype.categories[2], key=method);\n",
    "    # print('Number of DEGs of the non-cycling persisters that have a logfoldchange other than NaN:',len(df_ranked_genes_non_cycling))\n",
    "    \n",
    "    ## Plot the logfoldchanges of the ranked genes\n",
    "    list_dfs_ranked_genes = [df_ranked_genes_cycling, df_ranked_genes_moderate_cyclers, df_ranked_genes_non_cycling]\n",
    "    # plot_logFC_ranked_genes(list_dfs_ranked_genes, labels, 1, 3, (30,5), 'Logfoldchanges of ranked DEGs before filtering')\n",
    "\n",
    "    # Manually calculate logFC\n",
    "    df_ranked_genes_cycling_manual_logFC = manual_calculation_logFC(X_train, df_ranked_genes_cycling, 'Cycling')\n",
    "    df_ranked_genes_moderate_cyclers_manual_logFC = manual_calculation_logFC(X_train, df_ranked_genes_moderate_cyclers, 'Moderate_cyclers')\n",
    "    df_ranked_genes_non_cycling_manual_logFC = manual_calculation_logFC(X_train, df_ranked_genes_non_cycling, 'Non-cycling')\n",
    "\n",
    "    ## Manually filter the ranked DEGs per group based on the criteria  \n",
    "    df_ranked_genes_cycling_filtered = manually_filter_genes(df_ranked_genes_cycling_manual_logFC, min_fold_change, max_adj_pvalue);\n",
    "    df_ranked_genes_moderate_cyclers_filtered = manually_filter_genes(df_ranked_genes_moderate_cyclers_manual_logFC, min_fold_change, max_adj_pvalue);\n",
    "    df_ranked_genes_non_cycling_filtered = manually_filter_genes(df_ranked_genes_non_cycling_manual_logFC, min_fold_change, max_adj_pvalue);\n",
    "\n",
    "    # list_dfs_ranked_genes_filtered = [df_ranked_genes_cycling_filtered, df_ranked_genes_moderate_cyclers_filtered, df_ranked_genes_non_cycling_filtered]; # concatenate dataframes with the gene signatures\n",
    "    # plot_logFC_ranked_genes(list_dfs_ranked_genes_filtered, labels, 1, 3, (30,5), 'Logfoldchanges of ranked DEGs after filtering')\n",
    "\n",
    "    df_ranked_genes_cycling_filtered_cutoff = threshold_genes_for_signatures(df_ranked_genes_cycling_filtered,threshold)\n",
    "    df_ranked_genes_moderate_cyclers_filtered_cutoff = threshold_genes_for_signatures(df_ranked_genes_moderate_cyclers_filtered,threshold)\n",
    "    df_ranked_genes_non_cycling_filtered_cutoff = threshold_genes_for_signatures(df_ranked_genes_non_cycling_filtered,threshold)\n",
    "\n",
    "    list_dfs_ranked_genes_filtered_cutoff = [df_ranked_genes_cycling_filtered_cutoff, df_ranked_genes_moderate_cyclers_filtered_cutoff, df_ranked_genes_non_cycling_filtered_cutoff]\n",
    "    plot_logFC_ranked_genes(list_dfs_ranked_genes_filtered_cutoff, labels, 1, 3, (30,5), 'Logfoldchanges of ranked DEGs after filtering and thresholding')\n",
    "\n",
    "    return list_dfs_ranked_genes_filtered_cutoff"
   ]
  },
  {
   "cell_type": "code",
   "execution_count": null,
   "metadata": {},
   "outputs": [],
   "source": [
    "# Calculate gene signature scores\n",
    "def get_gene_signature_scores(adata, list_dfs_DEGs):\n",
    "    \"\"\" \n",
    "    Calculate the gene signature scores for each group (Cycling, Moderate cyclers, Non-cycling) and concatenate them all into a dataframe.\n",
    "    \n",
    "    Inputs:\n",
    "    - adata: AnnData object with normalized and log-transformed gene expression data\n",
    "    - list_dfs_ranked_genes_filtered: list of dataframes. These dataframes contain the DEGs\n",
    "    Output:\n",
    "    - dataframe of the calculated gene signature scores per cell (rows are cells and columns are gene signature scores per group)\n",
    "    \"\"\"\n",
    "\n",
    "    sc.tl.score_genes(adata, list_dfs_DEGs[0]['names'], score_name='Gene_sig_cycling')\n",
    "    sc.tl.score_genes(adata, list_dfs_DEGs[1]['names'], score_name='Gene_sig_moderate_cyclers')\n",
    "    sc.tl.score_genes(adata, list_dfs_DEGs[2]['names'], score_name='Gene_sig_non-cycling')\n",
    "\n",
    "    # get dataframe of the gene signature scores\n",
    "    gene_signatures_data = adata.obs[['Gene_sig_cycling','Gene_sig_moderate_cyclers','Gene_sig_non-cycling']]\n",
    "\n",
    "    return gene_signatures_data"
   ]
  },
  {
   "cell_type": "markdown",
   "metadata": {},
   "source": [
    "# 1. Read proprecessed data (AnnData object)"
   ]
  },
  {
   "cell_type": "code",
   "execution_count": null,
   "metadata": {},
   "outputs": [],
   "source": [
    "# Read preprocessed AnnData object\n",
    "adata_preprocessed = ad.read_h5ad('/home/jolien/Notebooks/data/preprocessed_data_v2.h5ad')"
   ]
  },
  {
   "cell_type": "markdown",
   "metadata": {},
   "source": [
    "# 2. Prepare data"
   ]
  },
  {
   "cell_type": "markdown",
   "metadata": {},
   "source": [
    "### 2.1 Add psuedocount to logtransformed data"
   ]
  },
  {
   "cell_type": "code",
   "execution_count": null,
   "metadata": {},
   "outputs": [],
   "source": [
    "# Copy preprocessed data into a new AnnData object\n",
    "adata_psuedocount = adata_preprocessed.copy()\n",
    "\n",
    "# keep preprocessed data in a layer\n",
    "adata_psuedocount.layers[\"preprocessed_Xdata\"] = adata_preprocessed.X.copy()\n",
    "\n",
    "# Put log_transformed data (before scaling) into the X matrix of the new adata_psuedocount object (this is needed for ranking the differentially expressed genes (because logtransformed is needed and it should be in the adata.X))\n",
    "adata_psuedocount.X = adata_preprocessed.layers['log_transformed']\n",
    "\n",
    "# Check minimum and maximum value in log_transformed matrix\n",
    "print('Minimum value in the preprocessed (without scaling) count matrix:', adata_psuedocount.X.min())\n",
    "print('Maximum value in the preprocessed (without scaling) count matrix:', adata_psuedocount.X.max())\n",
    "\n",
    "# Add psuedocount = add 0.1 to the count matrix to prevent zeros\n",
    "adata_psuedocount.X = adata_psuedocount.X+0.1 # add psuedocount as new layer in the AnnData object of the day 14 cells\n",
    "\n",
    "print('Minimum value in the psuedocount matrix:', adata_psuedocount.X.min())\n",
    "print('Maximum value in the psuedocount matrix:', adata_psuedocount.X.max())"
   ]
  },
  {
   "cell_type": "markdown",
   "metadata": {},
   "source": [
    "### 2.2 Select persister cells (= cells at day 14)"
   ]
  },
  {
   "cell_type": "code",
   "execution_count": null,
   "metadata": {},
   "outputs": [],
   "source": [
    "# Get selection of adata object of only day 14 cells \n",
    "adata_psuedocount_day14 = adata_psuedocount[adata_psuedocount.obs['time_point']==14] "
   ]
  },
  {
   "cell_type": "markdown",
   "metadata": {},
   "source": [
    "# 3. Train classification model"
   ]
  },
  {
   "cell_type": "markdown",
   "metadata": {},
   "source": [
    "### 3.1 Split data into training and test set"
   ]
  },
  {
   "cell_type": "code",
   "execution_count": null,
   "metadata": {},
   "outputs": [],
   "source": [
    "# Retrieve cell indices for stratified train-test split\n",
    "train_indices, test_indices = train_test_split(\n",
    "    np.arange(adata_psuedocount_day14.n_obs),  # indices of cells\n",
    "    test_size=0.3,                 # test size\n",
    "    random_state=42,               # to ensure same split in subsequent runs\n",
    "    stratify=adata_psuedocount_day14.obs['sample_type']  # stratify by sample_type to keep group proportions\n",
    ")\n",
    "\n",
    "# Create train and test AnnData objects\n",
    "adata_train = adata_psuedocount_day14[train_indices]\n",
    "adata_test = adata_psuedocount_day14[test_indices]\n",
    "\n",
    "# Get grouping label for each cell\n",
    "y_train = adata_train.obs['sample_type']\n",
    "y_test = adata_test.obs['sample_type']\n",
    "\n"
   ]
  },
  {
   "cell_type": "code",
   "execution_count": null,
   "metadata": {},
   "outputs": [],
   "source": [
    "print('Fraction non-cycling cells in training data {:.2f}'.format(len(adata_train[adata_train.obs['sample_type']=='Non-cycling'])/len(adata_train)))\n",
    "print('Fraction moderate cycling cells in training data {:.2f}'.format(len(adata_train[adata_train.obs['sample_type']=='Moderate_cyclers'])/len(adata_train)))\n",
    "print('Fraction cycling cells in training data {:.2f}'.format(len(adata_train[adata_train.obs['sample_type']=='Cycling'])/len(adata_train)))"
   ]
  },
  {
   "cell_type": "markdown",
   "metadata": {},
   "source": [
    "### 3.2 Identify DEGs in training data set"
   ]
  },
  {
   "cell_type": "code",
   "execution_count": null,
   "metadata": {},
   "outputs": [],
   "source": [
    "# Settings\n",
    "nr_genes = 100          # number of genes to rank / in gene signature\n",
    "method = 'wilcoxon'     # statistical method\n",
    "\n",
    "# Identify differentially expressed genes (DEGs) between groups for training data\n",
    "sc.tl.rank_genes_groups(\n",
    "    adata_train, \n",
    "    groupby='sample_type', \n",
    "    n_genes=nr_genes,           # number of genes to rank / in gene signature\n",
    "    method=method,              # statistical method\n",
    "    key_added=method\n",
    ")\n"
   ]
  },
  {
   "cell_type": "code",
   "execution_count": null,
   "metadata": {},
   "outputs": [],
   "source": [
    "sc.pl.rank_genes_groups(adata_train, n_genes=25, sharey=False, key='wilcoxon')"
   ]
  },
  {
   "cell_type": "code",
   "execution_count": null,
   "metadata": {},
   "outputs": [],
   "source": [
    "sc.pl.rank_genes_groups_dotplot(adata_train, n_genes=10, key='wilcoxon', groupby='sample_type')"
   ]
  },
  {
   "cell_type": "markdown",
   "metadata": {},
   "source": [
    "### 3.3 Process identified DEGs per group - remove genes with NaN logfoldchange"
   ]
  },
  {
   "cell_type": "code",
   "execution_count": null,
   "metadata": {},
   "outputs": [],
   "source": [
    "# View the top genes for each group\n",
    "# Convert results to a DataFrame for easier inspection and remove genes with a NaN value for the log fold change\n",
    "\n",
    "df_ranked_genes_cycling = sc.get.rank_genes_groups_df(adata_train, group='Cycling', key='wilcoxon')\n",
    "print(df_ranked_genes_cycling.head(10))\n",
    "df_ranked_genes_cycling.dropna(subset = ['logfoldchanges'], inplace=True)\n",
    "print('Number of DEGs of the cycling persisters that have a logfoldchange other than NaN:',len(df_ranked_genes_cycling))\n",
    "\n",
    "df_ranked_genes_moderate_cyclers = sc.get.rank_genes_groups_df(adata_train, group='Moderate_cyclers', key='wilcoxon')\n",
    "df_ranked_genes_moderate_cyclers.dropna(subset = ['logfoldchanges'], inplace=True)\n",
    "print('Number of DEGs of the moderate cycling persisters that have a logfoldchange other than NaN:',len(df_ranked_genes_moderate_cyclers))\n",
    "\n",
    "df_ranked_genes_non_cycling = sc.get.rank_genes_groups_df(adata_train, group='Non-cycling', key='wilcoxon')\n",
    "df_ranked_genes_non_cycling.dropna(subset = ['logfoldchanges'], inplace=True)\n",
    "print('Number of DEGs of the non-cycling persisters that have a logfoldchange other than NaN:',len(df_ranked_genes_non_cycling))"
   ]
  },
  {
   "cell_type": "code",
   "execution_count": null,
   "metadata": {},
   "outputs": [],
   "source": [
    "# View the ranked genes of non-cycling persisters (with the genes having NaN logfoldchange removed)\n",
    "df_ranked_genes_cycling.head(10)"
   ]
  },
  {
   "cell_type": "markdown",
   "metadata": {},
   "source": [
    "### 3.4 Plot log FC of the ranked genes"
   ]
  },
  {
   "cell_type": "code",
   "execution_count": null,
   "metadata": {},
   "outputs": [],
   "source": [
    "# Plot the logfoldchanges of the ranked DEGs per group\n",
    "list_dfs_ranked_genes = [df_ranked_genes_cycling, df_ranked_genes_moderate_cyclers, df_ranked_genes_non_cycling]\n",
    "plot_logFC_ranked_genes(list_dfs_ranked_genes, y_train, 1, 3, (30,5), 'Logfoldchanges of ranked DEGs before filtering')\n"
   ]
  },
  {
   "cell_type": "markdown",
   "metadata": {},
   "source": [
    "### 3.5 Filter DEGs"
   ]
  },
  {
   "cell_type": "code",
   "execution_count": null,
   "metadata": {},
   "outputs": [],
   "source": [
    "# # filter the DEGs\n",
    "# sc.tl.filter_rank_genes_groups(\n",
    "#     adata_train, \n",
    "#     key='wilcoxon',\n",
    "#     min_fold_change=0,\n",
    "#     min_in_group_fraction=0,\n",
    "#     use_raw=False\n",
    "# )\n",
    "\n",
    "# filtered_ranked_genes = adata_train.uns['rank_genes_groups_filtered']\n",
    "\n",
    "# df_filtered_genes = sc.get.rank_genes_groups_df(adata_train, group='Non-cycling', key='rank_genes_groups_filtered') # get filtering results in a dataframe\n",
    "# df_filtered_genes.dropna(subset = ['names'], inplace=True) # remove filtered out genes (genes with NaN as name)\n",
    "# df_filtered_genes\n"
   ]
  },
  {
   "cell_type": "markdown",
   "metadata": {},
   "source": [
    "The sc.tl.filter_rank_genes_groups function resulted in all genes being filtered out, even when the criteria were removed. Looks like something is wrong. Therefore, I decided to manually filter the genes."
   ]
  },
  {
   "cell_type": "code",
   "execution_count": null,
   "metadata": {},
   "outputs": [],
   "source": [
    "# Manually filter the ranked DEGs per group based on the criteria used by the authors of the persister cell paper (genes with NaN a logfoldchanges were already not considered anymore)\n",
    "df_ranked_genes_cycling_filtered = manually_filter_genes(df_ranked_genes_cycling, 0.2, 0.001)\n",
    "df_ranked_genes_moderate_cyclers_filtered = manually_filter_genes(df_ranked_genes_moderate_cyclers, 0.2, 0.001)\n",
    "df_ranked_genes_non_cycling_filtered = manually_filter_genes(df_ranked_genes_non_cycling, 0.2, 0.001)\n",
    "\n",
    "\n"
   ]
  },
  {
   "cell_type": "code",
   "execution_count": null,
   "metadata": {},
   "outputs": [],
   "source": [
    "# Plot the logfoldchanges of the filtered ranked DEGs per group\n",
    "list_dfs_ranked_genes_filtered = [df_ranked_genes_cycling_filtered, df_ranked_genes_moderate_cyclers_filtered, df_ranked_genes_non_cycling_filtered]\n",
    "plot_logFC_ranked_genes(list_dfs_ranked_genes_filtered, y_train, 1, 3, (30,5), 'Logfoldchanges of ranked DEGs after filtering')"
   ]
  },
  {
   "cell_type": "markdown",
   "metadata": {},
   "source": [
    "### 3.6 Perform previous steps again for manual calculation of logfoldchanges"
   ]
  },
  {
   "cell_type": "code",
   "execution_count": null,
   "metadata": {},
   "outputs": [],
   "source": [
    "# View the top genes for each group\n",
    "# Convert results to a DataFrame for easier inspection and remove genes with a NaN value for the log fold change\n",
    "\n",
    "df_ranked_genes_cycling = sc.get.rank_genes_groups_df(adata_train, group='Cycling', key='wilcoxon')\n",
    "# df_ranked_genes_cycling.dropna(subset = ['logfoldchanges'], inplace=True)\n",
    "print('Number of DEGs of the cycling persisters:',len(df_ranked_genes_cycling))\n",
    "\n",
    "df_ranked_genes_moderate_cyclers = sc.get.rank_genes_groups_df(adata_train, group='Moderate_cyclers', key='wilcoxon')\n",
    "# df_ranked_genes_moderate_cyclers.dropna(subset = ['logfoldchanges'], inplace=True)\n",
    "print('Number of DEGs of the moderate cycling persisters:',len(df_ranked_genes_moderate_cyclers))\n",
    "\n",
    "df_ranked_genes_non_cycling = sc.get.rank_genes_groups_df(adata_train, group='Non-cycling', key='wilcoxon')\n",
    "# df_ranked_genes_non_cycling.dropna(subset = ['logfoldchanges'], inplace=True)\n",
    "print('Number of DEGs of the non-cycling persisters:',len(df_ranked_genes_non_cycling))"
   ]
  },
  {
   "cell_type": "code",
   "execution_count": null,
   "metadata": {},
   "outputs": [],
   "source": [
    "## Check the expression of a gene with NaN logfoldchange --> in this case SAT1 gene of which is differentially expressed in non-cycling cells but has a NaN logfoldchange\n",
    "\n",
    "# Check expression of the gene in the non-cycling group\n",
    "mean_SAT1_noncycling = np.mean(adata_train[adata_train.obs['sample_type']=='Non-cycling','SAT1'].X)\n",
    "std_SAT1_noncycling = np.std(adata_train[adata_train.obs['sample_type']=='Non-cycling','SAT1'].X)\n",
    "print(f\"The mean SAT1 expression in non_cycling cells {mean_SAT1_noncycling:.2f}\")\n",
    "print(f\"The standard deviation of SAT1 expression in non_cycling cells {std_SAT1_noncycling:.2f}\")\n",
    "print('\\n')\n",
    "\n",
    "# Check expression of the gene in the other groups\n",
    "mean_SAT1_not_noncycling = np.mean(adata_train[adata_train.obs['sample_type']!='Non-cycling','SAT1'].X)\n",
    "std_SAT1_not_noncycling = np.std(adata_train[adata_train.obs['sample_type']!='Non-cycling','SAT1'].X)\n",
    "print(f\"The mean SAT1 expression in the other cells {mean_SAT1_not_noncycling:.2f}\")\n",
    "print(f\"The standard deviation of SAT1 expression in the other cells {std_SAT1_not_noncycling:.2f}\")\n",
    "print('\\n')\n",
    "\n",
    "# Check the logfold change\n",
    "print(f\"The manually calculated log fold change is {np.log2(mean_SAT1_noncycling/mean_SAT1_not_noncycling):.2f}\")"
   ]
  },
  {
   "cell_type": "code",
   "execution_count": null,
   "metadata": {},
   "outputs": [],
   "source": [
    "def manual_calculation_logFC(adata_train, df_ranked_genes, group_name):\n",
    "\n",
    "    group_cells = adata_train.obs['sample_type'] == group_name\n",
    "    nan_genes = df_ranked_genes[df_ranked_genes['logfoldchanges'].isna()]\n",
    "    corrected_logfc = {}\n",
    "\n",
    "    for gene in nan_genes['names']:\n",
    "        mean_group = adata_train[group_cells, gene].X.mean()\n",
    "        mean_others = adata_train[~group_cells, gene].X.mean()\n",
    "\n",
    "        # Check for division by zero\n",
    "        if mean_group > 0 and mean_others > 0:\n",
    "            corrected_logfc[gene] = np.log2(mean_group / mean_others)\n",
    "        else:\n",
    "            corrected_logfc[gene] = np.nan\n",
    "\n",
    "    # Output dictionary of corrected logFC\n",
    "    # print(corrected_logfc)\n",
    "\n",
    "    # Replace NaN logfoldchanges with manually computed values\n",
    "    df_ranked_genes_manual_logFC = df_ranked_genes\n",
    "    for gene, logfc in corrected_logfc.items():\n",
    "        df_ranked_genes_manual_logFC.loc[df_ranked_genes_manual_logFC['names'] == gene, 'logfoldchanges'] = logfc\n",
    "    \n",
    "    return df_ranked_genes_manual_logFC\n",
    "\n"
   ]
  },
  {
   "cell_type": "code",
   "execution_count": null,
   "metadata": {},
   "outputs": [],
   "source": [
    "# Manually calculate logFC\n",
    "df_ranked_genes_cycling_manual_logFC = manual_calculation_logFC(adata_train, df_ranked_genes_cycling, 'Cycling')\n",
    "df_ranked_genes_moderate_cyclers_manual_logFC = manual_calculation_logFC(adata_train, df_ranked_genes_moderate_cyclers, 'Moderate_cyclers')\n",
    "df_ranked_genes_non_cycling_manual_logFC = manual_calculation_logFC(adata_train, df_ranked_genes_non_cycling, 'Non-cycling')"
   ]
  },
  {
   "cell_type": "code",
   "execution_count": null,
   "metadata": {},
   "outputs": [],
   "source": [
    "# Check manually calculated logFCs\n",
    "df_ranked_genes_cycling_manual_logFC.head(10)"
   ]
  },
  {
   "cell_type": "code",
   "execution_count": null,
   "metadata": {},
   "outputs": [],
   "source": [
    "# View the top genes for each group\n",
    "# Convert results to a DataFrame for easier inspection and remove genes with a NaN value for the log fold change\n",
    "\n",
    "df_ranked_genes_cycling_manual_logFC.dropna(subset = ['logfoldchanges'], inplace=True)\n",
    "print('Number of DEGs of the cycling persisters:',len(df_ranked_genes_cycling_manual_logFC))\n",
    "\n",
    "df_ranked_genes_moderate_cyclers_manual_logFC.dropna(subset = ['logfoldchanges'], inplace=True)\n",
    "print('Number of DEGs of the moderate cycling persisters:',len(df_ranked_genes_moderate_cyclers_manual_logFC))\n",
    "\n",
    "df_ranked_genes_non_cycling_manual_logFC.dropna(subset = ['logfoldchanges'], inplace=True)\n",
    "print('Number of DEGs of the non-cycling persisters:',len(df_ranked_genes_non_cycling_manual_logFC))"
   ]
  },
  {
   "cell_type": "code",
   "execution_count": null,
   "metadata": {},
   "outputs": [],
   "source": [
    "# Plot the logfoldchanges of the ranked DEGs per group\n",
    "list_dfs_ranked_genes_manual_logFC = [df_ranked_genes_cycling_manual_logFC, df_ranked_genes_moderate_cyclers_manual_logFC, df_ranked_genes_non_cycling_manual_logFC]\n",
    "plot_logFC_ranked_genes(list_dfs_ranked_genes_manual_logFC, y_train, 1, 3, (30,5), 'Manually calculated logfoldchanges of ranked DEGs before filtering')"
   ]
  },
  {
   "cell_type": "code",
   "execution_count": null,
   "metadata": {},
   "outputs": [],
   "source": [
    "# Manually filter the ranked DEGs per group based on the criteria used by the authors of the persister cell paper (genes with NaN a logfoldchanges were already not considered anymore)\n",
    "df_ranked_genes_cycling_filtered = manually_filter_genes(df_ranked_genes_cycling_manual_logFC, 0.2, 0.001)\n",
    "df_ranked_genes_moderate_cyclers_filtered = manually_filter_genes(df_ranked_genes_moderate_cyclers_manual_logFC, 0.2, 0.001)\n",
    "df_ranked_genes_non_cycling_filtered = manually_filter_genes(df_ranked_genes_non_cycling_manual_logFC, 0.2, 0.001)\n",
    "\n",
    "\n"
   ]
  },
  {
   "cell_type": "code",
   "execution_count": null,
   "metadata": {},
   "outputs": [],
   "source": [
    "# Plot the logfoldchanges of the filtered ranked DEGs per group\n",
    "list_dfs_ranked_genes_filtered = [df_ranked_genes_cycling_filtered, df_ranked_genes_moderate_cyclers_filtered, df_ranked_genes_non_cycling_filtered]\n",
    "plot_logFC_ranked_genes(list_dfs_ranked_genes_filtered, y_train, 1, 3, (30,5), 'Logfoldchanges of ranked DEGs after filtering')"
   ]
  },
  {
   "cell_type": "code",
   "execution_count": null,
   "metadata": {},
   "outputs": [],
   "source": [
    "# Select the top x genes per gene set to ensure equal number of genes per gene set\n",
    "nr_genes_threshold = 75\n",
    "\n",
    "df_ranked_genes_cycling_filtered.reset_index(inplace=True)\n",
    "df_ranked_genes_cycling_filtered_cutoff = df_ranked_genes_cycling_filtered.loc[:nr_genes_threshold-1,:]\n",
    "\n",
    "df_ranked_genes_moderate_cyclers_filtered.reset_index(inplace=True)\n",
    "df_ranked_genes_moderate_cyclers_filtered_cutoff = df_ranked_genes_moderate_cyclers_filtered.loc[:nr_genes_threshold-1,:]\n",
    "\n",
    "df_ranked_genes_non_cycling_filtered.reset_index(inplace=True)\n",
    "df_ranked_genes_non_cycling_filtered_cutoff = df_ranked_genes_non_cycling_filtered.loc[:nr_genes_threshold-1,:]\n",
    "\n",
    "print(len(df_ranked_genes_cycling_filtered_cutoff), len(df_ranked_genes_moderate_cyclers_filtered_cutoff), len(df_ranked_genes_non_cycling_filtered_cutoff))"
   ]
  },
  {
   "cell_type": "code",
   "execution_count": null,
   "metadata": {},
   "outputs": [],
   "source": [
    "# Plot the logfoldchanges of the filtered ranked DEGs per group\n",
    "list_dfs_ranked_genes_filtered_cutoff = [df_ranked_genes_cycling_filtered_cutoff, df_ranked_genes_moderate_cyclers_filtered_cutoff, df_ranked_genes_non_cycling_filtered_cutoff]\n",
    "plot_logFC_ranked_genes(list_dfs_ranked_genes_filtered_cutoff, y_train, 1, 3, (30,5), 'Logfoldchanges of ranked DEGs after filtering')"
   ]
  },
  {
   "cell_type": "code",
   "execution_count": null,
   "metadata": {},
   "outputs": [],
   "source": [
    "top_genes_sorted = df_ranked_genes_non_cycling_filtered_cutoff.sort_values('logfoldchanges') # sort on logfoldchange value\n",
    "\n",
    "plt.figure(figsize=(12, 6))\n",
    "\n",
    "# Create the bar plot\n",
    "plt.bar(\n",
    "    top_genes_sorted['names'], \n",
    "    top_genes_sorted['logfoldchanges']\n",
    "        )\n",
    "\n",
    "# Add axis labels\n",
    "plt.xlabel(\"Ranked gene name\", fontsize=14)\n",
    "plt.ylabel(\"Log Fold Change\", fontsize=14)\n",
    "plt.title(\"Non-cycling\", fontsize=20)\n",
    "plt.tick_params(rotation=90)\n",
    "# plt.savefig('/home/jolien/Notebooks/gene_signature/figures/Final_top75_logfoldchange_non_cycling_manually_filtered.png')\n"
   ]
  },
  {
   "cell_type": "code",
   "execution_count": null,
   "metadata": {},
   "outputs": [],
   "source": [
    "# Create table of top ranked log fold changes per group\n",
    "top_genes = pd.DataFrame({\n",
    "    'Non-cycling': df_ranked_genes_non_cycling_filtered_cutoff.loc[:10,'names'].reset_index(drop=True),\n",
    "    'Moderate cyclers': df_ranked_genes_moderate_cyclers_filtered_cutoff.loc[:10,'names'].reset_index(drop=True),\n",
    "    'Cycling': df_ranked_genes_cycling_filtered_cutoff.loc[:10,'names'].reset_index(drop=True)    \n",
    "})\n",
    "\n",
    "top_genes"
   ]
  },
  {
   "cell_type": "markdown",
   "metadata": {},
   "source": [
    "### 3.6 Train classification model"
   ]
  },
  {
   "cell_type": "code",
   "execution_count": null,
   "metadata": {},
   "outputs": [],
   "source": [
    "# Calculate gene signature scores\n",
    "gene_signatures_train = get_gene_signature_scores(adata_train, list_dfs_ranked_genes_filtered_cutoff)\n",
    "gene_signatures_test = get_gene_signature_scores(adata_test, list_dfs_ranked_genes_filtered_cutoff)"
   ]
  },
  {
   "cell_type": "code",
   "execution_count": null,
   "metadata": {},
   "outputs": [],
   "source": [
    "# Initialize the classifier\n",
    "rf_classifier = RandomForestClassifier(random_state=42)\n",
    "\n",
    "# Train the model\n",
    "rf_classifier.fit(gene_signatures_train, y_train)\n",
    "\n",
    "# Predict on the test set\n",
    "y_pred = rf_classifier.predict(gene_signatures_test) "
   ]
  },
  {
   "cell_type": "code",
   "execution_count": null,
   "metadata": {},
   "outputs": [],
   "source": [
    "# Evaluate the performance\n",
    "print(\"Accuracy Score:\", accuracy_score(y_test, y_pred))\n",
    "\n",
    "print(\"Classification Report:\")\n",
    "print(classification_report(y_test, y_pred))"
   ]
  },
  {
   "cell_type": "code",
   "execution_count": null,
   "metadata": {},
   "outputs": [],
   "source": [
    "print(\"Confusion Matrix:\")\n",
    "\n",
    "# Get and reshape confusion matrix\n",
    "conf_matrix = confusion_matrix(y_test, y_pred)\n",
    "conf_matrix = conf_matrix.astype('float') / conf_matrix.sum(axis=1)[:, np.newaxis] # Noramlize values to get ratios instead of absolute counts. Equal to recall\n",
    "\n",
    "# Plot confusion matrix\n",
    "# sns.set(font_scale=1) # Adjust to fit\n",
    "sns.heatmap(conf_matrix, annot=True, cmap='Blues', fmt='g')\n",
    "\n",
    "# Add labels to the plot\n",
    "class_names = ['Cycling','Moderate_cyclers','Non-cycling']\n",
    "tick_marks = np.arange(len(class_names)) + 0.5\n",
    "plt.xticks(tick_marks, class_names, rotation=25, fontsize=12)\n",
    "plt.yticks(tick_marks, class_names, rotation=0, fontsize=12)\n",
    "plt.xlabel('Predicted', fontsize=14)\n",
    "plt.ylabel('Actual', fontsize=14)\n",
    "           \n",
    "# Save and show figure\n",
    "# plt.savefig('figures/confusion_matrix.png')\n",
    "plt.show()"
   ]
  },
  {
   "cell_type": "code",
   "execution_count": null,
   "metadata": {},
   "outputs": [],
   "source": [
    "# Get predicitions of class probabilities \n",
    "probs = rf_classifier.predict_proba(gene_signatures_test) "
   ]
  },
  {
   "cell_type": "code",
   "execution_count": null,
   "metadata": {},
   "outputs": [],
   "source": [
    "# Convert probabilities into dataframe and add predicted class\n",
    "df_classification_probs = pd.DataFrame(probs, columns = 'prob_'+y_test.dtype.categories)\n",
    "df_classification_probs['Prediction'] = y_pred\n",
    "df_classification_probs"
   ]
  },
  {
   "cell_type": "code",
   "execution_count": null,
   "metadata": {},
   "outputs": [],
   "source": [
    "# Investigate predictions of class probabilities per predicted label\n",
    "\n",
    "# Loop over the three persister cell categories\n",
    "for i in range(len(y_train.dtype.categories)): \n",
    "    group = y_train.dtype.categories[i] # get group name\n",
    "    df_group_probs = df_classification_probs[df_classification_probs['Prediction']==group] # get the probabilities for the cells of the investigated group\n",
    "    mean_prob = np.mean(df_group_probs['prob_'+group]) # get the mean probability per group\n",
    "    \n",
    "    # print(group,'- min probability of the prediction for the class {:.2f}'.format(np.min(df_group_probs[group]))) \n",
    "    # print(group,'- max probability of the prediction for the class {:.2f}'.format(np.max(df_group_probs[group]))) \n",
    "    print(group,'- mean probability of the prediction for the class {:.2f}'.format(mean_prob))"
   ]
  },
  {
   "cell_type": "code",
   "execution_count": null,
   "metadata": {},
   "outputs": [],
   "source": [
    "# Predict cell fate for other cells\n",
    "\n",
    "# calculate the gene signature score per group for complete data set\n",
    "gene_signatures_data_complete = get_gene_signature_scores(adata_psuedocount, list_dfs_ranked_genes_filtered)\n",
    "\n",
    "# Predict on the cells from other time points\n",
    "y_pred_complete = rf_classifier.predict(gene_signatures_data_complete) \n",
    "\n",
    "# assign predicted cell fates to new obs in the adata object\n",
    "adata_psuedocount.obs['cell_fate_prediction']=y_pred_complete\n",
    "adata_psuedocount.obs"
   ]
  },
  {
   "cell_type": "code",
   "execution_count": null,
   "metadata": {},
   "outputs": [],
   "source": [
    "### Predicted label/cell type\n",
    "# Group and count occurrences\n",
    "grouped_data = adata_psuedocount.obs.groupby(['time_point','cell_fate_prediction']).size().reset_index(name='count')\n",
    "# print(grouped_data)\n",
    "# Pivot dataframe for percentages\n",
    "pivot = grouped_data.pivot(index='time_point', columns='cell_fate_prediction', values='count').fillna(0)\n",
    "# print(pivot)\n",
    "# Calculate percentages\n",
    "pivot_percentage = pivot.div(pivot.sum(axis=1), axis=0) * 100\n",
    "print(pivot_percentage)\n",
    "\n",
    "\n",
    "### Real label/cell type\n",
    "# Group and count occurrences\n",
    "grouped_data_day14 = adata_psuedocount_day14.obs.groupby(['time_point','sample_type']).size().reset_index(name='count')\n",
    "# Pivot dataframe for percentages\n",
    "pivot_day14 = grouped_data_day14.pivot(index='time_point', columns='sample_type', values='count').fillna(0)\n",
    "# Calculate percentages\n",
    "pivot_day14_percentage = pivot_day14.div(pivot_day14.sum(axis=1), axis=0) * 100\n",
    "print(pivot_day14_percentage)\n",
    "\n",
    "### Plot the stacked barplot\n",
    "import matplotlib.cm as cm\n",
    "from matplotlib.gridspec import GridSpec\n",
    "\n",
    "# Create a colormap instance\n",
    "cmap = cm.get_cmap(\"PuBu\")\n",
    "# Get three equally spaced colors, avoiding the lightest shade\n",
    "colors = cmap([0.7, 0.5, 0.3])  # Adjust these values to pick darker shades\n",
    "# Colors for the real labels\n",
    "colors_real_labels = ['#1f77b4','#ff7f0e','#2ca02c']\n",
    "\n",
    "# Create a figure with subplots. Use GridSpec to define subplot sizes\n",
    "fig = plt.figure(figsize=(12, 6))\n",
    "gs = GridSpec(1, 3, width_ratios=[4, 1, 0.1])  # 3 parts: 3/4 of space for first, 1/4 for second, 0.1 for spacing\n",
    "\n",
    "# Create subplots\n",
    "ax1 = fig.add_subplot(gs[0])  # First subplot (wider)\n",
    "ax2 = fig.add_subplot(gs[1])  # Second subplot (narrower)\n",
    "\n",
    "# Set the axes background to white\n",
    "ax1.set_facecolor('white')\n",
    "ax2.set_facecolor('white')\n",
    "\n",
    "# Add a black border around each plot\n",
    "for spine in ax1.spines.values():\n",
    "    spine.set_edgecolor('black')\n",
    "for spine in ax2.spines.values():\n",
    "    spine.set_edgecolor('black')\n",
    "\n",
    "pivot_percentage.plot(kind=\"bar\", stacked=True, ax=ax1, color=colors, fontsize=12)\n",
    "ax1.set_xlabel('Day of measurement', fontsize=14)\n",
    "ax1.set_ylabel('Percentage of cells (%)', fontsize=14)\n",
    "ax1.set_title('Predicted cell fates', fontsize=16)\n",
    "ax1.tick_params(rotation=0)\n",
    "\n",
    "pivot_day14_percentage.plot(kind=\"bar\", stacked=True, ax=ax2, color=colors_real_labels, fontsize=12)\n",
    "ax2.set_xlabel('Day of measurement', fontsize=14)\n",
    "ax2.set_ylabel('Percentage of cells (%)', fontsize=14)\n",
    "ax2.set_title('Actual cell fate', fontsize=16)\n",
    "ax2.tick_params(rotation=0)\n",
    "ax1.set_facecolor('white')\n",
    "\n",
    "plt.tight_layout()\n",
    "# plt.savefig('/home/jolien/Notebooks/gene_signature/figures/Distribution_predicted_vs_real_classes.png')\n",
    "plt.show()"
   ]
  },
  {
   "cell_type": "code",
   "execution_count": null,
   "metadata": {},
   "outputs": [],
   "source": [
    "# # UMAP plot colored by predicted cell fate (predicted based on gene signature) and sample type\n",
    "# sc.tl.umap(adata_psuedocount,random_state=123)\n",
    "# sc.pl.umap(adata_psuedocount, color=['sample_type','cell_fate_prediction'], save=\"UMAP_predicted_cell_fate.png\")"
   ]
  },
  {
   "cell_type": "code",
   "execution_count": null,
   "metadata": {},
   "outputs": [],
   "source": [
    "# Plot force-directed graph with PAGA graph as initial cluster position - colored by predicted cell fate\n",
    "sc.pl.draw_graph(adata_psuedocount, color=['cell_fate_prediction'])#, save=\"_PAGA_predicted_cell_fate.png\")"
   ]
  },
  {
   "cell_type": "markdown",
   "metadata": {},
   "source": [
    "# Cross validation"
   ]
  },
  {
   "cell_type": "code",
   "execution_count": null,
   "metadata": {},
   "outputs": [],
   "source": [
    "# Define parameters\n",
    "n_splits = 5            # Number of folds for cross-validation\n",
    "nr_genes = 150          # Number of genes to rank / in gene signature         \n",
    "method = 'wilcoxon'     # Statistical method to identify gene signatures    \n",
    "nr_DEGs_threshold = 75\n",
    "\n",
    "# Stratified K-Folds cross-validator --> keeps class distribution similar in each fold\n",
    "skf = StratifiedKFold(n_splits=n_splits, shuffle=True, random_state=42)\n",
    "\n",
    "# Placeholders \n",
    "all_DEGs = []                           # Placeholder for DEGs from each fold\n",
    "all_models = []                         # Placeholder for classification model from each fold\n",
    "all_predictions = []                    # Placeholder for classification predictions from each fold\n",
    "all_fold_accuracies = []                # Placeholder for accuracies from each fold\n",
    "all_fold_classification_reports = []    # Placeholder for classification reports from each fold\n",
    "y_tests=[]                              # Placeholder for labels of test data set from each fold\n",
    "\n",
    "\n",
    "### Model development\n",
    "# Loop over each fold in StratifiedKFold \n",
    "for train_index, test_index in skf.split(adata_psuedocount_day14, adata_psuedocount_day14.obs['sample_type']):\n",
    "    \n",
    "    ## Step 1: Split data in train and test set\n",
    "    X_train, X_test = adata_psuedocount_day14[train_index], adata_psuedocount_day14[test_index]\n",
    "    y_train, y_test = adata_psuedocount_day14.obs['sample_type'][train_index], adata_psuedocount_day14.obs['sample_type'][test_index]\n",
    "    y_tests.append(y_test) # store the real labels of the test set to enable making a confusion matrix of the best model\n",
    "\n",
    "    ## Step 2: Identify differentially expressed genes (DEGs) between groups for training data and filter the genes based on the criteria of the authors of the persister cell paper\n",
    "    list_dfs_ranked_genes_filtered = identify_gene_signatures(X_train, 'sample_type', nr_genes, method, y_train, 0.2, 0.001, nr_DEGs_threshold)\n",
    "    all_DEGs.append(list_dfs_ranked_genes_filtered)\n",
    "\n",
    "    ## Step 3: Calculate gene signature scores based on DEGs\n",
    "    gene_signatures_train = get_gene_signature_scores(X_train, list_dfs_ranked_genes_filtered)\n",
    "    gene_signatures_test = get_gene_signature_scores(X_test, list_dfs_ranked_genes_filtered)\n",
    "\n",
    "    ## Step 4: Train classification model (Random Forest model)\n",
    "    rf_classifier = RandomForestClassifier(random_state=42)             # Initialize the classifier\n",
    "    rf_classifier.fit(gene_signatures_train, y_train)                   # Train the model\n",
    "    all_models.append(rf_classifier)\n",
    "\n",
    "    ## Step 5: Predict on the test set\n",
    "    y_pred = rf_classifier.predict(gene_signatures_test)                                # predict class on the test set\n",
    "    # Get predicitions of class probabilities \n",
    "    probs = rf_classifier.predict_proba(gene_signatures_test)                           # predict class probabilities\n",
    "    df_classification_probs = pd.DataFrame(probs, columns = 'prob_'+y_test.dtype.categories)    # convert probabilities into dataframe \n",
    "    df_classification_probs['Prediction'] = y_pred                                      # add predicted class in a new column\n",
    "    all_predictions.append(df_classification_probs)\n",
    "\n",
    "    ## Step 6: Evaluate the performance and store the results\n",
    "    # Accuracy\n",
    "    accuracy = accuracy_score(y_test, y_pred)                           # accuracy of the predictions\n",
    "    all_fold_accuracies.append(accuracy)\n",
    "    # Classification report\n",
    "    report = classification_report(y_test, y_pred, output_dict=True)    # classification report, including precision, recall, f1 scores of the classification model\n",
    "    report = pd.DataFrame(report)                                       # convert results into dataframe\n",
    "    all_fold_classification_reports.append(report)\n",
    "\n",
    "\n",
    "### Model predictions on cells of other days\n",
    "# Select model with the highest accuracy\n",
    "best_model_index = all_fold_accuracies.index(max(all_fold_accuracies)) # index of the model with highest accuracy\n",
    "best_model = all_models[best_model_index]\n",
    "print(f'Accuracy of the best model: {all_fold_accuracies[best_model_index]}')\n",
    "print(f'Classification report of the best model: {all_fold_classification_reports[best_model_index]}')\n",
    "\n",
    "# Calculate the gene signature score per group for complete data set - using the gene signature of the best model\n",
    "gene_signatures_data_complete = get_gene_signature_scores(adata_psuedocount, all_DEGs[best_model_index])\n",
    "\n",
    "# Predict on the cells from other time points\n",
    "y_pred_complete = best_model.predict(gene_signatures_data_complete) \n",
    "\n",
    "# Assign predicted cell fates to new obs in the adata object\n",
    "adata_psuedocount.obs['cell_fate_prediction']=y_pred_complete"
   ]
  },
  {
   "cell_type": "code",
   "execution_count": null,
   "metadata": {},
   "outputs": [],
   "source": [
    "print(all_fold_accuracies)\n",
    "all_fold_classification_reports[0]"
   ]
  },
  {
   "cell_type": "code",
   "execution_count": null,
   "metadata": {},
   "outputs": [],
   "source": [
    "for model_index in range(5):\n",
    "    print(model_index)\n",
    "\n",
    "\n",
    "    # Get and reshape confusion matrix\n",
    "    conf_matrix = confusion_matrix(y_tests[model_index], all_predictions[model_index]['Prediction'])\n",
    "    conf_matrix = conf_matrix.astype('float') / conf_matrix.sum(axis=1)[:, np.newaxis] # Noramlize values to get ratios instead of absolute counts\n",
    "\n",
    "    # Plot confusion matrix\n",
    "    sns.heatmap(conf_matrix, annot=True, cmap='Blues', fmt='g')\n",
    "\n",
    "    # Add labels to the plot\n",
    "    class_names = ['Cycling','Moderate_cyclers','Non-cycling']\n",
    "    tick_marks = np.arange(len(class_names)) + 0.5\n",
    "    plt.xticks(tick_marks, class_names, rotation=25)\n",
    "    plt.yticks(tick_marks, class_names, rotation=0)\n",
    "    plt.xlabel('Predicted')\n",
    "    plt.ylabel('Actual')\n",
    "            \n",
    "    # Save and show figure\n",
    "    # plt.savefig('figures/confusion_matrix_best_model.png')\n",
    "    plt.show()"
   ]
  },
  {
   "cell_type": "code",
   "execution_count": null,
   "metadata": {},
   "outputs": [],
   "source": [
    "print(\"Confusion Matrix of the best model from the crossvalidation:\")\n",
    "\n",
    "# Get and reshape confusion matrix\n",
    "conf_matrix_best_model = confusion_matrix(y_tests[best_model_index], all_predictions[best_model_index]['Prediction'])\n",
    "conf_matrix_best_model = conf_matrix_best_model.astype('float') / conf_matrix_best_model.sum(axis=1)[:, np.newaxis] # Noramlize values to get ratios instead of absolute counts\n",
    "\n",
    "# Plot confusion matrix\n",
    "sns.heatmap(conf_matrix_best_model, annot=True, cmap='Blues', fmt='g')\n",
    "\n",
    "# Add labels to the plot\n",
    "class_names = ['Cycling','Moderate_cyclers','Non-cycling']\n",
    "tick_marks = np.arange(len(class_names)) + 0.5\n",
    "plt.xticks(tick_marks, class_names, rotation=25)\n",
    "plt.yticks(tick_marks, class_names, rotation=0)\n",
    "plt.xlabel('Predicted')\n",
    "plt.ylabel('Actual')\n",
    "           \n",
    "# Save and show figure\n",
    "plt.savefig('figures/confusion_matrix_best_model.png')\n",
    "plt.show()"
   ]
  },
  {
   "cell_type": "code",
   "execution_count": null,
   "metadata": {},
   "outputs": [],
   "source": [
    "# all_predictions[0][all_predictions[0]['Prediction'] != all_predictions[1]['Prediction']]"
   ]
  },
  {
   "cell_type": "code",
   "execution_count": null,
   "metadata": {},
   "outputs": [],
   "source": [
    "# all_predictions[1][all_predictions[0]['Prediction'] != all_predictions[1]['Prediction']]"
   ]
  },
  {
   "cell_type": "markdown",
   "metadata": {},
   "source": [
    "### Visualize predicted classes with best model"
   ]
  },
  {
   "cell_type": "code",
   "execution_count": null,
   "metadata": {},
   "outputs": [],
   "source": [
    "### Predicted label/cell type\n",
    "# Group and count occurrences\n",
    "grouped_data = adata_psuedocount.obs.groupby(['time_point','cell_fate_prediction']).size().reset_index(name='count')\n",
    "# print(grouped_data)\n",
    "# Pivot dataframe for percentages\n",
    "pivot = grouped_data.pivot(index='time_point', columns='cell_fate_prediction', values='count').fillna(0)\n",
    "# print(pivot)\n",
    "# Calculate percentages\n",
    "pivot_percentage = pivot.div(pivot.sum(axis=1), axis=0) * 100\n",
    "print(pivot_percentage)\n",
    "\n",
    "\n",
    "### Real label/cell type\n",
    "# Group and count occurrences\n",
    "grouped_data_day14 = adata_psuedocount_day14.obs.groupby(['time_point','sample_type']).size().reset_index(name='count')\n",
    "# Pivot dataframe for percentages\n",
    "pivot_day14 = grouped_data_day14.pivot(index='time_point', columns='sample_type', values='count').fillna(0)\n",
    "# Calculate percentages\n",
    "pivot_day14_percentage = pivot_day14.div(pivot_day14.sum(axis=1), axis=0) * 100\n",
    "print(pivot_day14_percentage)\n",
    "\n",
    "### Plot the stacked barplot\n",
    "import matplotlib.cm as cm\n",
    "from matplotlib.gridspec import GridSpec\n",
    "\n",
    "# Create a colormap instance\n",
    "cmap = cm.get_cmap(\"PuBu\")\n",
    "# Get three equally spaced colors, avoiding the lightest shade\n",
    "colors = cmap([0.3, 0.5, 0.7])  # Adjust these values to pick darker shades\n",
    "\n",
    "# Create a figure with subplots. Use GridSpec to define subplot sizes\n",
    "fig = plt.figure(figsize=(12, 6))\n",
    "gs = GridSpec(1, 3, width_ratios=[4, 1, 0.1])  # 3 parts: 3/4 of space for first, 1/4 for second, 0.1 for spacing\n",
    "\n",
    "# Create subplots\n",
    "ax1 = fig.add_subplot(gs[0])  # First subplot (wider)\n",
    "ax2 = fig.add_subplot(gs[1])  # Second subplot (narrower)\n",
    "\n",
    "pivot_percentage.plot(kind=\"bar\", stacked=True, ax=ax1, color=colors, xlabel='Day of measurment', ylabel='Percentage of cells (%)', title='Distribution pedicted classes per time point')\n",
    "pivot_day14_percentage.plot(kind=\"bar\", stacked=True, ax=ax2, cmap='viridis', xlabel='Day of measurment', ylabel='Percentage of cells (%)', title='Distribution real classes at day 14')\n",
    "\n",
    "plt.tight_layout()\n",
    "plt.savefig('/home/jolien/Notebooks/gene_signature/figures/Distribution_predicted_vs_real_classes_best_model.png')"
   ]
  },
  {
   "cell_type": "code",
   "execution_count": null,
   "metadata": {},
   "outputs": [],
   "source": [
    "# UMAP plot colored by predicted cell fate (predicted based on gene signature) and sample type\n",
    "sc.tl.umap(adata_psuedocount,random_state=123)\n",
    "sc.pl.umap(adata_psuedocount, color=['sample_type','cell_fate_prediction'], save=\"UMAP_predicted_cell_fate_best_model.png\")"
   ]
  },
  {
   "cell_type": "markdown",
   "metadata": {},
   "source": [
    "# Save AnnData object with predicted classes"
   ]
  },
  {
   "cell_type": "code",
   "execution_count": null,
   "metadata": {},
   "outputs": [],
   "source": [
    "adata_preprocessed.obs['Predicted_cell_fate'] = adata_psuedocount.obs['cell_fate_prediction'] # copy cell fate predictions to the original adata object for saving (psuedocount data and gene signature scores are not needed to be stored)"
   ]
  },
  {
   "cell_type": "code",
   "execution_count": null,
   "metadata": {},
   "outputs": [],
   "source": [
    "# adata_preprocessed.write('/home/jolien/Notebooks/data/preprocessed_data_v2_with_predicted_class_v2.h5ad')"
   ]
  }
 ],
 "metadata": {
  "kernelspec": {
   "display_name": "python_env_grninference",
   "language": "python",
   "name": "python3"
  },
  "language_info": {
   "codemirror_mode": {
    "name": "ipython",
    "version": 3
   },
   "file_extension": ".py",
   "mimetype": "text/x-python",
   "name": "python",
   "nbconvert_exporter": "python",
   "pygments_lexer": "ipython3",
   "version": "3.11.2"
  }
 },
 "nbformat": 4,
 "nbformat_minor": 2
}
